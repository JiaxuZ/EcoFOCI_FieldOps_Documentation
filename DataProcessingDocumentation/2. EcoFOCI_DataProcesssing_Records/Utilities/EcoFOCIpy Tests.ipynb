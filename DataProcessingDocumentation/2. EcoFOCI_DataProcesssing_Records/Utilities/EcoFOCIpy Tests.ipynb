{
 "cells": [
  {
   "cell_type": "code",
   "execution_count": 6,
   "id": "63d6816b-fc08-4a13-a3de-34141e7b9fdb",
   "metadata": {},
   "outputs": [],
   "source": [
    "from EcoFOCIpy.math.lanzcos import lanzcos, low_pass_weights, spectral_filtering, spectral_window\n",
    "import numpy as np\n",
    "import pytest"
   ]
  },
  {
   "cell_type": "code",
   "execution_count": 17,
   "id": "dc8da368-20b9-47dc-baea-6061d51f4858",
   "metadata": {},
   "outputs": [],
   "source": [
    "def test_lanzcos_empty_data():\n",
    "    data = np.array([])\n",
    "    dt = 1.0\n",
    "    Cf = 35.0\n",
    "    # Expect error from numpy.fft.fft if input is empty\n",
    "    with pytest.raises(ZeroDivisionError):\n",
    "        lanzcos(data, dt, Cf)"
   ]
  },
  {
   "cell_type": "code",
   "execution_count": 18,
   "id": "6f70eba2-7bd0-46d5-b466-36ddca956483",
   "metadata": {},
   "outputs": [],
   "source": [
    "test_lanzcos_empty_data()"
   ]
  },
  {
   "cell_type": "code",
   "execution_count": 23,
   "id": "3f31e3d5-6de9-4400-9174-e1124b13497e",
   "metadata": {},
   "outputs": [],
   "source": [
    "def test_lanzcos_empty_data():\n",
    "    data = np.array([])\n",
    "    dt = 1.0\n",
    "    Cf = 35.0\n",
    "    # Expect division by zero error as length(n) is 0\n",
    "    with pytest.raises(ValueError, match=\"empty sequence\"):\n",
    "        lanzcos(data, dt, Cf)"
   ]
  },
  {
   "cell_type": "code",
   "execution_count": 78,
   "id": "bf361433-de35-4733-8b3b-2ff9d31169bf",
   "metadata": {},
   "outputs": [],
   "source": [
    "def test_lanzcos_single_point_data():\n",
    "    data = np.array([10.0])\n",
    "    dt = 1.0\n",
    "    Cf = 35.0\n",
    "    # For a single point, FFT is just the point. Filtering should return the point itself.\n",
    "    filtered_data = lanzcos(data, dt, Cf)\n",
    "    assert isinstance(filtered_data, np.ndarray)\n",
    "    assert len(filtered_data) == len(data)\n",
    "    assert np.isclose(filtered_data[0] + np.mean(data[0]), data[0])\n"
   ]
  },
  {
   "cell_type": "code",
   "execution_count": 79,
   "id": "77a105b8-b1ba-41ca-a198-14548719bc57",
   "metadata": {},
   "outputs": [],
   "source": [
    "test_lanzcos_single_point_data()"
   ]
  },
  {
   "cell_type": "code",
   "execution_count": 76,
   "id": "b7f37330-7a28-4f0d-9beb-77ccc07bbd2a",
   "metadata": {},
   "outputs": [],
   "source": [
    "t = np.arange(12)\n",
    "data = np.sin(2 * np.pi * t / 5.0) + np.sin(2 * np.pi * t / 50.0)+2\n",
    "dt = 1.0\n",
    "Cf = 35.0"
   ]
  },
  {
   "cell_type": "code",
   "execution_count": 77,
   "id": "456f9146-0887-4517-8af6-22c4be1bdb23",
   "metadata": {},
   "outputs": [
    {
     "data": {
      "text/plain": [
       "array([2.65831151, 2.65836953, 2.65839321, 2.65844179, 2.6584441 ,\n",
       "       2.65838065, 2.65831512, 2.65831104, 2.6583485 , 2.65835572,\n",
       "       2.65831162, 2.65831941])"
      ]
     },
     "execution_count": 77,
     "metadata": {},
     "output_type": "execute_result"
    }
   ],
   "source": [
    "lanzcos(data, dt, Cf)+np.mean(data)"
   ]
  },
  {
   "cell_type": "code",
   "execution_count": 71,
   "id": "1b5563bb-486e-4e31-809d-1cec684ec069",
   "metadata": {},
   "outputs": [
    {
     "data": {
      "text/plain": [
       "array([2.        , 3.07638975, 2.83647514, 1.7803393 , 1.53069716,\n",
       "       2.58778525, 3.63560362, 3.3582985 , 2.25654267, 1.95377054,\n",
       "       2.95105652, 3.93334377])"
      ]
     },
     "execution_count": 71,
     "metadata": {},
     "output_type": "execute_result"
    }
   ],
   "source": [
    "data"
   ]
  },
  {
   "cell_type": "code",
   "execution_count": null,
   "id": "5e3b7024-d382-4dfc-925f-d8af58d2cdc1",
   "metadata": {},
   "outputs": [],
   "source": []
  }
 ],
 "metadata": {
  "kernelspec": {
   "display_name": "Python [conda env:p312]",
   "language": "python",
   "name": "conda-env-p312-py"
  },
  "language_info": {
   "codemirror_mode": {
    "name": "ipython",
    "version": 3
   },
   "file_extension": ".py",
   "mimetype": "text/x-python",
   "name": "python",
   "nbconvert_exporter": "python",
   "pygments_lexer": "ipython3",
   "version": "3.12.10"
  }
 },
 "nbformat": 4,
 "nbformat_minor": 5
}
