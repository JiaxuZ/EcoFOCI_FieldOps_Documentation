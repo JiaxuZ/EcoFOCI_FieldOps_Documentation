{
 "cells": [
  {
   "cell_type": "code",
   "execution_count": 2,
   "id": "3f0ab11c-6b5b-4dc9-9e5b-dde69083f452",
   "metadata": {},
   "outputs": [],
   "source": [
    "import xarray as xa\n",
    "import os"
   ]
  },
  {
   "cell_type": "code",
   "execution_count": 13,
   "id": "5e082126-47e7-4c69-8245-3b7edbfc5dcb",
   "metadata": {},
   "outputs": [],
   "source": [
    "path = '/Users/bell/ecoraid/2017/Moorings/17bsm2a/erddap/final_data/'\n",
    "name = '18bs2c_sc_0066m.cf.nc'"
   ]
  },
  {
   "cell_type": "code",
   "execution_count": 14,
   "id": "aca63117-00a6-4106-b442-ab11542ed107",
   "metadata": {},
   "outputs": [
    {
     "name": "stdout",
     "output_type": "stream",
     "text": [
      "17bsm2a_s37_0050m.cf.nc\n",
      "17bsm2a_s39_0028m.cf.nc\n",
      "17bsm2a_ecf_0011m.cf.nc\n",
      "17bsm2a_mt4070_0004m.cf.nc\n",
      "17bsm2a_s39_0018m.cf.nc\n",
      "17bsm2a_s37_0060m.cf.nc\n",
      "17bsm2a_sc_0006m.cf.nc\n",
      "17bsm2a_mt4063_0032m.cf.nc\n",
      "17bsm2a_s56_0055m.cf.nc\n",
      "17bsm2a_s56_0047m.cf.nc\n",
      "17bsm2a_wpak.cf.nc\n",
      "17bsm2a_mt4134_0004m.cf.nc\n",
      "17bsm2a_sc_0001m.cf.nc\n",
      "17bsm2a_s56_0009m.cf.nc\n",
      "17bsm2a_sc_0044m.cf.nc\n",
      "17bsm2a_mt4068_0032m.cf.nc\n",
      "17bsm2a_ecf_0055m.cf.nc\n",
      "17bsm2a_s39_0039m.cf.nc\n",
      "17bsm2a_ecf_0024m.cf.nc\n",
      "17bsm2a_s39_0035m.cf.nc\n",
      "17bsm2a_s39_0015m.cf.nc\n",
      "17bsm2a_s39_0021m.cf.nc\n",
      "17bsm2a_an9_0052m.cf.nc\n",
      "17bsm2a_s37_0024m.cf.nc\n",
      "17bsm2a_s37_0012m.cf.nc\n"
     ]
    },
    {
     "name": "stderr",
     "output_type": "stream",
     "text": [
      "/var/folders/6r/n_mpcj7d7pdf9ncqvjy5vb8c0000jm/T/ipykernel_95074/778355236.py:10: UserWarning: Times can't be serialized faithfully to int64 with requested units 'days since 1900-01-01'. Resolution of 'hours' needed. Serializing times to floating point instead. Set encoding['dtype'] to integer dtype to serialize to int64. Set encoding['dtype'] to floating point dtype to silence this warning.\n",
      "  xdf.to_netcdf(path=file,format=\"NETCDF3_CLASSIC\",\n",
      "/var/folders/6r/n_mpcj7d7pdf9ncqvjy5vb8c0000jm/T/ipykernel_95074/778355236.py:10: UserWarning: Times can't be serialized faithfully to int64 with requested units 'days since 1900-01-01'. Resolution of 'nanoseconds' needed. Serializing times to floating point instead. Set encoding['dtype'] to integer dtype to serialize to int64. Set encoding['dtype'] to floating point dtype to silence this warning.\n",
      "  xdf.to_netcdf(path=file,format=\"NETCDF3_CLASSIC\",\n",
      "/var/folders/6r/n_mpcj7d7pdf9ncqvjy5vb8c0000jm/T/ipykernel_95074/778355236.py:10: UserWarning: Times can't be serialized faithfully to int64 with requested units 'days since 1900-01-01'. Resolution of 'nanoseconds' needed. Serializing times to floating point instead. Set encoding['dtype'] to integer dtype to serialize to int64. Set encoding['dtype'] to floating point dtype to silence this warning.\n",
      "  xdf.to_netcdf(path=file,format=\"NETCDF3_CLASSIC\",\n",
      "/var/folders/6r/n_mpcj7d7pdf9ncqvjy5vb8c0000jm/T/ipykernel_95074/778355236.py:10: UserWarning: Times can't be serialized faithfully to int64 with requested units 'days since 1900-01-01'. Resolution of 'hours' needed. Serializing times to floating point instead. Set encoding['dtype'] to integer dtype to serialize to int64. Set encoding['dtype'] to floating point dtype to silence this warning.\n",
      "  xdf.to_netcdf(path=file,format=\"NETCDF3_CLASSIC\",\n",
      "/var/folders/6r/n_mpcj7d7pdf9ncqvjy5vb8c0000jm/T/ipykernel_95074/778355236.py:10: UserWarning: Times can't be serialized faithfully to int64 with requested units 'days since 1900-01-01'. Resolution of 'hours' needed. Serializing times to floating point instead. Set encoding['dtype'] to integer dtype to serialize to int64. Set encoding['dtype'] to floating point dtype to silence this warning.\n",
      "  xdf.to_netcdf(path=file,format=\"NETCDF3_CLASSIC\",\n",
      "/var/folders/6r/n_mpcj7d7pdf9ncqvjy5vb8c0000jm/T/ipykernel_95074/778355236.py:10: UserWarning: Times can't be serialized faithfully to int64 with requested units 'days since 1900-01-01'. Resolution of 'hours' needed. Serializing times to floating point instead. Set encoding['dtype'] to integer dtype to serialize to int64. Set encoding['dtype'] to floating point dtype to silence this warning.\n",
      "  xdf.to_netcdf(path=file,format=\"NETCDF3_CLASSIC\",\n",
      "/var/folders/6r/n_mpcj7d7pdf9ncqvjy5vb8c0000jm/T/ipykernel_95074/778355236.py:10: UserWarning: Times can't be serialized faithfully to int64 with requested units 'days since 1900-01-01'. Resolution of 'hours' needed. Serializing times to floating point instead. Set encoding['dtype'] to integer dtype to serialize to int64. Set encoding['dtype'] to floating point dtype to silence this warning.\n",
      "  xdf.to_netcdf(path=file,format=\"NETCDF3_CLASSIC\",\n",
      "/var/folders/6r/n_mpcj7d7pdf9ncqvjy5vb8c0000jm/T/ipykernel_95074/778355236.py:10: UserWarning: Times can't be serialized faithfully to int64 with requested units 'days since 1900-01-01'. Resolution of 'nanoseconds' needed. Serializing times to floating point instead. Set encoding['dtype'] to integer dtype to serialize to int64. Set encoding['dtype'] to floating point dtype to silence this warning.\n",
      "  xdf.to_netcdf(path=file,format=\"NETCDF3_CLASSIC\",\n",
      "/var/folders/6r/n_mpcj7d7pdf9ncqvjy5vb8c0000jm/T/ipykernel_95074/778355236.py:10: UserWarning: Times can't be serialized faithfully to int64 with requested units 'days since 1900-01-01'. Resolution of 'nanoseconds' needed. Serializing times to floating point instead. Set encoding['dtype'] to integer dtype to serialize to int64. Set encoding['dtype'] to floating point dtype to silence this warning.\n",
      "  xdf.to_netcdf(path=file,format=\"NETCDF3_CLASSIC\",\n",
      "/var/folders/6r/n_mpcj7d7pdf9ncqvjy5vb8c0000jm/T/ipykernel_95074/778355236.py:10: UserWarning: Times can't be serialized faithfully to int64 with requested units 'days since 1900-01-01'. Resolution of 'nanoseconds' needed. Serializing times to floating point instead. Set encoding['dtype'] to integer dtype to serialize to int64. Set encoding['dtype'] to floating point dtype to silence this warning.\n",
      "  xdf.to_netcdf(path=file,format=\"NETCDF3_CLASSIC\",\n",
      "/var/folders/6r/n_mpcj7d7pdf9ncqvjy5vb8c0000jm/T/ipykernel_95074/778355236.py:10: UserWarning: Times can't be serialized faithfully to int64 with requested units 'days since 1900-01-01'. Resolution of 'nanoseconds' needed. Serializing times to floating point instead. Set encoding['dtype'] to integer dtype to serialize to int64. Set encoding['dtype'] to floating point dtype to silence this warning.\n",
      "  xdf.to_netcdf(path=file,format=\"NETCDF3_CLASSIC\",\n",
      "/var/folders/6r/n_mpcj7d7pdf9ncqvjy5vb8c0000jm/T/ipykernel_95074/778355236.py:10: UserWarning: Times can't be serialized faithfully to int64 with requested units 'days since 1900-01-01'. Resolution of 'nanoseconds' needed. Serializing times to floating point instead. Set encoding['dtype'] to integer dtype to serialize to int64. Set encoding['dtype'] to floating point dtype to silence this warning.\n",
      "  xdf.to_netcdf(path=file,format=\"NETCDF3_CLASSIC\",\n",
      "/var/folders/6r/n_mpcj7d7pdf9ncqvjy5vb8c0000jm/T/ipykernel_95074/778355236.py:10: UserWarning: Times can't be serialized faithfully to int64 with requested units 'days since 1900-01-01'. Resolution of 'minutes' needed. Serializing times to floating point instead. Set encoding['dtype'] to integer dtype to serialize to int64. Set encoding['dtype'] to floating point dtype to silence this warning.\n",
      "  xdf.to_netcdf(path=file,format=\"NETCDF3_CLASSIC\",\n",
      "/var/folders/6r/n_mpcj7d7pdf9ncqvjy5vb8c0000jm/T/ipykernel_95074/778355236.py:10: UserWarning: Times can't be serialized faithfully to int64 with requested units 'days since 1900-01-01'. Resolution of 'hours' needed. Serializing times to floating point instead. Set encoding['dtype'] to integer dtype to serialize to int64. Set encoding['dtype'] to floating point dtype to silence this warning.\n",
      "  xdf.to_netcdf(path=file,format=\"NETCDF3_CLASSIC\",\n"
     ]
    }
   ],
   "source": [
    "for file in os.listdir(path):\n",
    "    if file.endswith('.nc'):\n",
    "        print(file)\n",
    "        xdf = xa.load_dataset(f'{path}{file}')\n",
    "    \n",
    "        try:\n",
    "            attrs = xdf['P_1'].attrs\n",
    "            attrs['units'] = 'dbar'\n",
    "    \n",
    "            xdf.to_netcdf(path=file,format=\"NETCDF3_CLASSIC\",\n",
    "                  encoding={'time':{'units':'days since 1900-01-01'}})\n",
    "    \n",
    "        except:\n",
    "            pass"
   ]
  },
  {
   "cell_type": "code",
   "execution_count": null,
   "id": "b40967dd-7e17-48d1-acf9-b09f051bcb5c",
   "metadata": {},
   "outputs": [],
   "source": []
  }
 ],
 "metadata": {
  "kernelspec": {
   "display_name": "Python [conda env:p312]",
   "language": "python",
   "name": "conda-env-p312-py"
  },
  "language_info": {
   "codemirror_mode": {
    "name": "ipython",
    "version": 3
   },
   "file_extension": ".py",
   "mimetype": "text/x-python",
   "name": "python",
   "nbconvert_exporter": "python",
   "pygments_lexer": "ipython3",
   "version": "3.12.1"
  }
 },
 "nbformat": 4,
 "nbformat_minor": 5
}
