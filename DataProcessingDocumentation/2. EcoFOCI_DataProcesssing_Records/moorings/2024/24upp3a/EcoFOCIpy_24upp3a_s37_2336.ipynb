{
 "cells": [
  {
   "cell_type": "markdown",
   "id": "educational-chosen",
   "metadata": {},
   "source": [
    "# Using EcoFOCIpy to process raw field data\n",
    "\n",
    "## Mooring / Timeseries Data\n",
    "\n",
    "Basic workflow for each instrument grouping is *(initial archive level)*:\n",
    "- Parse data from raw files into pandas dataframe\n",
    "- output initial files (pandas->csv) **ERDDAP NRT** when no meta data is added\n",
    "\n",
    "Convert to xarray dataframe for all following work *(working or final data level):\n",
    "- TODO: Add metadata from instrument yaml files and/or header info\n",
    "- ingest metadata from deployment/recovery records or cast logs\n",
    "- process data beyond simple file translate\n",
    "- apply any calibrations or corrections\n",
    "    + field corrections\n",
    "    + offsets\n",
    "    + instrument compensations\n",
    "    + some QC were available... this would be old-school simple bounds mostly\n",
    "- adjust time bounds and sample frequency (xarray dataframe)\n",
    "- save as CF netcdf via xarray: so many of the steps above are optional\n",
    "    + **ERDDAP NRT** if no corrections, offsets or time bounds are applied but some meta data is\n",
    "    + **Working and awaiting QC** has no ERDDAP representation and is a holding spot\n",
    "    + **ERDDAP Final** fully calibrated, qc'd and populated with meta information\n",
    "\n",
    "Plot for preview and QC\n",
    "- preview images (indiv and/or collectively)\n",
    "- manual qc process\n",
    "- automated qc process ML/AI\n",
    "\n",
    "Further refinenments for ERDDAP hosting:\n"
   ]
  },
  {
   "cell_type": "markdown",
   "id": "allied-miniature",
   "metadata": {},
   "source": [
    "## Example below is for SBE-37 but the workflow is similar for all instruments.\n",
    "\n",
    "Future processing of this instrument can be a simplified (no markdown) process which can be archived so that the procedure can be traced or updated"
   ]
  },
  {
   "cell_type": "code",
   "execution_count": 1,
   "id": "studied-pollution",
   "metadata": {
    "tags": []
   },
   "outputs": [],
   "source": [
    "%matplotlib inline\n",
    "import matplotlib.pyplot as plt\n",
    "import yaml\n",
    "\n",
    "import EcoFOCIpy.io.sbe_parser as sbe_parser #<- instrument specific\n",
    "import EcoFOCIpy.io.ncCFsave as ncCFsave\n",
    "import EcoFOCIpy.metaconfig.load_config as load_config"
   ]
  },
  {
   "cell_type": "markdown",
   "id": "public-millennium",
   "metadata": {},
   "source": [
    "The sample_data_dir should be included in the github package but may not be included in the pip install of the package\n",
    "\n",
    "## Simple Processing - first step"
   ]
  },
  {
   "cell_type": "code",
   "execution_count": 2,
   "id": "offensive-level",
   "metadata": {
    "tags": []
   },
   "outputs": [],
   "source": [
    "sample_data_dir = '/Users/bell/Programs/EcoFOCIpy/'\n",
    "user_data_dir = '/Users/bell/ecoraid/2024/Moorings/24bs4a/'"
   ]
  },
  {
   "cell_type": "code",
   "execution_count": 3,
   "id": "third-yellow",
   "metadata": {
    "tags": []
   },
   "outputs": [],
   "source": [
    "###############################################################\n",
    "# edit to point to {instrument sepcific} raw datafile \n",
    "datafile = user_data_dir+'raw/sbe37/24bs4a_sbe37_2336_70m.asc'\n",
    "instrument = 'SBE-37 2336'\n",
    "mooring_meta_file = user_data_dir+'logs/24BS-4A.yaml'\n",
    "inst_meta_file = sample_data_dir+'staticdata/instr_metaconfig/sbe37_cf.yaml'\n",
    "institution_meta_file = sample_data_dir+'staticdata/institutional_meta_example.yaml' #include uaf?\n",
    "inst_shortname = 's37'\n",
    "###############################################################\n",
    "\n",
    "#init and load data\n",
    "sbe37_wop = sbe_parser.sbe37()\n",
    "(sbe37_wop_data,sbe37_wop_header) = sbe37_wop.parse(filename=datafile,\n",
    "                                                    return_header=True,\n",
    "                                                    datetime_index=True) "
   ]
  },
  {
   "cell_type": "markdown",
   "id": "metallic-youth",
   "metadata": {},
   "source": [
    "The data is output as a pandas dataframe from the intial module call and if its available, a header"
   ]
  },
  {
   "cell_type": "code",
   "execution_count": 4,
   "id": "fifteen-military",
   "metadata": {
    "tags": []
   },
   "outputs": [
    {
     "data": {
      "text/plain": [
       "['* Sea-Bird SBE37 Data File:\\n',\n",
       " '* FileName = C:\\\\data\\\\moorings\\\\2025\\\\24-BS-4c_sbe37_2336__70m.asc\\n',\n",
       " '* Software Version 1.59\\n',\n",
       " '* Temperature SN = 2336\\n',\n",
       " '* Conductivity SN = 2336\\n',\n",
       " '* System UpLoad Time = May 05 2025 20:03:35\\n',\n",
       " '* ds\\n',\n",
       " '* SBE37-SM V 2.6b  SERIAL NO. 2336    05 May 2025  20:04:06\\n',\n",
       " '* not logging: received stop command\\n',\n",
       " '* sample interval = 3600 seconds\\n',\n",
       " '* samplenumber = 8925, free = 181725\\n',\n",
       " '* do not transmit real-time data\\n',\n",
       " '* output salinity with each sample\\n',\n",
       " '* do not output sound velocity with each sample\\n',\n",
       " '* store time with each sample\\n',\n",
       " '* number of samples to average = 4\\n',\n",
       " '* serial sync mode disabled\\n',\n",
       " '* wait time after serial sync sampling = 30 seconds\\n',\n",
       " '* internal pump not installed\\n',\n",
       " '* temperature = 6.70 deg C\\n',\n",
       " '\\n',\n",
       " '\\n',\n",
       " '* S>\\n',\n",
       " '* SBE37-SM V 2.6b  2336\\n',\n",
       " '* temperature:  21-may-21\\n',\n",
       " '*     TA0 = -3.196031e-04\\n',\n",
       " '*     TA1 = 3.664411e-04\\n',\n",
       " '*     TA2 = -1.060443e-05\\n',\n",
       " '*     TA3 = 3.987652e-07\\n',\n",
       " '* conductivity:  21-may-21\\n',\n",
       " '*     G = -1.036612e+00\\n',\n",
       " '*     H = 1.532940e-01\\n',\n",
       " '*     I = -2.167941e-05\\n',\n",
       " '*     J = 2.954004e-05\\n',\n",
       " '*     CPCOR = -9.570000e-08\\n',\n",
       " '*     CTCOR = 3.250000e-06\\n',\n",
       " '*     WBOTC = 1.282732e-05\\n',\n",
       " '* pressure S/N 1453, range = 1450 psia:  26-apr-21\\n',\n",
       " '*     PA0 = 4.602769e-01\\n',\n",
       " '*     PA1 = 6.907816e-02\\n',\n",
       " '*     PA2 = -5.969886e-09\\n',\n",
       " '*     PTCA0 = 5.684888e+01\\n',\n",
       " '*     PTCA1 = 2.684368e-01\\n',\n",
       " '*     PTCA2 = 1.175427e-03\\n',\n",
       " '*     PTCSB0 = 2.507525e+01\\n',\n",
       " '*     PTCSB1 = 6.500000e-04\\n',\n",
       " '*     PTCSB2 = 0.000000e+00\\n',\n",
       " '*     POFFSET = 0.000000e+00\\n',\n",
       " '* rtc:  21-may-21\\n',\n",
       " '*     RTCA0 = 1.000005e+00\\n',\n",
       " '*     RTCA1 = 1.600715e-06\\n',\n",
       " '*     RTCA2 = -3.533683e-08\\n',\n",
       " '\\n',\n",
       " '\\n',\n",
       " '* S> \\n',\n",
       " '*END*\\n']"
      ]
     },
     "execution_count": 4,
     "metadata": {},
     "output_type": "execute_result"
    }
   ],
   "source": [
    "sbe37_wop_header"
   ]
  },
  {
   "cell_type": "code",
   "execution_count": 5,
   "id": "alive-bruce",
   "metadata": {
    "tags": []
   },
   "outputs": [
    {
     "data": {
      "text/html": [
       "<div>\n",
       "<style scoped>\n",
       "    .dataframe tbody tr th:only-of-type {\n",
       "        vertical-align: middle;\n",
       "    }\n",
       "\n",
       "    .dataframe tbody tr th {\n",
       "        vertical-align: top;\n",
       "    }\n",
       "\n",
       "    .dataframe thead th {\n",
       "        text-align: right;\n",
       "    }\n",
       "</style>\n",
       "<table border=\"1\" class=\"dataframe\">\n",
       "  <thead>\n",
       "    <tr style=\"text-align: right;\">\n",
       "      <th></th>\n",
       "      <th>temperature</th>\n",
       "      <th>conductivity</th>\n",
       "      <th>pressure</th>\n",
       "      <th>salinity</th>\n",
       "    </tr>\n",
       "    <tr>\n",
       "      <th>date_time</th>\n",
       "      <th></th>\n",
       "      <th></th>\n",
       "      <th></th>\n",
       "      <th></th>\n",
       "    </tr>\n",
       "  </thead>\n",
       "  <tbody>\n",
       "    <tr>\n",
       "      <th>2024-04-29 00:00:06</th>\n",
       "      <td>16.1505</td>\n",
       "      <td>0.00000</td>\n",
       "      <td>-0.218</td>\n",
       "      <td>0.0000</td>\n",
       "    </tr>\n",
       "    <tr>\n",
       "      <th>2024-04-29 01:00:06</th>\n",
       "      <td>15.1645</td>\n",
       "      <td>-0.00001</td>\n",
       "      <td>-0.218</td>\n",
       "      <td>0.0000</td>\n",
       "    </tr>\n",
       "    <tr>\n",
       "      <th>2024-04-29 02:00:06</th>\n",
       "      <td>13.9450</td>\n",
       "      <td>-0.00002</td>\n",
       "      <td>-0.218</td>\n",
       "      <td>0.0000</td>\n",
       "    </tr>\n",
       "    <tr>\n",
       "      <th>2024-04-29 03:00:06</th>\n",
       "      <td>13.1251</td>\n",
       "      <td>-0.00002</td>\n",
       "      <td>-0.200</td>\n",
       "      <td>0.0000</td>\n",
       "    </tr>\n",
       "    <tr>\n",
       "      <th>2024-04-29 04:00:06</th>\n",
       "      <td>12.7376</td>\n",
       "      <td>-0.00003</td>\n",
       "      <td>-0.200</td>\n",
       "      <td>0.0000</td>\n",
       "    </tr>\n",
       "    <tr>\n",
       "      <th>...</th>\n",
       "      <td>...</td>\n",
       "      <td>...</td>\n",
       "      <td>...</td>\n",
       "      <td>...</td>\n",
       "    </tr>\n",
       "    <tr>\n",
       "      <th>2025-05-05 16:00:06</th>\n",
       "      <td>6.9229</td>\n",
       "      <td>-0.00004</td>\n",
       "      <td>-0.236</td>\n",
       "      <td>0.0000</td>\n",
       "    </tr>\n",
       "    <tr>\n",
       "      <th>2025-05-05 17:00:06</th>\n",
       "      <td>6.9259</td>\n",
       "      <td>-0.00004</td>\n",
       "      <td>-0.236</td>\n",
       "      <td>0.0000</td>\n",
       "    </tr>\n",
       "    <tr>\n",
       "      <th>2025-05-05 18:00:06</th>\n",
       "      <td>6.9699</td>\n",
       "      <td>-0.00002</td>\n",
       "      <td>-0.236</td>\n",
       "      <td>0.0000</td>\n",
       "    </tr>\n",
       "    <tr>\n",
       "      <th>2025-05-05 19:00:06</th>\n",
       "      <td>6.7200</td>\n",
       "      <td>0.00003</td>\n",
       "      <td>-0.254</td>\n",
       "      <td>0.0031</td>\n",
       "    </tr>\n",
       "    <tr>\n",
       "      <th>2025-05-05 20:00:06</th>\n",
       "      <td>6.7054</td>\n",
       "      <td>0.00008</td>\n",
       "      <td>-0.254</td>\n",
       "      <td>0.0032</td>\n",
       "    </tr>\n",
       "  </tbody>\n",
       "</table>\n",
       "<p>8925 rows × 4 columns</p>\n",
       "</div>"
      ],
      "text/plain": [
       "                     temperature  conductivity  pressure  salinity\n",
       "date_time                                                         \n",
       "2024-04-29 00:00:06      16.1505       0.00000    -0.218    0.0000\n",
       "2024-04-29 01:00:06      15.1645      -0.00001    -0.218    0.0000\n",
       "2024-04-29 02:00:06      13.9450      -0.00002    -0.218    0.0000\n",
       "2024-04-29 03:00:06      13.1251      -0.00002    -0.200    0.0000\n",
       "2024-04-29 04:00:06      12.7376      -0.00003    -0.200    0.0000\n",
       "...                          ...           ...       ...       ...\n",
       "2025-05-05 16:00:06       6.9229      -0.00004    -0.236    0.0000\n",
       "2025-05-05 17:00:06       6.9259      -0.00004    -0.236    0.0000\n",
       "2025-05-05 18:00:06       6.9699      -0.00002    -0.236    0.0000\n",
       "2025-05-05 19:00:06       6.7200       0.00003    -0.254    0.0031\n",
       "2025-05-05 20:00:06       6.7054       0.00008    -0.254    0.0032\n",
       "\n",
       "[8925 rows x 4 columns]"
      ]
     },
     "execution_count": 5,
     "metadata": {},
     "output_type": "execute_result"
    }
   ],
   "source": [
    "sbe37_wop_data"
   ]
  },
  {
   "cell_type": "markdown",
   "id": "ready-audit",
   "metadata": {},
   "source": [
    "## Time properties\n",
    "\n",
    "Its unusual that our clocks drift to the point of concern for our instruments (if an instrument is off by 3 minutes but only sampling hourly... regridding that data will result in minimal changes).  However, there are a few time oriented modifications that may need to be made."
   ]
  },
  {
   "cell_type": "markdown",
   "id": "supposed-bankruptcy",
   "metadata": {},
   "source": [
    "It is very easy to use pandas interplation and resample methods on the dataframe as is.  A few steps are suggested below:\n",
    "- parse out on-deck (predeployment and recovery) data.  This can be done via pandas or xarray but requires the mooring metadata to have been read in.  See future steps below.\n",
    "- even if the sample frequency is set to the desired measurement frequency, it would be good to perform a quick regridding as an assurance task\n",
    "- FOCI data is usualy 1min, 10min, 1hr - and the 1min data is a fairly new (sbe56) data stream\n",
    "    + subsampling high frequency data to lower frequency is easy via df.resample().mean()\n",
    "    + you may want to take the median instead of the mean for noisy data (fluorometer) , occasionally decimating may be more appropriate if you want to downsize the dataset size but not smear features\n",
    "    + shifting times can be a bit more involved.  There are two primary ways to do it, interpolate or shift\n",
    "        - to interpolate, you will need to upsample your data to a higher frequency which will generate missing values, then interpolate (with a maximum gap size), then decimate.  This always has the artifact of smoothing data and decreasing the min/max values. **common on microcats and other 10min datasets**\n",
    "        - shifting usually just involves droping extra time \"digits\", if you want hourly, you could just drop the trailing minutes assuming you are just off the hour (8:05 -> 8:00) or you can round to the nearest time unit but niether of these changes the data value, just the time associated with it. **common on seacats and other hourly datasets**\n",
    "    + I suggest if no change is needed... resample().mean() to the sample frequency just in case there is a small deviation from expected (<1min)\n",
    "    "
   ]
  },
  {
   "cell_type": "code",
   "execution_count": 6,
   "id": "fourth-perspective",
   "metadata": {
    "tags": []
   },
   "outputs": [
    {
     "data": {
      "text/html": [
       "<div>\n",
       "<style scoped>\n",
       "    .dataframe tbody tr th:only-of-type {\n",
       "        vertical-align: middle;\n",
       "    }\n",
       "\n",
       "    .dataframe tbody tr th {\n",
       "        vertical-align: top;\n",
       "    }\n",
       "\n",
       "    .dataframe thead th {\n",
       "        text-align: right;\n",
       "    }\n",
       "</style>\n",
       "<table border=\"1\" class=\"dataframe\">\n",
       "  <thead>\n",
       "    <tr style=\"text-align: right;\">\n",
       "      <th></th>\n",
       "      <th>temperature</th>\n",
       "      <th>conductivity</th>\n",
       "      <th>pressure</th>\n",
       "      <th>salinity</th>\n",
       "    </tr>\n",
       "    <tr>\n",
       "      <th>date_time</th>\n",
       "      <th></th>\n",
       "      <th></th>\n",
       "      <th></th>\n",
       "      <th></th>\n",
       "    </tr>\n",
       "  </thead>\n",
       "  <tbody>\n",
       "    <tr>\n",
       "      <th>2024-04-29 00:00:00</th>\n",
       "      <td>16.1505</td>\n",
       "      <td>0.00000</td>\n",
       "      <td>-0.218</td>\n",
       "      <td>0.0000</td>\n",
       "    </tr>\n",
       "    <tr>\n",
       "      <th>2024-04-29 01:00:00</th>\n",
       "      <td>15.1645</td>\n",
       "      <td>-0.00001</td>\n",
       "      <td>-0.218</td>\n",
       "      <td>0.0000</td>\n",
       "    </tr>\n",
       "    <tr>\n",
       "      <th>2024-04-29 02:00:00</th>\n",
       "      <td>13.9450</td>\n",
       "      <td>-0.00002</td>\n",
       "      <td>-0.218</td>\n",
       "      <td>0.0000</td>\n",
       "    </tr>\n",
       "    <tr>\n",
       "      <th>2024-04-29 03:00:00</th>\n",
       "      <td>13.1251</td>\n",
       "      <td>-0.00002</td>\n",
       "      <td>-0.200</td>\n",
       "      <td>0.0000</td>\n",
       "    </tr>\n",
       "    <tr>\n",
       "      <th>2024-04-29 04:00:00</th>\n",
       "      <td>12.7376</td>\n",
       "      <td>-0.00003</td>\n",
       "      <td>-0.200</td>\n",
       "      <td>0.0000</td>\n",
       "    </tr>\n",
       "    <tr>\n",
       "      <th>...</th>\n",
       "      <td>...</td>\n",
       "      <td>...</td>\n",
       "      <td>...</td>\n",
       "      <td>...</td>\n",
       "    </tr>\n",
       "    <tr>\n",
       "      <th>2025-05-05 16:00:00</th>\n",
       "      <td>6.9229</td>\n",
       "      <td>-0.00004</td>\n",
       "      <td>-0.236</td>\n",
       "      <td>0.0000</td>\n",
       "    </tr>\n",
       "    <tr>\n",
       "      <th>2025-05-05 17:00:00</th>\n",
       "      <td>6.9259</td>\n",
       "      <td>-0.00004</td>\n",
       "      <td>-0.236</td>\n",
       "      <td>0.0000</td>\n",
       "    </tr>\n",
       "    <tr>\n",
       "      <th>2025-05-05 18:00:00</th>\n",
       "      <td>6.9699</td>\n",
       "      <td>-0.00002</td>\n",
       "      <td>-0.236</td>\n",
       "      <td>0.0000</td>\n",
       "    </tr>\n",
       "    <tr>\n",
       "      <th>2025-05-05 19:00:00</th>\n",
       "      <td>6.7200</td>\n",
       "      <td>0.00003</td>\n",
       "      <td>-0.254</td>\n",
       "      <td>0.0031</td>\n",
       "    </tr>\n",
       "    <tr>\n",
       "      <th>2025-05-05 20:00:00</th>\n",
       "      <td>6.7054</td>\n",
       "      <td>0.00008</td>\n",
       "      <td>-0.254</td>\n",
       "      <td>0.0032</td>\n",
       "    </tr>\n",
       "  </tbody>\n",
       "</table>\n",
       "<p>8925 rows × 4 columns</p>\n",
       "</div>"
      ],
      "text/plain": [
       "                     temperature  conductivity  pressure  salinity\n",
       "date_time                                                         \n",
       "2024-04-29 00:00:00      16.1505       0.00000    -0.218    0.0000\n",
       "2024-04-29 01:00:00      15.1645      -0.00001    -0.218    0.0000\n",
       "2024-04-29 02:00:00      13.9450      -0.00002    -0.218    0.0000\n",
       "2024-04-29 03:00:00      13.1251      -0.00002    -0.200    0.0000\n",
       "2024-04-29 04:00:00      12.7376      -0.00003    -0.200    0.0000\n",
       "...                          ...           ...       ...       ...\n",
       "2025-05-05 16:00:00       6.9229      -0.00004    -0.236    0.0000\n",
       "2025-05-05 17:00:00       6.9259      -0.00004    -0.236    0.0000\n",
       "2025-05-05 18:00:00       6.9699      -0.00002    -0.236    0.0000\n",
       "2025-05-05 19:00:00       6.7200       0.00003    -0.254    0.0031\n",
       "2025-05-05 20:00:00       6.7054       0.00008    -0.254    0.0032\n",
       "\n",
       "[8925 rows x 4 columns]"
      ]
     },
     "execution_count": 6,
     "metadata": {},
     "output_type": "execute_result"
    }
   ],
   "source": [
    "sbe37_wop_data.index = sbe37_wop_data.index.round(freq='30T')\n",
    "sbe37_wop_data"
   ]
  },
  {
   "cell_type": "code",
   "execution_count": 7,
   "id": "undefined-membrane",
   "metadata": {
    "tags": []
   },
   "outputs": [
    {
     "data": {
      "text/plain": [
       "<Axes: xlabel='date_time'>"
      ]
     },
     "execution_count": 7,
     "metadata": {},
     "output_type": "execute_result"
    },
    {
     "data": {
      "image/png": "[encoded data removed]",
      "text/plain": [
       "<Figure size 640x480 with 1 Axes>"
      ]
     },
     "metadata": {},
     "output_type": "display_data"
    }
   ],
   "source": [
    "sbe37_wop_data.plot()"
   ]
  },
  {
   "cell_type": "markdown",
   "id": "acknowledged-active",
   "metadata": {},
   "source": [
    "## Add Deployment meta information\n",
    "\n",
    "Two methods are available (if comming from python2 world - ordereddict was important... in py38 a dictionary is inherently ordered)"
   ]
  },
  {
   "cell_type": "code",
   "execution_count": 8,
   "id": "freelance-fairy",
   "metadata": {
    "tags": []
   },
   "outputs": [],
   "source": [
    "#just a dictionary of dictionaries - simple\n",
    "with open(mooring_meta_file) as file:\n",
    "    mooring_config = yaml.full_load(file)"
   ]
  },
  {
   "cell_type": "code",
   "execution_count": 9,
   "id": "ef639835-3d06-4b26-bc62-5d07a01fa3fd",
   "metadata": {
    "tags": []
   },
   "outputs": [],
   "source": [
    "#just a dictionary of dictionaries - simple\n",
    "with open(institution_meta_file) as file:\n",
    "    institution_config = yaml.full_load(file)"
   ]
  },
  {
   "cell_type": "markdown",
   "id": "8646e306-adbe-4919-91c5-8721ccae110b",
   "metadata": {},
   "source": [
    "## Calculate Salinity as it wasn't included in the sbe cnv file as it usually is"
   ]
  },
  {
   "cell_type": "code",
   "execution_count": 10,
   "id": "bc1eaa72-d537-4d15-9356-bb5923eced96",
   "metadata": {},
   "outputs": [
    {
     "name": "stderr",
     "output_type": "stream",
     "text": [
      "/var/folders/6r/n_mpcj7d7pdf9ncqvjy5vb8c0000jm/T/ipykernel_12020/885599460.py:1: UserWarning: The seawater library is deprecated! Please use gsw instead.\n",
      "  import seawater as sw\n",
      "/Users/bell/mambaforge/envs/p312/lib/python3.12/site-packages/seawater/library.py:355: RuntimeWarning: invalid value encountered in sqrt\n",
      "  Rtx = (rt) ** 0.5\n"
     ]
    }
   ],
   "source": [
    "import seawater as sw\n",
    "\n",
    "try:\n",
    "    sbe37_wop_data['salinity'] = sw.salt(sbe37_wop_data['conductivity'] * (10 / 42.914), sbe37_wop_data['temperature'], sbe37_wop_data['pressure'])\n",
    "except:\n",
    "    depth = int(mooring_config['Instrumentation'][instrument]['ActualDepth'])\n",
    "\n",
    "    print(f'Using reference presure:{depth}')\n",
    "    sbe37_wop_data['salinity'] = sw.salt(sbe37_wop_data['conductivity'] * (10 / 42.914), sbe37_wop_data['temperature'], depth)\n"
   ]
  },
  {
   "cell_type": "markdown",
   "id": "mysterious-cornwall",
   "metadata": {
    "tags": []
   },
   "source": [
    "## Add Instrument meta information\n",
    "\n",
    "Time, depth, lat, lon should be added regardless (always our coordinates) but for a mooring site its going to be a (1,1,1,t) dataset\n",
    "The variables of interest should be read from the data file and matched to a key for naming.  That key is in the inst_config file seen below and should represent common conversion names in the raw data"
   ]
  },
  {
   "cell_type": "code",
   "execution_count": 11,
   "id": "476e2edd",
   "metadata": {
    "tags": []
   },
   "outputs": [],
   "source": [
    "with open(inst_meta_file) as file:\n",
    "    inst_config = yaml.full_load(file)"
   ]
  },
  {
   "cell_type": "code",
   "execution_count": 12,
   "id": "varied-popularity",
   "metadata": {
    "tags": []
   },
   "outputs": [
    {
     "data": {
      "text/plain": [
       "<EcoFOCIpy.io.ncCFsave.EcoFOCI_CFnc at 0x17ccbff20>"
      ]
     },
     "execution_count": 12,
     "metadata": {},
     "output_type": "execute_result"
    }
   ],
   "source": [
    "# Add meta data and prelim processing based on meta data\n",
    "# Convert to xarray and add meta information - save as CF netcdf file\n",
    "# pass -> data, instmeta, depmeta\n",
    "sbe37_wop_nc = ncCFsave.EcoFOCI_CFnc(df=sbe37_wop_data, \n",
    "                                instrument_yaml=inst_config, \n",
    "                                operation_yaml=mooring_config,\n",
    "                                operation_type='mooring', \n",
    "                                instrument_id=instrument, \n",
    "                                inst_shortname=inst_shortname)\n",
    "sbe37_wop_nc"
   ]
  },
  {
   "cell_type": "markdown",
   "id": "asian-chambers",
   "metadata": {},
   "source": [
    "At this point, you could save your file with the `.xarray2netcdf_save()` method and have a functioning dataset.... but it would be very simple with no additional qc, meta-data, or tuned parameters for optimizing software like ferret or erddap."
   ]
  },
  {
   "cell_type": "code",
   "execution_count": 13,
   "id": "practical-pennsylvania",
   "metadata": {
    "tags": []
   },
   "outputs": [],
   "source": [
    "# expand the dimensions and coordinate variables\n",
    "# renames them appropriatley and prepares them for meta-filled values\n",
    "sbe37_wop_nc.expand_dimensions()"
   ]
  },
  {
   "cell_type": "code",
   "execution_count": 14,
   "id": "floral-operations",
   "metadata": {
    "tags": []
   },
   "outputs": [
    {
     "ename": "KeyError",
     "evalue": "'SBE-37 2336'",
     "output_type": "error",
     "traceback": [
      "\u001b[0;31m---------------------------------------------------------------------------\u001b[0m",
      "\u001b[0;31mKeyError\u001b[0m                                  Traceback (most recent call last)",
      "Cell \u001b[0;32mIn[14], line 2\u001b[0m\n\u001b[1;32m      1\u001b[0m sbe37_wop_nc\u001b[38;5;241m.\u001b[39mvariable_meta_data(variable_keys\u001b[38;5;241m=\u001b[39m\u001b[38;5;28mlist\u001b[39m(sbe37_wop_data\u001b[38;5;241m.\u001b[39mcolumns\u001b[38;5;241m.\u001b[39mvalues),drop_missing\u001b[38;5;241m=\u001b[39m\u001b[38;5;28;01mTrue\u001b[39;00m)\n\u001b[0;32m----> 2\u001b[0m \u001b[43msbe37_wop_nc\u001b[49m\u001b[38;5;241;43m.\u001b[39;49m\u001b[43mtemporal_geospatioal_meta_data\u001b[49m\u001b[43m(\u001b[49m\u001b[43mdepth\u001b[49m\u001b[38;5;241;43m=\u001b[39;49m\u001b[38;5;124;43m'\u001b[39;49m\u001b[38;5;124;43mactual\u001b[39;49m\u001b[38;5;124;43m'\u001b[39;49m\u001b[43m)\u001b[49m\n\u001b[1;32m      3\u001b[0m \u001b[38;5;66;03m#adding dimension meta needs to come after updating the dimension values... BUG?\u001b[39;00m\n\u001b[1;32m      4\u001b[0m sbe37_wop_nc\u001b[38;5;241m.\u001b[39mdimension_meta_data(variable_keys\u001b[38;5;241m=\u001b[39m[\u001b[38;5;124m'\u001b[39m\u001b[38;5;124mdepth\u001b[39m\u001b[38;5;124m'\u001b[39m,\u001b[38;5;124m'\u001b[39m\u001b[38;5;124mlatitude\u001b[39m\u001b[38;5;124m'\u001b[39m,\u001b[38;5;124m'\u001b[39m\u001b[38;5;124mlongitude\u001b[39m\u001b[38;5;124m'\u001b[39m])\n",
      "File \u001b[0;32m~/src/ecofocipy/src/EcoFOCIpy/io/ncCFsave.py:230\u001b[0m, in \u001b[0;36mEcoFOCI_CFnc.temporal_geospatioal_meta_data\u001b[0;34m(self, positiveE, depth)\u001b[0m\n\u001b[1;32m    228\u001b[0m     \u001b[38;5;28mself\u001b[39m\u001b[38;5;241m.\u001b[39mxdf[\u001b[38;5;124m'\u001b[39m\u001b[38;5;124mdepth\u001b[39m\u001b[38;5;124m'\u001b[39m] \u001b[38;5;241m=\u001b[39m [\u001b[38;5;28mself\u001b[39m\u001b[38;5;241m.\u001b[39moperation_yaml[\u001b[38;5;124m'\u001b[39m\u001b[38;5;124mInstrumentation\u001b[39m\u001b[38;5;124m'\u001b[39m][\u001b[38;5;28mself\u001b[39m\u001b[38;5;241m.\u001b[39minstrument_id][\u001b[38;5;124m'\u001b[39m\u001b[38;5;124mDesignedDepth\u001b[39m\u001b[38;5;124m'\u001b[39m]]\n\u001b[1;32m    229\u001b[0m \u001b[38;5;28;01melif\u001b[39;00m depth\u001b[38;5;241m.\u001b[39mlower() \u001b[38;5;129;01min\u001b[39;00m [\u001b[38;5;124m'\u001b[39m\u001b[38;5;124mactual\u001b[39m\u001b[38;5;124m'\u001b[39m]:\n\u001b[0;32m--> 230\u001b[0m     \u001b[38;5;28mself\u001b[39m\u001b[38;5;241m.\u001b[39mxdf[\u001b[38;5;124m'\u001b[39m\u001b[38;5;124mdepth\u001b[39m\u001b[38;5;124m'\u001b[39m] \u001b[38;5;241m=\u001b[39m [\u001b[38;5;28;43mself\u001b[39;49m\u001b[38;5;241;43m.\u001b[39;49m\u001b[43moperation_yaml\u001b[49m\u001b[43m[\u001b[49m\u001b[38;5;124;43m'\u001b[39;49m\u001b[38;5;124;43mInstrumentation\u001b[39;49m\u001b[38;5;124;43m'\u001b[39;49m\u001b[43m]\u001b[49m\u001b[43m[\u001b[49m\u001b[38;5;28;43mself\u001b[39;49m\u001b[38;5;241;43m.\u001b[39;49m\u001b[43minstrument_id\u001b[49m\u001b[43m]\u001b[49m[\u001b[38;5;124m'\u001b[39m\u001b[38;5;124mActualDepth\u001b[39m\u001b[38;5;124m'\u001b[39m]]\n\u001b[1;32m    231\u001b[0m \u001b[38;5;28;01melif\u001b[39;00m depth\u001b[38;5;241m.\u001b[39mlower() \u001b[38;5;129;01min\u001b[39;00m [\u001b[38;5;124m'\u001b[39m\u001b[38;5;124madcp\u001b[39m\u001b[38;5;124m'\u001b[39m]:\n\u001b[1;32m    232\u001b[0m     \u001b[38;5;28mprint\u001b[39m(\u001b[38;5;124m'\u001b[39m\u001b[38;5;124mno change to depth variable\u001b[39m\u001b[38;5;124m'\u001b[39m)\n",
      "\u001b[0;31mKeyError\u001b[0m: 'SBE-37 2336'"
     ]
    }
   ],
   "source": [
    "sbe37_wop_nc.variable_meta_data(variable_keys=list(sbe37_wop_data.columns.values),drop_missing=True)\n",
    "sbe37_wop_nc.temporal_geospatioal_meta_data(depth='actual')\n",
    "#adding dimension meta needs to come after updating the dimension values... BUG?\n",
    "sbe37_wop_nc.dimension_meta_data(variable_keys=['depth','latitude','longitude'])"
   ]
  },
  {
   "cell_type": "markdown",
   "id": "seventh-product",
   "metadata": {},
   "source": [
    "The following steps can happen in just about any order and are all meta-data driven.  Therefore, they are not required to have a functioning dataset, but they are required to have a well described dataset"
   ]
  },
  {
   "cell_type": "code",
   "execution_count": null,
   "id": "auburn-diversity",
   "metadata": {
    "tags": []
   },
   "outputs": [],
   "source": [
    "#add global attributes\n",
    "sbe37_wop_nc.deployment_meta_add()\n",
    "sbe37_wop_nc.get_xdf()\n",
    "\n",
    "#add instituitonal global attributes\n",
    "sbe37_wop_nc.institution_meta_add(institution_yaml=institution_config)\n",
    "\n",
    "#add instrument global attributes\n",
    "sbe37_wop_nc.instrument_meta_data()\n",
    "\n",
    "#add creation date/time - provenance data\n",
    "sbe37_wop_nc.provinance_meta_add()\n",
    "\n",
    "#provide intial qc status field\n",
    "sbe37_wop_nc.qc_status(qc_status='unknown')"
   ]
  },
  {
   "cell_type": "markdown",
   "id": "sustained-hughes",
   "metadata": {},
   "source": [
    "## Save CF Netcdf files\n",
    "\n",
    "Currently stick to netcdf3 classic... but migrating to netcdf4 (default) may be no problems for most modern purposes.  Its easy enough to pass the `format` kwargs through to the netcdf api of xarray."
   ]
  },
  {
   "cell_type": "code",
   "execution_count": null,
   "id": "modular-volunteer",
   "metadata": {
    "tags": []
   },
   "outputs": [],
   "source": [
    "# combine trim (not mandatory) and filename together (saves to test.nc without name)\n",
    "\n",
    "depth = str(int(mooring_config['Instrumentation'][instrument]['ActualDepth'])).zfill(4)\n",
    "# mooring_yaml['Instrumentation'][self.instrument_id]['DesignedDepth'])).zfill(4) #<-- alternative\n",
    "filename = \"\".join(mooring_config['MooringID'].split('-')).lower()+'_'+inst_shortname+'_'+depth+'m.nc'\n",
    "sbe37_wop_nc.xarray2netcdf_save(xdf = sbe37_wop_nc.autotrim_time(),\n",
    "                           filename=filename,format=\"NETCDF3_CLASSIC\")\n",
    "\n",
    "# don't trim the data and pass your own filename\n",
    "# sbe37_wop_nc.xarray2netcdf_save(xdf = sbe37_wop_nc.get_xdf(),\n",
    "#                            filename=filename,format=\"NETCDF4_CLASSIC\")"
   ]
  },
  {
   "cell_type": "code",
   "execution_count": null,
   "id": "e56f5fce-3fde-40a4-8655-3e0e06b5c6dc",
   "metadata": {
    "tags": []
   },
   "outputs": [],
   "source": [
    "sbe37_wop_nc.autotrim_time()"
   ]
  },
  {
   "cell_type": "code",
   "execution_count": null,
   "id": "7d48784b-60ef-48aa-9505-d8048ba213ed",
   "metadata": {
    "tags": []
   },
   "outputs": [],
   "source": [
    "try:\n",
    "    print(sbe37_wop_nc.autotrim_time().pressure.mean())\n",
    "except:\n",
    "    print(f'likely no pressure variable in datafile')"
   ]
  },
  {
   "cell_type": "code",
   "execution_count": null,
   "id": "d8ea4f9d-120b-4845-b563-973c6cc1bf75",
   "metadata": {
    "tags": []
   },
   "outputs": [],
   "source": [
    "#wrap the plot in image settings for visual appeal\n",
    "# may be able to make this cleaner or just a preset\n",
    "%run '../../../settings/mpl_plot_settings.py'\n",
    "\n",
    "%matplotlib inline\n",
    "import matplotlib.dates as mdates\n",
    "from matplotlib.dates import YearLocator, WeekdayLocator, MonthLocator, DayLocator, HourLocator, DateFormatter\n",
    "import matplotlib.ticker as ticker\n",
    "\n",
    "\n",
    "fig, ax = plt.subplots(3,figsize=(24, 6),sharex=True)\n",
    "sbe37_wop_nc.autotrim_time().temperature.plot(ax=ax[0],color='r')\n",
    "sbe37_wop_nc.autotrim_time().salinity.plot(ax=ax[1],color='b')\n",
    "try:\n",
    "    sbe37_wop_nc.autotrim_time().pressure.plot(ax=ax[2],color='k')\n",
    "except:\n",
    "    pass\n",
    "\n",
    "# xfmt = mdates.DateFormatter('%d-%b')\n",
    "ax[2].xaxis.set_major_locator(DayLocator(bymonthday=1))\n",
    "ax[2].xaxis.set_minor_locator(DayLocator(bymonthday=15))\n",
    "ax[2].xaxis.set_minor_formatter(DateFormatter('%b %Y'))\n",
    "ax[2].xaxis.set_major_formatter(DateFormatter(''))\n",
    "ax[2].xaxis.set_tick_params(which='major', pad=3)\n",
    "ax[2].xaxis.set_tick_params(which='minor', pad=5)"
   ]
  },
  {
   "cell_type": "code",
   "execution_count": null,
   "id": "bac4fa8e-96a5-4301-993c-b969e15a2008",
   "metadata": {
    "tags": []
   },
   "outputs": [],
   "source": [
    "#csvoutput if necessary - untrimmed for deck analysis\n",
    "(sbe37_wop_nc.get_xdf().to_dataframe()).to_csv(filename.replace('nc','csv'))"
   ]
  },
  {
   "cell_type": "markdown",
   "id": "individual-nature",
   "metadata": {},
   "source": [
    "## Next Steps\n",
    "\n",
    "QC of data (plot parameters with other instruments)\n",
    "- be sure to updated the qc_status and the history"
   ]
  },
  {
   "cell_type": "markdown",
   "id": "edc0682b-e828-4a66-a7b3-2fb11547660f",
   "metadata": {},
   "source": [
    "**no pressure var - so assume pressure correction from other depths**"
   ]
  },
  {
   "cell_type": "markdown",
   "id": "5dea076c-3873-411c-92bd-7a791989171a",
   "metadata": {},
   "source": [
    "## QC plotting against CTDs (here or in a seperate ipynb)"
   ]
  },
  {
   "cell_type": "code",
   "execution_count": null,
   "id": "8eda0353-a4b1-4085-aebb-b3b9d458bf2c",
   "metadata": {
    "tags": []
   },
   "outputs": [],
   "source": [
    "import matplotlib.pyplot as plt\n",
    "import pandas as pd\n",
    "import EcoFOCIpy.io.erddap as erddap\n",
    "import datetime\n",
    "\n",
    "# erddap.test_erddap_connection(url=url) #basic test for connection to internal server, no response is a good thing"
   ]
  },
  {
   "cell_type": "code",
   "execution_count": null,
   "id": "108bd6c4-99f3-4830-8ccc-106f75ee463e",
   "metadata": {
    "tags": []
   },
   "outputs": [],
   "source": [
    "dep_details = {'url':\"http://ecofoci-field.pmel.noaa.gov:8082/erddap\",\n",
    "               'cruiseid':'dy2410',\n",
    "               'qclevel':'preliminary',\n",
    "               'concastno':'033'\n",
    "              }\n",
    "\n",
    "rec_details = {'url':\"http://ecofoci-field.pmel.noaa.gov:8082/erddap\",\n",
    "               'cruiseid':'dy2504',\n",
    "               'qclevel':'preliminary',\n",
    "               'concastno':'061'\n",
    "              }\n",
    "               \n",
    "depcast = erddap.erddapCTDretrieve(**dep_details)\n",
    "# reccast = erddap.erddapCTDretrieve(**rec_details)"
   ]
  },
  {
   "cell_type": "markdown",
   "id": "033070c7-51bb-40d7-bfd5-916502a6c8f1",
   "metadata": {},
   "source": [
    "some variable names switch between preliminary and final... this will eventually be resolved"
   ]
  },
  {
   "cell_type": "code",
   "execution_count": null,
   "id": "78fbfc13-94cb-4a2e-ae28-4f322d0b729e",
   "metadata": {},
   "outputs": [],
   "source": [
    "depcast.columns = [x.split()[0] for x in depcast.columns]\n",
    "# reccast.columns = [x.split()[0] for x in reccast.columns]"
   ]
  },
  {
   "cell_type": "code",
   "execution_count": null,
   "id": "7566b5a7-d7fb-45e9-862c-87932fc901cd",
   "metadata": {
    "tags": []
   },
   "outputs": [],
   "source": [
    "#plot ctd values with a small circular radius and zoom in on near their equivalent mooring time span, we are looking for visual discrepencies\n",
    "#cycle through each depth and plot respective plot\n",
    "depth = int(mooring_config['Instrumentation'][instrument]['ActualDepth'])\n",
    "\n",
    "fig, ax = plt.subplots(1,figsize=(16, 2))\n",
    "sbe37_wop_nc.autotrim_time().salinity.plot(x=\"time\",hue=\"depth\",ax=ax, add_legend=False);\n",
    "# ax.plot(pd.to_datetime(reccast[reccast['pressure'] == depth]['time']),\n",
    "#         reccast[reccast['pressure'] == depth]['S_41'],\n",
    "#         'o',markersize=20,markerfacecolor='none',markeredgecolor='red')\n",
    "# ax.plot(pd.to_datetime(reccast[reccast['pressure'] == depth]['time']),\n",
    "#         reccast[reccast['pressure'] == depth]['S_41'],\n",
    "#         '+',markersize=10,markerfacecolor='none',markeredgecolor='red')\n",
    "ax.plot(pd.to_datetime(depcast[depcast['pressure'] == depth]['time']),\n",
    "        depcast[depcast['pressure'] == depth]['S_41'],\n",
    "        'o',markersize=20,markerfacecolor='none',markeredgecolor='red')\n",
    "ax.plot(pd.to_datetime(depcast[depcast['pressure'] == depth]['time']),\n",
    "        depcast[depcast['pressure'] == depth]['S_41'],\n",
    "        '+',markersize=10,markerfacecolor='none',markeredgecolor='red')\n",
    "\n",
    "fig.savefig(f\"images/{filename.replace('nc','_salCal.png')}\")"
   ]
  },
  {
   "cell_type": "code",
   "execution_count": null,
   "id": "784b40e7-f04f-4d49-b4e6-d52b7cb095e0",
   "metadata": {
    "tags": []
   },
   "outputs": [],
   "source": [
    "#plot ctd values with a small circular radius and zoom in on near their equivalent mooring time span, we are looking for visual discrepencies\n",
    "#cycle through each depth and plot respective plot\n",
    "# depth = int(mooring_config['Instrumentation'][instrument]['ActualDepth'])\n",
    "\n",
    "fig, ax = plt.subplots(1,figsize=(16, 2))\n",
    "sbe37_wop_nc.autotrim_time().temperature.plot(x=\"time\",hue=\"depth\",ax=ax, add_legend=False);\n",
    "# ax.plot(pd.to_datetime(reccast[reccast['pressure'] == depth]['time']),\n",
    "#         reccast[reccast['pressure'] == depth]['T_28'],\n",
    "#         'o',markersize=20,markerfacecolor='none',markeredgecolor='red')\n",
    "# ax.plot(pd.to_datetime(reccast[reccast['pressure'] == depth]['time']),\n",
    "#         reccast[reccast['pressure'] == depth]['T_28'],\n",
    "#         '+',markersize=10,markerfacecolor='none',markeredgecolor='red')\n",
    "ax.plot(pd.to_datetime(depcast[depcast['pressure'] == depth]['time']),\n",
    "        depcast[depcast['pressure'] == depth]['T_28'],\n",
    "        'o',markersize=20,markerfacecolor='none',markeredgecolor='red')\n",
    "ax.plot(pd.to_datetime(depcast[depcast['pressure'] == depth]['time']),\n",
    "        depcast[depcast['pressure'] == depth]['T_28'],\n",
    "        '+',markersize=10,markerfacecolor='none',markeredgecolor='red')\n",
    "\n",
    "fig.savefig(f\"images/{filename.replace('nc','_tempCal.png')}\")"
   ]
  },
  {
   "cell_type": "code",
   "execution_count": null,
   "id": "0f5d2b4e-1374-4a80-90d2-f0b56eb163f1",
   "metadata": {},
   "outputs": [],
   "source": [
    "#print collocated cast comparison\n",
    "mooring = sbe37_wop_nc.autotrim_time().sel(time=datetime.datetime.strptime(depcast['time'].unique()[0],\n",
    "                                                                 '%Y-%m-%dT%H:%M:%SZ'),\n",
    "                                 method='nearest')\n",
    "print('Deployment')\n",
    "print('T0:',mooring.temperature.values[0][0],depcast[depcast['pressure'] == depth]['T_28'].values)\n",
    "print('T1:',mooring.temperature.values[0][0],depcast[depcast['pressure'] == depth]['T2_35'].values)\n",
    "print('S0:',mooring.salinity.values[0][0],depcast[depcast['pressure'] == depth]['S_41'].values)\n",
    "print('S1:',mooring.salinity.values[0][0],depcast[depcast['pressure'] == depth]['S_42'].values)\n",
    "\n",
    "# mooring = sbe37_wop_nc.autotrim_time().sel(time=datetime.datetime.strptime(reccast['time'].unique()[0],\n",
    "#                                                                  '%Y-%m-%dT%H:%M:%SZ'),\n",
    "#                                  method='nearest')\n",
    "# print('Recovery')\n",
    "# print('T0:',mooring.temperature.values[0][0],reccast[reccast['pressure'] == depth]['T_28'].values)\n",
    "# print('T1:',mooring.temperature.values[0][0],reccast[reccast['pressure'] == depth]['T2_35'].values)\n",
    "# print('S0:',mooring.salinity.values[0][0],reccast[reccast['pressure'] == depth]['S_41'].values)\n",
    "# print('S1:',mooring.salinity.values[0][0],reccast[reccast['pressure'] == depth]['S_42'].values)\n"
   ]
  },
  {
   "cell_type": "code",
   "execution_count": null,
   "id": "447985f7-d869-4439-86ca-016380a380ec",
   "metadata": {},
   "outputs": [],
   "source": []
  }
 ],
 "metadata": {
  "kernelspec": {
   "display_name": "Python [conda env:p312]",
   "language": "python",
   "name": "conda-env-p312-py"
  },
  "language_info": {
   "codemirror_mode": {
    "name": "ipython",
    "version": 3
   },
   "file_extension": ".py",
   "mimetype": "text/x-python",
   "name": "python",
   "nbconvert_exporter": "python",
   "pygments_lexer": "ipython3",
   "version": "3.12.8"
  }
 },
 "nbformat": 4,
 "nbformat_minor": 5
}
