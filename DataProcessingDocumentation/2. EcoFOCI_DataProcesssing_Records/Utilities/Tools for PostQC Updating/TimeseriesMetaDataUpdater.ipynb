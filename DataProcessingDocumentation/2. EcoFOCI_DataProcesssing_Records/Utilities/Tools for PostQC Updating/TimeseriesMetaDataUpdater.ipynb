{
 "cells": [
  {
   "cell_type": "markdown",
   "id": "460b4ce5-bcf2-4025-8730-2e3f1b3cd94c",
   "metadata": {},
   "source": [
    "# CTD Netcdf Meta Update\n",
    "\n",
    "unify units for erddap driven netcdf"
   ]
  },
  {
   "cell_type": "code",
   "execution_count": 1,
   "id": "b984365a-f384-41ac-abd8-ce415b870683",
   "metadata": {
    "tags": []
   },
   "outputs": [],
   "source": [
    "import xarray as xa\n",
    "import yaml\n",
    "import os"
   ]
  },
  {
   "cell_type": "code",
   "execution_count": 4,
   "id": "d3ab3e59-ac60-469c-9dc2-7c479d0279fc",
   "metadata": {
    "tags": []
   },
   "outputs": [],
   "source": [
    "sample_data_dir = '/Users/bell/Programs/EcoFOCIpy/'\n",
    "user_data_dir = '/Users/bell/ecoraid/2024/Moorings/24bspr2a/'"
   ]
  },
  {
   "cell_type": "code",
   "execution_count": 11,
   "id": "13b99964-5b84-416b-8404-6633b98265f2",
   "metadata": {
    "tags": []
   },
   "outputs": [],
   "source": [
    "###############################################################\n",
    "# edit to point to {cruise sepcific} raw datafiles \n",
    "mooring_meta_file = user_data_dir+'logs/24BSPR-2A.yaml'\n",
    "inst_meta_file = sample_data_dir+'staticdata/instr_metaconfig/sbe16_cf.yaml'\n",
    "institution_meta_file = sample_data_dir+'staticdata/institutional_meta_example.yaml' #include uaf?\n",
    "inst_shortname = 's16'\n",
    "###############################################################\n",
    "\n",
    "datafile = user_data_dir + 'working/'"
   ]
  },
  {
   "cell_type": "code",
   "execution_count": 12,
   "id": "15798d61-5f30-403e-845e-623b0262d56e",
   "metadata": {
    "tags": []
   },
   "outputs": [],
   "source": [
    "#instrument info\n",
    "with open(inst_meta_file) as file:\n",
    "    inst_config = yaml.full_load(file)"
   ]
  },
  {
   "cell_type": "code",
   "execution_count": 13,
   "id": "68a358bc-e0e5-4e32-9072-b15c8b2937af",
   "metadata": {
    "tags": []
   },
   "outputs": [
    {
     "name": "stdout",
     "output_type": "stream",
     "text": [
      "24bspr2a_s16_0001m.nc\n",
      "No key in config file\n",
      "No key in config file\n",
      "24bspr2a_rcmsg_0052m.nc\n",
      "No key in config file\n",
      "No key in config file\n",
      "No key in config file\n"
     ]
    },
    {
     "name": "stderr",
     "output_type": "stream",
     "text": [
      "/var/folders/6r/n_mpcj7d7pdf9ncqvjy5vb8c0000jm/T/ipykernel_9956/156470432.py:11: UserWarning: Times can't be serialized faithfully to int64 with requested units 'days since 1900-01-01'. Resolution of 'minutes' needed. Serializing times to floating point instead. Set encoding['dtype'] to integer dtype to serialize to int64. Set encoding['dtype'] to floating point dtype to silence this warning.\n",
      "  xdf.to_netcdf(datafile+filename,format=\"NETCDF3_CLASSIC\",encoding={'time':{'units':'days since 1900-01-01'}})\n",
      "/var/folders/6r/n_mpcj7d7pdf9ncqvjy5vb8c0000jm/T/ipykernel_9956/156470432.py:11: UserWarning: Times can't be serialized faithfully to int64 with requested units 'days since 1900-01-01'. Resolution of 'minutes' needed. Serializing times to floating point instead. Set encoding['dtype'] to integer dtype to serialize to int64. Set encoding['dtype'] to floating point dtype to silence this warning.\n",
      "  xdf.to_netcdf(datafile+filename,format=\"NETCDF3_CLASSIC\",encoding={'time':{'units':'days since 1900-01-01'}})\n"
     ]
    }
   ],
   "source": [
    "for filename in os.listdir(datafile):\n",
    "    if 'nc' in filename:\n",
    "        print(filename)\n",
    "        xdf = xa.load_dataset(datafile+filename)\n",
    "        for var in xdf.variables:\n",
    "            try:\n",
    "                xdf[var].attrs = inst_config[var]\n",
    "            except KeyError:\n",
    "                pass\n",
    "                print('No key in config file')\n",
    "        xdf.to_netcdf(datafile+filename,format=\"NETCDF3_CLASSIC\",encoding={'time':{'units':'days since 1900-01-01'}})"
   ]
  },
  {
   "cell_type": "code",
   "execution_count": null,
   "id": "feeb7d07-0afc-4d03-ab27-f5b32cb1a8ef",
   "metadata": {},
   "outputs": [],
   "source": []
  }
 ],
 "metadata": {
  "kernelspec": {
   "display_name": "Python [conda env:p312]",
   "language": "python",
   "name": "conda-env-p312-py"
  },
  "language_info": {
   "codemirror_mode": {
    "name": "ipython",
    "version": 3
   },
   "file_extension": ".py",
   "mimetype": "text/x-python",
   "name": "python",
   "nbconvert_exporter": "python",
   "pygments_lexer": "ipython3",
   "version": "3.12.1"
  }
 },
 "nbformat": 4,
 "nbformat_minor": 5
}
