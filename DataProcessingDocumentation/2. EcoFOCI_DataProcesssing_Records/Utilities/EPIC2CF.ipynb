{
 "cells": [
  {
   "cell_type": "markdown",
   "id": "d6e80ce0-a3e0-43ea-a079-068b0a409ece",
   "metadata": {},
   "source": [
    "# Read EPIC NetCDF file and convert to CF time\n",
    "- example"
   ]
  },
  {
   "cell_type": "code",
   "execution_count": 1,
   "id": "1bbc8da2-de65-4188-9e93-a5902641e104",
   "metadata": {},
   "outputs": [],
   "source": [
    "import EcoFOCIpy.io.ncCFsave as ncCFsave\n",
    "import EcoFOCIpy.epic.EPIC_timeconvert as epic\n",
    "\n",
    "import xarray as xa\n",
    "import os"
   ]
  },
  {
   "cell_type": "code",
   "execution_count": 4,
   "id": "7f50adb7-ebb5-4ac6-9db6-6abf4c360b80",
   "metadata": {
    "scrolled": true
   },
   "outputs": [
    {
     "name": "stderr",
     "output_type": "stream",
     "text": [
      "/var/folders/6r/n_mpcj7d7pdf9ncqvjy5vb8c0000jm/T/ipykernel_92276/1571066869.py:8: UserWarning: Times can't be serialized faithfully to int64 with requested units 'days since 1900-01-01'. Resolution of 'seconds' needed. Serializing times to floating point instead. Set encoding['dtype'] to integer dtype to serialize to int64. Set encoding['dtype'] to floating point dtype to silence this warning.\n",
      "  pdf.to_netcdf(f'/Users/bell/ecoraid/2017/CTDcasts/dy1707l2/erddap/final_data/oxy/{files.replace('.nc','.cf.nc')}',\n",
      "/Users/bell/mambaforge/envs/p312/lib/python3.12/site-packages/xarray/coding/times.py:167: SerializationWarning: Ambiguous reference date string: 0:00 GMT. The first value is assumed to be the year hence will be padded with zeros to remove the ambiguity (the padded reference date string is: 0000:00 GMT). To remove this message, remove the ambiguity by padding your reference date strings with zeros.\n",
      "  warnings.warn(warning_msg, SerializationWarning)\n",
      "/var/folders/6r/n_mpcj7d7pdf9ncqvjy5vb8c0000jm/T/ipykernel_92276/1571066869.py:8: UserWarning: Times can't be serialized faithfully to int64 with requested units 'days since 1900-01-01'. Resolution of 'seconds' needed. Serializing times to floating point instead. Set encoding['dtype'] to integer dtype to serialize to int64. Set encoding['dtype'] to floating point dtype to silence this warning.\n",
      "  pdf.to_netcdf(f'/Users/bell/ecoraid/2017/CTDcasts/dy1707l2/erddap/final_data/oxy/{files.replace('.nc','.cf.nc')}',\n"
     ]
    }
   ],
   "source": [
    "for files in os.listdir('/Users/bell/ecoraid/2017/CTDcasts/dy1707l2/final_data/oxy/'):\n",
    "    xdf = xa.load_dataset(f'/Users/bell/ecoraid/2017/CTDcasts/dy1707l2/final_data/oxy/{files}',decode_times=False)\n",
    "    \n",
    "    pdf = xdf.copy()\n",
    "    \n",
    "    pdf['time'] = epic.EPIC2Datetime(pdf.time,pdf.time2)\n",
    "    pdf = pdf.drop_vars('time2')\n",
    "    pdf.to_netcdf(f'/Users/bell/ecoraid/2017/CTDcasts/dy1707l2/erddap/final_data/oxy/{files.replace('.nc','.cf.nc')}',\n",
    "                 format='NETCDF3_CLASSIC',encoding={'time':{'units':'days since 1900-01-01'}})"
   ]
  },
  {
   "cell_type": "code",
   "execution_count": 18,
   "id": "e8c98a84-069b-4b56-8158-456a84b58a98",
   "metadata": {},
   "outputs": [
    {
     "ename": "TypeError",
     "evalue": "Dataset.drop_vars() got an unexpected keyword argument 'inplace'",
     "output_type": "error",
     "traceback": [
      "\u001b[0;31m---------------------------------------------------------------------------\u001b[0m",
      "\u001b[0;31mTypeError\u001b[0m                                 Traceback (most recent call last)",
      "Cell \u001b[0;32mIn[18], line 1\u001b[0m\n\u001b[0;32m----> 1\u001b[0m \u001b[43mpdf\u001b[49m\u001b[38;5;241;43m.\u001b[39;49m\u001b[43mdrop_vars\u001b[49m\u001b[43m(\u001b[49m\u001b[38;5;124;43m'\u001b[39;49m\u001b[38;5;124;43mtime2\u001b[39;49m\u001b[38;5;124;43m'\u001b[39;49m\u001b[43m,\u001b[49m\u001b[43minplace\u001b[49m\u001b[38;5;241;43m=\u001b[39;49m\u001b[38;5;28;43;01mTrue\u001b[39;49;00m\u001b[43m)\u001b[49m\n",
      "\u001b[0;31mTypeError\u001b[0m: Dataset.drop_vars() got an unexpected keyword argument 'inplace'"
     ]
    }
   ],
   "source": []
  },
  {
   "cell_type": "code",
   "execution_count": null,
   "id": "a149d2be-0d07-4abe-b0d3-d94954ec61e1",
   "metadata": {},
   "outputs": [],
   "source": []
  }
 ],
 "metadata": {
  "kernelspec": {
   "display_name": "Python [conda env:p312]",
   "language": "python",
   "name": "conda-env-p312-py"
  },
  "language_info": {
   "codemirror_mode": {
    "name": "ipython",
    "version": 3
   },
   "file_extension": ".py",
   "mimetype": "text/x-python",
   "name": "python",
   "nbconvert_exporter": "python",
   "pygments_lexer": "ipython3",
   "version": "3.12.1"
  }
 },
 "nbformat": 4,
 "nbformat_minor": 5
}
