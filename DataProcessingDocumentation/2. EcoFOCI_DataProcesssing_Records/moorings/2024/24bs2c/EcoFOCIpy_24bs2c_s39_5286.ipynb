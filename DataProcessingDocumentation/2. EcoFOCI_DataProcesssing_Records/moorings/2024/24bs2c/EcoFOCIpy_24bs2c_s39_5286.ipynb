{
 "cells": [
  {
   "cell_type": "markdown",
   "id": "educational-chosen",
   "metadata": {},
   "source": [
    "# Using EcoFOCIpy to process raw field data\n",
    "\n",
    "## Mooring / Timeseries Data\n",
    "\n",
    "Basic workflow for each instrument grouping is *(initial archive level)*:\n",
    "- Parse data from raw files into pandas dataframe\n",
    "- output initial files (pandas->csv) **ERDDAP NRT** when no meta data is added\n",
    "\n",
    "Convert to xarray dataframe for all following work *(working or final data level):\n",
    "- TODO: Add metadata from instrument yaml files and/or header info\n",
    "- ingest metadata from deployment/recovery records or cast logs\n",
    "- process data beyond simple file translate\n",
    "- apply any calibrations or corrections\n",
    "    + field corrections\n",
    "    + offsets\n",
    "    + instrument compensations\n",
    "    + some QC were available... this would be old-school simple bounds mostly\n",
    "- adjust time bounds and sample frequency (xarray dataframe)\n",
    "- save as CF netcdf via xarray: so many of the steps above are optional\n",
    "    + **ERDDAP NRT** if no corrections, offsets or time bounds are applied but some meta data is\n",
    "    + **Working and awaiting QC** has no ERDDAP representation and is a holding spot\n",
    "    + **ERDDAP Final** fully calibrated, qc'd and populated with meta information\n",
    "\n",
    "Plot for preview and QC\n",
    "- preview images (indiv and/or collectively)\n",
    "- manual qc process\n",
    "- automated qc process ML/AI\n",
    "\n",
    "Further refinenments for ERDDAP hosting:\n"
   ]
  },
  {
   "cell_type": "markdown",
   "id": "allied-miniature",
   "metadata": {},
   "source": [
    "## Example below is for SBE-39 but the workflow is similar for all instruments.\n",
    "\n",
    "Future processing of this instrument can be a simplified (no markdown) process which can be archived so that the procedure can be traced or updated"
   ]
  },
  {
   "cell_type": "code",
   "execution_count": 1,
   "id": "studied-pollution",
   "metadata": {
    "tags": []
   },
   "outputs": [],
   "source": [
    "%matplotlib inline\n",
    "import matplotlib.pyplot as plt\n",
    "import yaml\n",
    "\n",
    "import EcoFOCIpy.io.sbe_parser as sbe_parser #<- instrument specific\n",
    "import EcoFOCIpy.io.ncCFsave as ncCFsave\n",
    "import EcoFOCIpy.metaconfig.load_config as load_config"
   ]
  },
  {
   "cell_type": "markdown",
   "id": "public-millennium",
   "metadata": {},
   "source": [
    "The sample_data_dir should be included in the github package but may not be included in the pip install of the package\n",
    "\n",
    "## Simple Processing - first step"
   ]
  },
  {
   "cell_type": "code",
   "execution_count": 2,
   "id": "offensive-level",
   "metadata": {
    "tags": []
   },
   "outputs": [],
   "source": [
    "sample_data_dir = '/Users/bell/Programs/EcoFOCIpy/'\n",
    "user_data_dir = '/Users/bell/ecoraid/2024/Moorings/24bs2c/'"
   ]
  },
  {
   "cell_type": "code",
   "execution_count": 3,
   "id": "third-yellow",
   "metadata": {
    "tags": []
   },
   "outputs": [],
   "source": [
    "###############################################################\n",
    "# edit to point to {instrument sepcific} raw datafile \n",
    "datafile = user_data_dir+'raw/sbe39/24-BS-2c_sbe39_5286__50m.asc'\n",
    "instrument = 'SBE-39 5286'\n",
    "mooring_meta_file = user_data_dir+'logs/24BS-2C.yaml'\n",
    "inst_meta_file = sample_data_dir+'staticdata/instr_metaconfig/sbe39_cf.yaml'\n",
    "institution_meta_file = sample_data_dir+'staticdata/institutional_meta_example.yaml' #include uaf?\n",
    "inst_shortname = 's39'\n",
    "###############################################################\n",
    "\n",
    "#init and load data\n",
    "sbe39_wop = sbe_parser.sbe39()\n",
    "(sbe39_wop_data,sbe39_wop_header) = sbe39_wop.parse(filename=datafile,\n",
    "                                                    return_header=True,\n",
    "                                                    datetime_index=True) "
   ]
  },
  {
   "cell_type": "markdown",
   "id": "metallic-youth",
   "metadata": {},
   "source": [
    "The data is output as a pandas dataframe from the intial module call and if its available, a header"
   ]
  },
  {
   "cell_type": "code",
   "execution_count": 4,
   "id": "fifteen-military",
   "metadata": {
    "tags": []
   },
   "outputs": [
    {
     "data": {
      "text/plain": [
       "['* Sea-Bird SBE39 Data File:\\n',\n",
       " '* FileName = C:\\\\data\\\\moorings\\\\2025\\\\24-BS-2c_sbe39_5286__50m.asc\\n',\n",
       " '* Software Version 1.59\\n',\n",
       " '* Temperature SN = \\n',\n",
       " '* Conductivity SN = \\n',\n",
       " '* System UpLoad Time = May 02 2025 03:24:04\\n',\n",
       " '* ds\\n',\n",
       " '* SBE 39 V 3.1b   SERIAL NO. 5286    02 May 2025  03:24:36\\n',\n",
       " '* battery voltage = 8.7\\n',\n",
       " '* not logging: received stop command\\n',\n",
       " '* sample interval = 600 seconds\\n',\n",
       " '* samplenumber = 52869, free = 4646998\\n',\n",
       " '* serial sync mode disabled\\n',\n",
       " '* real-time output disabled\\n',\n",
       " '* SBE 39 configuration = temperature only\\n',\n",
       " '* binary upload does not include time\\n',\n",
       " '* temperature = 23.47 deg C\\n',\n",
       " '\\n',\n",
       " '\\n',\n",
       " '* S>\\n',\n",
       " '* SBE39 V 3.1b   05286\\n',\n",
       " '* temperature:  03-mar-15\\n',\n",
       " '*     TA0 = -7.744552e-05\\n',\n",
       " '*     TA1 = 3.033229e-04\\n',\n",
       " '*     TA2 = -4.258321e-06\\n',\n",
       " '*     TA3 = 1.945202e-07\\n',\n",
       " '\\n',\n",
       " '\\n',\n",
       " '* S> \\n',\n",
       " '*END*\\n']"
      ]
     },
     "execution_count": 4,
     "metadata": {},
     "output_type": "execute_result"
    }
   ],
   "source": [
    "sbe39_wop_header"
   ]
  },
  {
   "cell_type": "code",
   "execution_count": 5,
   "id": "alive-bruce",
   "metadata": {
    "tags": []
   },
   "outputs": [
    {
     "data": {
      "text/html": [
       "<div>\n",
       "<style scoped>\n",
       "    .dataframe tbody tr th:only-of-type {\n",
       "        vertical-align: middle;\n",
       "    }\n",
       "\n",
       "    .dataframe tbody tr th {\n",
       "        vertical-align: top;\n",
       "    }\n",
       "\n",
       "    .dataframe thead th {\n",
       "        text-align: right;\n",
       "    }\n",
       "</style>\n",
       "<table border=\"1\" class=\"dataframe\">\n",
       "  <thead>\n",
       "    <tr style=\"text-align: right;\">\n",
       "      <th></th>\n",
       "      <th>temperature</th>\n",
       "    </tr>\n",
       "    <tr>\n",
       "      <th>date_time</th>\n",
       "      <th></th>\n",
       "    </tr>\n",
       "  </thead>\n",
       "  <tbody>\n",
       "    <tr>\n",
       "      <th>2024-04-30 00:00:00</th>\n",
       "      <td>12.9979</td>\n",
       "    </tr>\n",
       "    <tr>\n",
       "      <th>2024-04-30 00:10:00</th>\n",
       "      <td>12.9234</td>\n",
       "    </tr>\n",
       "    <tr>\n",
       "      <th>2024-04-30 00:20:00</th>\n",
       "      <td>13.3766</td>\n",
       "    </tr>\n",
       "    <tr>\n",
       "      <th>2024-04-30 00:30:00</th>\n",
       "      <td>13.1541</td>\n",
       "    </tr>\n",
       "    <tr>\n",
       "      <th>2024-04-30 00:40:00</th>\n",
       "      <td>12.7718</td>\n",
       "    </tr>\n",
       "    <tr>\n",
       "      <th>...</th>\n",
       "      <td>...</td>\n",
       "    </tr>\n",
       "    <tr>\n",
       "      <th>2025-05-02 02:40:00</th>\n",
       "      <td>22.0860</td>\n",
       "    </tr>\n",
       "    <tr>\n",
       "      <th>2025-05-02 02:50:00</th>\n",
       "      <td>23.1582</td>\n",
       "    </tr>\n",
       "    <tr>\n",
       "      <th>2025-05-02 03:00:00</th>\n",
       "      <td>22.9934</td>\n",
       "    </tr>\n",
       "    <tr>\n",
       "      <th>2025-05-02 03:10:00</th>\n",
       "      <td>24.9867</td>\n",
       "    </tr>\n",
       "    <tr>\n",
       "      <th>2025-05-02 03:20:00</th>\n",
       "      <td>23.3721</td>\n",
       "    </tr>\n",
       "  </tbody>\n",
       "</table>\n",
       "<p>52869 rows × 1 columns</p>\n",
       "</div>"
      ],
      "text/plain": [
       "                     temperature\n",
       "date_time                       \n",
       "2024-04-30 00:00:00      12.9979\n",
       "2024-04-30 00:10:00      12.9234\n",
       "2024-04-30 00:20:00      13.3766\n",
       "2024-04-30 00:30:00      13.1541\n",
       "2024-04-30 00:40:00      12.7718\n",
       "...                          ...\n",
       "2025-05-02 02:40:00      22.0860\n",
       "2025-05-02 02:50:00      23.1582\n",
       "2025-05-02 03:00:00      22.9934\n",
       "2025-05-02 03:10:00      24.9867\n",
       "2025-05-02 03:20:00      23.3721\n",
       "\n",
       "[52869 rows x 1 columns]"
      ]
     },
     "execution_count": 5,
     "metadata": {},
     "output_type": "execute_result"
    }
   ],
   "source": [
    "sbe39_wop_data"
   ]
  },
  {
   "cell_type": "markdown",
   "id": "ready-audit",
   "metadata": {},
   "source": [
    "## Time properties\n",
    "\n",
    "Its unusual that our clocks drift to the point of concern for our instruments (if an instrument is off by 3 minutes but only sampling hourly... regridding that data will result in minimal changes).  However, there are a few time oriented modifications that may need to be made."
   ]
  },
  {
   "cell_type": "markdown",
   "id": "supposed-bankruptcy",
   "metadata": {},
   "source": [
    "It is very easy to use pandas interplation and resample methods on the dataframe as is.  A few steps are suggested below:\n",
    "- parse out on-deck (predeployment and recovery) data.  This can be done via pandas or xarray but requires the mooring metadata to have been read in.  See future steps below.\n",
    "- even if the sample frequency is set to the desired measurement frequency, it would be good to perform a quick regridding as an assurance task\n",
    "- FOCI data is usualy 1min, 10min, 1hr - and the 1min data is a fairly new (sbe56) data stream\n",
    "    + subsampling high frequency data to lower frequency is easy via df.resample().mean()\n",
    "    + you may want to take the median instead of the mean for noisy data (fluorometer) , occasionally decimating may be more appropriate if you want to downsize the dataset size but not smear features\n",
    "    + shifting times can be a bit more involved.  There are two primary ways to do it, interpolate or shift\n",
    "        - to interpolate, you will need to upsample your data to a higher frequency which will generate missing values, then interpolate (with a maximum gap size), then decimate.  This always has the artifact of smoothing data and decreasing the min/max values. **common on microcats and other 10min datasets**\n",
    "        - shifting usually just involves droping extra time \"digits\", if you want hourly, you could just drop the trailing minutes assuming you are just off the hour (8:05 -> 8:00) or you can round to the nearest time unit but niether of these changes the data value, just the time associated with it. **common on seacats and other hourly datasets**\n",
    "    + I suggest if no change is needed... resample().mean() to the sample frequency just in case there is a small deviation from expected (<1min)\n",
    "    "
   ]
  },
  {
   "cell_type": "code",
   "execution_count": 6,
   "id": "fourth-perspective",
   "metadata": {
    "tags": []
   },
   "outputs": [
    {
     "data": {
      "text/html": [
       "<div>\n",
       "<style scoped>\n",
       "    .dataframe tbody tr th:only-of-type {\n",
       "        vertical-align: middle;\n",
       "    }\n",
       "\n",
       "    .dataframe tbody tr th {\n",
       "        vertical-align: top;\n",
       "    }\n",
       "\n",
       "    .dataframe thead th {\n",
       "        text-align: right;\n",
       "    }\n",
       "</style>\n",
       "<table border=\"1\" class=\"dataframe\">\n",
       "  <thead>\n",
       "    <tr style=\"text-align: right;\">\n",
       "      <th></th>\n",
       "      <th>temperature</th>\n",
       "    </tr>\n",
       "    <tr>\n",
       "      <th>date_time</th>\n",
       "      <th></th>\n",
       "    </tr>\n",
       "  </thead>\n",
       "  <tbody>\n",
       "    <tr>\n",
       "      <th>2024-04-30 00:00:00</th>\n",
       "      <td>12.9979</td>\n",
       "    </tr>\n",
       "    <tr>\n",
       "      <th>2024-04-30 00:10:00</th>\n",
       "      <td>12.9234</td>\n",
       "    </tr>\n",
       "    <tr>\n",
       "      <th>2024-04-30 00:20:00</th>\n",
       "      <td>13.3766</td>\n",
       "    </tr>\n",
       "    <tr>\n",
       "      <th>2024-04-30 00:30:00</th>\n",
       "      <td>13.1541</td>\n",
       "    </tr>\n",
       "    <tr>\n",
       "      <th>2024-04-30 00:40:00</th>\n",
       "      <td>12.7718</td>\n",
       "    </tr>\n",
       "    <tr>\n",
       "      <th>...</th>\n",
       "      <td>...</td>\n",
       "    </tr>\n",
       "    <tr>\n",
       "      <th>2025-05-02 02:40:00</th>\n",
       "      <td>22.0860</td>\n",
       "    </tr>\n",
       "    <tr>\n",
       "      <th>2025-05-02 02:50:00</th>\n",
       "      <td>23.1582</td>\n",
       "    </tr>\n",
       "    <tr>\n",
       "      <th>2025-05-02 03:00:00</th>\n",
       "      <td>22.9934</td>\n",
       "    </tr>\n",
       "    <tr>\n",
       "      <th>2025-05-02 03:10:00</th>\n",
       "      <td>24.9867</td>\n",
       "    </tr>\n",
       "    <tr>\n",
       "      <th>2025-05-02 03:20:00</th>\n",
       "      <td>23.3721</td>\n",
       "    </tr>\n",
       "  </tbody>\n",
       "</table>\n",
       "<p>52869 rows × 1 columns</p>\n",
       "</div>"
      ],
      "text/plain": [
       "                     temperature\n",
       "date_time                       \n",
       "2024-04-30 00:00:00      12.9979\n",
       "2024-04-30 00:10:00      12.9234\n",
       "2024-04-30 00:20:00      13.3766\n",
       "2024-04-30 00:30:00      13.1541\n",
       "2024-04-30 00:40:00      12.7718\n",
       "...                          ...\n",
       "2025-05-02 02:40:00      22.0860\n",
       "2025-05-02 02:50:00      23.1582\n",
       "2025-05-02 03:00:00      22.9934\n",
       "2025-05-02 03:10:00      24.9867\n",
       "2025-05-02 03:20:00      23.3721\n",
       "\n",
       "[52869 rows x 1 columns]"
      ]
     },
     "execution_count": 6,
     "metadata": {},
     "output_type": "execute_result"
    }
   ],
   "source": [
    "sbe39_wop_data = sbe39_wop_data.resample('10min').mean()\n",
    "sbe39_wop_data"
   ]
  },
  {
   "cell_type": "code",
   "execution_count": 7,
   "id": "undefined-membrane",
   "metadata": {
    "tags": []
   },
   "outputs": [
    {
     "data": {
      "image/png": "[encoded data removed]",
      "text/plain": [
       "<Figure size 1600x200 with 2 Axes>"
      ]
     },
     "metadata": {},
     "output_type": "display_data"
    }
   ],
   "source": [
    "fig, ax = plt.subplots(2,figsize=(16, 2))\n",
    "sbe39_wop_data.temperature.plot(ax=ax[0],color='r')\n",
    "try:\n",
    "    sbe39_wop_data.pressure.plot(ax=ax[1],color='k')\n",
    "except:\n",
    "    pass"
   ]
  },
  {
   "cell_type": "markdown",
   "id": "acknowledged-active",
   "metadata": {},
   "source": [
    "## Add Deployment meta information\n",
    "\n",
    "Two methods are available (if comming from python2 world - ordereddict was important... in py38 a dictionary is inherently ordered)"
   ]
  },
  {
   "cell_type": "code",
   "execution_count": 8,
   "id": "freelance-fairy",
   "metadata": {
    "tags": []
   },
   "outputs": [],
   "source": [
    "#just a dictionary of dictionaries - simple\n",
    "with open(mooring_meta_file) as file:\n",
    "    mooring_config = yaml.full_load(file)"
   ]
  },
  {
   "cell_type": "code",
   "execution_count": 9,
   "id": "proper-ghana",
   "metadata": {
    "tags": []
   },
   "outputs": [],
   "source": [
    "#Generates an ordereddict but prints better for summary\n",
    "#likely to be depricated as an ordered dict may not be useful and drops a dependency if its EOL\n",
    "mooring_config_v2 = load_config.load_config(mooring_meta_file)"
   ]
  },
  {
   "cell_type": "code",
   "execution_count": 10,
   "id": "israeli-begin",
   "metadata": {
    "tags": []
   },
   "outputs": [
    {
     "data": {
      "text/plain": [
       "{'InstType': 'SBE-39',\n",
       " 'SerialNo': '5286',\n",
       " 'DesignedDepth': 50.0,\n",
       " 'ActualDepth': 50.0,\n",
       " 'PreDeploymentNotes': '',\n",
       " 'PostDeploymentNotes': '',\n",
       " 'Deployed': 'y',\n",
       " 'Recovered': 'y'}"
      ]
     },
     "execution_count": 10,
     "metadata": {},
     "output_type": "execute_result"
    }
   ],
   "source": [
    "mooring_config['Instrumentation'][instrument]"
   ]
  },
  {
   "cell_type": "markdown",
   "id": "mysterious-cornwall",
   "metadata": {},
   "source": [
    "## Add Instrument meta information\n",
    "\n",
    "Time, depth, lat, lon should be added regardless (always our coordinates) but for a mooring site its going to be a (1,1,1,t) dataset\n",
    "The variables of interest should be read from the data file and matched to a key for naming.  That key is in the inst_config file seen below and should represent common conversion names in the raw data"
   ]
  },
  {
   "cell_type": "code",
   "execution_count": 11,
   "id": "checked-raise",
   "metadata": {
    "tags": []
   },
   "outputs": [
    {
     "data": {
      "text/plain": [
       "{'time': {'epic_key': 'TIM_601',\n",
       "  'name': 'time',\n",
       "  'generic_name': 'time',\n",
       "  'standard_name': 'time',\n",
       "  'long_name': 'date and time since reference time'},\n",
       " 'depth': {'epic_key': 'D_3',\n",
       "  'generic_name': 'depth',\n",
       "  'units': 'meter',\n",
       "  'long_name': 'depth below surface (meters)',\n",
       "  'standard_name': 'depth',\n",
       "  'positive': 'down'},\n",
       " 'latitude': {'epic_key': 'LON_501',\n",
       "  'name': 'latitude',\n",
       "  'generic_name': 'latitude',\n",
       "  'units': 'degrees_north',\n",
       "  'long_name': 'latitude',\n",
       "  'standard_name': 'latitude'},\n",
       " 'longitude': {'epic_key': 'LAT_500',\n",
       "  'name': 'longitude',\n",
       "  'generic_name': 'longitude',\n",
       "  'units': 'degrees_east',\n",
       "  'long_name': 'longitude',\n",
       "  'standard_name': 'longitude'},\n",
       " 'timeseries_id': {'cf_role': 'timeseries_id',\n",
       "  'long_name': 'timeseries id',\n",
       "  'standard_name': ''},\n",
       " 'temperature': {'epic_key': 'T_20',\n",
       "  'generic_name': 'temp',\n",
       "  'long_name': 'Sea temperature in-situ ITS-90 scale',\n",
       "  'standard_name': 'sea_water_temperature',\n",
       "  'units': 'degree_C'},\n",
       " 'pressure': {'epic_key': 'P_1',\n",
       "  'generic_name': 'pres',\n",
       "  'units': 'decibar',\n",
       "  'long_name': 'Sea water pressure, equals 0 at sea-level',\n",
       "  'standard_name': 'sea_water_pressure_due_to_sea_water'}}"
      ]
     },
     "execution_count": 11,
     "metadata": {},
     "output_type": "execute_result"
    }
   ],
   "source": [
    "with open(inst_meta_file) as file:\n",
    "    inst_config = yaml.full_load(file)\n",
    "inst_config"
   ]
  },
  {
   "cell_type": "code",
   "execution_count": 12,
   "id": "8d8301e9-cd0a-4790-bc7a-b9e5aa1ae852",
   "metadata": {
    "tags": []
   },
   "outputs": [],
   "source": [
    "#just a dictionary of dictionaries - simple\n",
    "with open(institution_meta_file) as file:\n",
    "    institution_config = yaml.full_load(file)"
   ]
  },
  {
   "cell_type": "code",
   "execution_count": 13,
   "id": "varied-popularity",
   "metadata": {
    "tags": []
   },
   "outputs": [
    {
     "data": {
      "text/plain": [
       "<EcoFOCIpy.io.ncCFsave.EcoFOCI_CFnc at 0x14b971ee0>"
      ]
     },
     "execution_count": 13,
     "metadata": {},
     "output_type": "execute_result"
    }
   ],
   "source": [
    "# Add meta data and prelim processing based on meta data\n",
    "# Convert to xarray and add meta information - save as CF netcdf file\n",
    "# pass -> data, instmeta, depmeta\n",
    "sbe39_wop_nc = ncCFsave.EcoFOCI_CFnc(df=sbe39_wop_data, \n",
    "                                instrument_yaml=inst_config, \n",
    "                                operation_yaml=mooring_config, \n",
    "                                operation_type='mooring',\n",
    "                                instrument_id=instrument, \n",
    "                                inst_shortname=inst_shortname)\n",
    "sbe39_wop_nc"
   ]
  },
  {
   "cell_type": "markdown",
   "id": "asian-chambers",
   "metadata": {},
   "source": [
    "At this point, you could save your file with the `.xarray2netcdf_save()` method and have a functioning dataset.... but it would be very simple with no additional qc, meta-data, or tuned parameters for optimizing software like ferret or erddap."
   ]
  },
  {
   "cell_type": "code",
   "execution_count": 14,
   "id": "practical-pennsylvania",
   "metadata": {
    "tags": []
   },
   "outputs": [],
   "source": [
    "# expand the dimensions and coordinate variables\n",
    "# renames them appropriatley and prepares them for meta-filled values\n",
    "sbe39_wop_nc.expand_dimensions()"
   ]
  },
  {
   "cell_type": "code",
   "execution_count": 15,
   "id": "floral-operations",
   "metadata": {
    "tags": []
   },
   "outputs": [],
   "source": [
    "sbe39_wop_nc.variable_meta_data(variable_keys=list(sbe39_wop_data.columns.values),drop_missing=True)\n",
    "sbe39_wop_nc.temporal_geospatioal_meta_data(depth='actual')\n",
    "#adding dimension meta needs to come after updating the dimension values... BUG?\n",
    "sbe39_wop_nc.dimension_meta_data(variable_keys=['depth','latitude','longitude'])"
   ]
  },
  {
   "cell_type": "markdown",
   "id": "seventh-product",
   "metadata": {},
   "source": [
    "The following steps can happen in just about any order and are all meta-data driven.  Therefore, they are not required to have a functioning dataset, but they are required to have a well described dataset"
   ]
  },
  {
   "cell_type": "code",
   "execution_count": 16,
   "id": "auburn-diversity",
   "metadata": {
    "tags": []
   },
   "outputs": [],
   "source": [
    "#add global attributes\n",
    "sbe39_wop_nc.deployment_meta_add()\n",
    "sbe39_wop_nc.get_xdf()\n",
    "\n",
    "#add instituitonal global attributes\n",
    "sbe39_wop_nc.institution_meta_add(institution_yaml=institution_config)\n",
    "\n",
    "#add instrument global attributes\n",
    "sbe39_wop_nc.instrument_meta_data()\n",
    "\n",
    "#add creation date/time - provenance data\n",
    "sbe39_wop_nc.provinance_meta_add()\n",
    "\n",
    "#provide intial qc status field\n",
    "sbe39_wop_nc.qc_status(qc_status='unknown')"
   ]
  },
  {
   "cell_type": "markdown",
   "id": "sustained-hughes",
   "metadata": {},
   "source": [
    "## Save CF Netcdf files\n",
    "\n",
    "Currently stick to netcdf3 classic... but migrating to netcdf4 (default) may be no problems for most modern purposes.  Its easy enough to pass the `format` kwargs through to the netcdf api of xarray."
   ]
  },
  {
   "cell_type": "code",
   "execution_count": 17,
   "id": "modular-volunteer",
   "metadata": {
    "tags": []
   },
   "outputs": [
    {
     "name": "stderr",
     "output_type": "stream",
     "text": [
      "/Users/bell/src/ecofocipy/src/EcoFOCIpy/io/ncCFsave.py:320: UserWarning: Times can't be serialized faithfully to int64 with requested units 'days since 1900-01-01'. Resolution of 'minutes' needed. Serializing times to floating point instead. Set encoding['dtype'] to integer dtype to serialize to int64. Set encoding['dtype'] to floating point dtype to silence this warning.\n",
      "  xdf.to_netcdf(filename,format=kwargs['format'],encoding={'time':{'units':'days since 1900-01-01'}})\n"
     ]
    }
   ],
   "source": [
    "# combine trim (not mandatory) and filename together (saves to test.nc without name)\n",
    "\n",
    "depth = str(int(mooring_config['Instrumentation'][instrument]['ActualDepth'])).zfill(4)\n",
    "# mooring_yaml['Instrumentation'][self.instrument_id]['DesignedDepth'])).zfill(4) #<-- alternative\n",
    "filename = \"\".join(mooring_config['MooringID'].split('-')).lower()+'_'+inst_shortname+'_'+depth+'m.nc'\n",
    "sbe39_wop_nc.xarray2netcdf_save(xdf = sbe39_wop_nc.autotrim_time(),\n",
    "                           filename=filename,format=\"NETCDF3_CLASSIC\")\n",
    "\n",
    "# don't trim the data and pass your own filename\n",
    "# sbe39_wop_nc.xarray2netcdf_save(xdf = sbe39_wop_nc.get_xdf(),\n",
    "#                            filename=filename,format=\"NETCDF4_CLASSIC\")"
   ]
  },
  {
   "cell_type": "code",
   "execution_count": 18,
   "id": "unlike-breathing",
   "metadata": {
    "tags": []
   },
   "outputs": [
    {
     "data": {
      "text/html": [
       "<div><svg style=\"position: absolute; width: 0; height: 0; overflow: hidden\">\n",
       "<defs>\n",
       "<symbol id=\"icon-database\" viewBox=\"0 0 32 32\">\n",
       "<path d=\"M16 0c-8.837 0-16 2.239-16 5v4c0 2.761 7.163 5 16 5s16-2.239 16-5v-4c0-2.761-7.163-5-16-5z\"></path>\n",
       "<path d=\"M16 17c-8.837 0-16-2.239-16-5v6c0 2.761 7.163 5 16 5s16-2.239 16-5v-6c0 2.761-7.163 5-16 5z\"></path>\n",
       "<path d=\"M16 26c-8.837 0-16-2.239-16-5v6c0 2.761 7.163 5 16 5s16-2.239 16-5v-6c0 2.761-7.163 5-16 5z\"></path>\n",
       "</symbol>\n",
       "<symbol id=\"icon-file-text2\" viewBox=\"0 0 32 32\">\n",
       "<path d=\"M28.681 7.159c-0.694-0.947-1.662-2.053-2.724-3.116s-2.169-2.030-3.116-2.724c-1.612-1.182-2.393-1.319-2.841-1.319h-15.5c-1.378 0-2.5 1.121-2.5 2.5v27c0 1.378 1.122 2.5 2.5 2.5h23c1.378 0 2.5-1.122 2.5-2.5v-19.5c0-0.448-0.137-1.23-1.319-2.841zM24.543 5.457c0.959 0.959 1.712 1.825 2.268 2.543h-4.811v-4.811c0.718 0.556 1.584 1.309 2.543 2.268zM28 29.5c0 0.271-0.229 0.5-0.5 0.5h-23c-0.271 0-0.5-0.229-0.5-0.5v-27c0-0.271 0.229-0.5 0.5-0.5 0 0 15.499-0 15.5 0v7c0 0.552 0.448 1 1 1h7v19.5z\"></path>\n",
       "<path d=\"M23 26h-14c-0.552 0-1-0.448-1-1s0.448-1 1-1h14c0.552 0 1 0.448 1 1s-0.448 1-1 1z\"></path>\n",
       "<path d=\"M23 22h-14c-0.552 0-1-0.448-1-1s0.448-1 1-1h14c0.552 0 1 0.448 1 1s-0.448 1-1 1z\"></path>\n",
       "<path d=\"M23 18h-14c-0.552 0-1-0.448-1-1s0.448-1 1-1h14c0.552 0 1 0.448 1 1s-0.448 1-1 1z\"></path>\n",
       "</symbol>\n",
       "</defs>\n",
       "</svg>\n",
       "<style>/* CSS stylesheet for displaying xarray objects in jupyterlab.\n",
       " *\n",
       " */\n",
       "\n",
       ":root {\n",
       "  --xr-font-color0: var(--jp-content-font-color0, rgba(0, 0, 0, 1));\n",
       "  --xr-font-color2: var(--jp-content-font-color2, rgba(0, 0, 0, 0.54));\n",
       "  --xr-font-color3: var(--jp-content-font-color3, rgba(0, 0, 0, 0.38));\n",
       "  --xr-border-color: var(--jp-border-color2, #e0e0e0);\n",
       "  --xr-disabled-color: var(--jp-layout-color3, #bdbdbd);\n",
       "  --xr-background-color: var(--jp-layout-color0, white);\n",
       "  --xr-background-color-row-even: var(--jp-layout-color1, white);\n",
       "  --xr-background-color-row-odd: var(--jp-layout-color2, #eeeeee);\n",
       "}\n",
       "\n",
       "html[theme=\"dark\"],\n",
       "html[data-theme=\"dark\"],\n",
       "body[data-theme=\"dark\"],\n",
       "body.vscode-dark {\n",
       "  --xr-font-color0: rgba(255, 255, 255, 1);\n",
       "  --xr-font-color2: rgba(255, 255, 255, 0.54);\n",
       "  --xr-font-color3: rgba(255, 255, 255, 0.38);\n",
       "  --xr-border-color: #1f1f1f;\n",
       "  --xr-disabled-color: #515151;\n",
       "  --xr-background-color: #111111;\n",
       "  --xr-background-color-row-even: #111111;\n",
       "  --xr-background-color-row-odd: #313131;\n",
       "}\n",
       "\n",
       ".xr-wrap {\n",
       "  display: block !important;\n",
       "  min-width: 300px;\n",
       "  max-width: 700px;\n",
       "}\n",
       "\n",
       ".xr-text-repr-fallback {\n",
       "  /* fallback to plain text repr when CSS is not injected (untrusted notebook) */\n",
       "  display: none;\n",
       "}\n",
       "\n",
       ".xr-header {\n",
       "  padding-top: 6px;\n",
       "  padding-bottom: 6px;\n",
       "  margin-bottom: 4px;\n",
       "  border-bottom: solid 1px var(--xr-border-color);\n",
       "}\n",
       "\n",
       ".xr-header > div,\n",
       ".xr-header > ul {\n",
       "  display: inline;\n",
       "  margin-top: 0;\n",
       "  margin-bottom: 0;\n",
       "}\n",
       "\n",
       ".xr-obj-type,\n",
       ".xr-array-name {\n",
       "  margin-left: 2px;\n",
       "  margin-right: 10px;\n",
       "}\n",
       "\n",
       ".xr-obj-type {\n",
       "  color: var(--xr-font-color2);\n",
       "}\n",
       "\n",
       ".xr-sections {\n",
       "  padding-left: 0 !important;\n",
       "  display: grid;\n",
       "  grid-template-columns: 150px auto auto 1fr 0 20px 0 20px;\n",
       "}\n",
       "\n",
       ".xr-section-item {\n",
       "  display: contents;\n",
       "}\n",
       "\n",
       ".xr-section-item input {\n",
       "  display: inline-block;\n",
       "  opacity: 0;\n",
       "  height: 0;\n",
       "}\n",
       "\n",
       ".xr-section-item input + label {\n",
       "  color: var(--xr-disabled-color);\n",
       "}\n",
       "\n",
       ".xr-section-item input:enabled + label {\n",
       "  cursor: pointer;\n",
       "  color: var(--xr-font-color2);\n",
       "}\n",
       "\n",
       ".xr-section-item input:focus + label {\n",
       "  border: 2px solid var(--xr-font-color0);\n",
       "}\n",
       "\n",
       ".xr-section-item input:enabled + label:hover {\n",
       "  color: var(--xr-font-color0);\n",
       "}\n",
       "\n",
       ".xr-section-summary {\n",
       "  grid-column: 1;\n",
       "  color: var(--xr-font-color2);\n",
       "  font-weight: 500;\n",
       "}\n",
       "\n",
       ".xr-section-summary > span {\n",
       "  display: inline-block;\n",
       "  padding-left: 0.5em;\n",
       "}\n",
       "\n",
       ".xr-section-summary-in:disabled + label {\n",
       "  color: var(--xr-font-color2);\n",
       "}\n",
       "\n",
       ".xr-section-summary-in + label:before {\n",
       "  display: inline-block;\n",
       "  content: \"►\";\n",
       "  font-size: 11px;\n",
       "  width: 15px;\n",
       "  text-align: center;\n",
       "}\n",
       "\n",
       ".xr-section-summary-in:disabled + label:before {\n",
       "  color: var(--xr-disabled-color);\n",
       "}\n",
       "\n",
       ".xr-section-summary-in:checked + label:before {\n",
       "  content: \"▼\";\n",
       "}\n",
       "\n",
       ".xr-section-summary-in:checked + label > span {\n",
       "  display: none;\n",
       "}\n",
       "\n",
       ".xr-section-summary,\n",
       ".xr-section-inline-details {\n",
       "  padding-top: 4px;\n",
       "  padding-bottom: 4px;\n",
       "}\n",
       "\n",
       ".xr-section-inline-details {\n",
       "  grid-column: 2 / -1;\n",
       "}\n",
       "\n",
       ".xr-section-details {\n",
       "  display: none;\n",
       "  grid-column: 1 / -1;\n",
       "  margin-bottom: 5px;\n",
       "}\n",
       "\n",
       ".xr-section-summary-in:checked ~ .xr-section-details {\n",
       "  display: contents;\n",
       "}\n",
       "\n",
       ".xr-array-wrap {\n",
       "  grid-column: 1 / -1;\n",
       "  display: grid;\n",
       "  grid-template-columns: 20px auto;\n",
       "}\n",
       "\n",
       ".xr-array-wrap > label {\n",
       "  grid-column: 1;\n",
       "  vertical-align: top;\n",
       "}\n",
       "\n",
       ".xr-preview {\n",
       "  color: var(--xr-font-color3);\n",
       "}\n",
       "\n",
       ".xr-array-preview,\n",
       ".xr-array-data {\n",
       "  padding: 0 5px !important;\n",
       "  grid-column: 2;\n",
       "}\n",
       "\n",
       ".xr-array-data,\n",
       ".xr-array-in:checked ~ .xr-array-preview {\n",
       "  display: none;\n",
       "}\n",
       "\n",
       ".xr-array-in:checked ~ .xr-array-data,\n",
       ".xr-array-preview {\n",
       "  display: inline-block;\n",
       "}\n",
       "\n",
       ".xr-dim-list {\n",
       "  display: inline-block !important;\n",
       "  list-style: none;\n",
       "  padding: 0 !important;\n",
       "  margin: 0;\n",
       "}\n",
       "\n",
       ".xr-dim-list li {\n",
       "  display: inline-block;\n",
       "  padding: 0;\n",
       "  margin: 0;\n",
       "}\n",
       "\n",
       ".xr-dim-list:before {\n",
       "  content: \"(\";\n",
       "}\n",
       "\n",
       ".xr-dim-list:after {\n",
       "  content: \")\";\n",
       "}\n",
       "\n",
       ".xr-dim-list li:not(:last-child):after {\n",
       "  content: \",\";\n",
       "  padding-right: 5px;\n",
       "}\n",
       "\n",
       ".xr-has-index {\n",
       "  font-weight: bold;\n",
       "}\n",
       "\n",
       ".xr-var-list,\n",
       ".xr-var-item {\n",
       "  display: contents;\n",
       "}\n",
       "\n",
       ".xr-var-item > div,\n",
       ".xr-var-item label,\n",
       ".xr-var-item > .xr-var-name span {\n",
       "  background-color: var(--xr-background-color-row-even);\n",
       "  margin-bottom: 0;\n",
       "}\n",
       "\n",
       ".xr-var-item > .xr-var-name:hover span {\n",
       "  padding-right: 5px;\n",
       "}\n",
       "\n",
       ".xr-var-list > li:nth-child(odd) > div,\n",
       ".xr-var-list > li:nth-child(odd) > label,\n",
       ".xr-var-list > li:nth-child(odd) > .xr-var-name span {\n",
       "  background-color: var(--xr-background-color-row-odd);\n",
       "}\n",
       "\n",
       ".xr-var-name {\n",
       "  grid-column: 1;\n",
       "}\n",
       "\n",
       ".xr-var-dims {\n",
       "  grid-column: 2;\n",
       "}\n",
       "\n",
       ".xr-var-dtype {\n",
       "  grid-column: 3;\n",
       "  text-align: right;\n",
       "  color: var(--xr-font-color2);\n",
       "}\n",
       "\n",
       ".xr-var-preview {\n",
       "  grid-column: 4;\n",
       "}\n",
       "\n",
       ".xr-index-preview {\n",
       "  grid-column: 2 / 5;\n",
       "  color: var(--xr-font-color2);\n",
       "}\n",
       "\n",
       ".xr-var-name,\n",
       ".xr-var-dims,\n",
       ".xr-var-dtype,\n",
       ".xr-preview,\n",
       ".xr-attrs dt {\n",
       "  white-space: nowrap;\n",
       "  overflow: hidden;\n",
       "  text-overflow: ellipsis;\n",
       "  padding-right: 10px;\n",
       "}\n",
       "\n",
       ".xr-var-name:hover,\n",
       ".xr-var-dims:hover,\n",
       ".xr-var-dtype:hover,\n",
       ".xr-attrs dt:hover {\n",
       "  overflow: visible;\n",
       "  width: auto;\n",
       "  z-index: 1;\n",
       "}\n",
       "\n",
       ".xr-var-attrs,\n",
       ".xr-var-data,\n",
       ".xr-index-data {\n",
       "  display: none;\n",
       "  background-color: var(--xr-background-color) !important;\n",
       "  padding-bottom: 5px !important;\n",
       "}\n",
       "\n",
       ".xr-var-attrs-in:checked ~ .xr-var-attrs,\n",
       ".xr-var-data-in:checked ~ .xr-var-data,\n",
       ".xr-index-data-in:checked ~ .xr-index-data {\n",
       "  display: block;\n",
       "}\n",
       "\n",
       ".xr-var-data > table {\n",
       "  float: right;\n",
       "}\n",
       "\n",
       ".xr-var-name span,\n",
       ".xr-var-data,\n",
       ".xr-index-name div,\n",
       ".xr-index-data,\n",
       ".xr-attrs {\n",
       "  padding-left: 25px !important;\n",
       "}\n",
       "\n",
       ".xr-attrs,\n",
       ".xr-var-attrs,\n",
       ".xr-var-data,\n",
       ".xr-index-data {\n",
       "  grid-column: 1 / -1;\n",
       "}\n",
       "\n",
       "dl.xr-attrs {\n",
       "  padding: 0;\n",
       "  margin: 0;\n",
       "  display: grid;\n",
       "  grid-template-columns: 125px auto;\n",
       "}\n",
       "\n",
       ".xr-attrs dt,\n",
       ".xr-attrs dd {\n",
       "  padding: 0;\n",
       "  margin: 0;\n",
       "  float: left;\n",
       "  padding-right: 10px;\n",
       "  width: auto;\n",
       "}\n",
       "\n",
       ".xr-attrs dt {\n",
       "  font-weight: normal;\n",
       "  grid-column: 1;\n",
       "}\n",
       "\n",
       ".xr-attrs dt:hover span {\n",
       "  display: inline-block;\n",
       "  background: var(--xr-background-color);\n",
       "  padding-right: 10px;\n",
       "}\n",
       "\n",
       ".xr-attrs dd {\n",
       "  grid-column: 2;\n",
       "  white-space: pre-wrap;\n",
       "  word-break: break-all;\n",
       "}\n",
       "\n",
       ".xr-icon-database,\n",
       ".xr-icon-file-text2,\n",
       ".xr-no-icon {\n",
       "  display: inline-block;\n",
       "  vertical-align: middle;\n",
       "  width: 1em;\n",
       "  height: 1.5em !important;\n",
       "  stroke-width: 0;\n",
       "  stroke: currentColor;\n",
       "  fill: currentColor;\n",
       "}\n",
       "</style><pre class='xr-text-repr-fallback'>&lt;xarray.Dataset&gt; Size: 536kB\n",
       "Dimensions:      (time: 33517, depth: 1, latitude: 1, longitude: 1)\n",
       "Coordinates:\n",
       "  * time         (time) datetime64[ns] 268kB 2024-09-08T22:20:00 ... 2025-04-...\n",
       "  * latitude     (latitude) float64 8B 56.86\n",
       "  * longitude    (longitude) float64 8B -164.1\n",
       "  * depth        (depth) float64 8B 50.0\n",
       "Data variables:\n",
       "    temperature  (time, depth, latitude, longitude) float64 268kB 3.318 ... 2...\n",
       "Attributes: (12/33)\n",
       "    Latitude_DegMMddW:                      56 51.6123 N\n",
       "    Longitude_DegMMddN:                     164 03.3174 W\n",
       "    MooringID:                              24BS-2C\n",
       "    platform_deployment_date:               2024-09-08T22:17:36Z\n",
       "    platform_deployment_cruise_name:        DY2410\n",
       "    platform_recovery_date:                 2025-04-29T16:26:00Z\n",
       "    ...                                     ...\n",
       "    InstrumentSerialNumber:                 5286\n",
       "    InstrumentType:                         SBE-39\n",
       "    date_created:                           2025-05-02T13:24:29Z\n",
       "    date_modified:                          \n",
       "    QC_indicator:                           unknown\n",
       "    history:                                Trimmed to deployment.\\nTrimmed t...</pre><div class='xr-wrap' style='display:none'><div class='xr-header'><div class='xr-obj-type'>xarray.Dataset</div></div><ul class='xr-sections'><li class='xr-section-item'><input id='section-2f12c974-6e0f-45d3-ae8b-8c7aeda909ed' class='xr-section-summary-in' type='checkbox' disabled ><label for='section-2f12c974-6e0f-45d3-ae8b-8c7aeda909ed' class='xr-section-summary'  title='Expand/collapse section'>Dimensions:</label><div class='xr-section-inline-details'><ul class='xr-dim-list'><li><span class='xr-has-index'>time</span>: 33517</li><li><span class='xr-has-index'>depth</span>: 1</li><li><span class='xr-has-index'>latitude</span>: 1</li><li><span class='xr-has-index'>longitude</span>: 1</li></ul></div><div class='xr-section-details'></div></li><li class='xr-section-item'><input id='section-84fa22d7-40b7-47a0-b23a-95c0421e4d0e' class='xr-section-summary-in' type='checkbox'  checked><label for='section-84fa22d7-40b7-47a0-b23a-95c0421e4d0e' class='xr-section-summary' >Coordinates: <span>(4)</span></label><div class='xr-section-inline-details'></div><div class='xr-section-details'><ul class='xr-var-list'><li class='xr-var-item'><div class='xr-var-name'><span class='xr-has-index'>time</span></div><div class='xr-var-dims'>(time)</div><div class='xr-var-dtype'>datetime64[ns]</div><div class='xr-var-preview xr-preview'>2024-09-08T22:20:00 ... 2025-04-...</div><input id='attrs-065c564d-ed22-4faa-878a-e96eff4ac6d9' class='xr-var-attrs-in' type='checkbox' disabled><label for='attrs-065c564d-ed22-4faa-878a-e96eff4ac6d9' title='Show/Hide attributes'><svg class='icon xr-icon-file-text2'><use xlink:href='#icon-file-text2'></use></svg></label><input id='data-e9325493-f278-437c-8ddc-ba684aeb0df2' class='xr-var-data-in' type='checkbox'><label for='data-e9325493-f278-437c-8ddc-ba684aeb0df2' title='Show/Hide data repr'><svg class='icon xr-icon-database'><use xlink:href='#icon-database'></use></svg></label><div class='xr-var-attrs'><dl class='xr-attrs'></dl></div><div class='xr-var-data'><pre>array([&#x27;2024-09-08T22:20:00.000000000&#x27;, &#x27;2024-09-08T22:30:00.000000000&#x27;,\n",
       "       &#x27;2024-09-08T22:40:00.000000000&#x27;, ..., &#x27;2025-04-29T16:00:00.000000000&#x27;,\n",
       "       &#x27;2025-04-29T16:10:00.000000000&#x27;, &#x27;2025-04-29T16:20:00.000000000&#x27;],\n",
       "      dtype=&#x27;datetime64[ns]&#x27;)</pre></div></li><li class='xr-var-item'><div class='xr-var-name'><span class='xr-has-index'>latitude</span></div><div class='xr-var-dims'>(latitude)</div><div class='xr-var-dtype'>float64</div><div class='xr-var-preview xr-preview'>56.86</div><input id='attrs-cd24fed3-ac20-4878-983b-505eae7da33b' class='xr-var-attrs-in' type='checkbox' ><label for='attrs-cd24fed3-ac20-4878-983b-505eae7da33b' title='Show/Hide attributes'><svg class='icon xr-icon-file-text2'><use xlink:href='#icon-file-text2'></use></svg></label><input id='data-0acd8a9d-47e0-417f-99b2-291c890be6fc' class='xr-var-data-in' type='checkbox'><label for='data-0acd8a9d-47e0-417f-99b2-291c890be6fc' title='Show/Hide data repr'><svg class='icon xr-icon-database'><use xlink:href='#icon-database'></use></svg></label><div class='xr-var-attrs'><dl class='xr-attrs'><dt><span>epic_key :</span></dt><dd>LON_501</dd><dt><span>name :</span></dt><dd>latitude</dd><dt><span>generic_name :</span></dt><dd>latitude</dd><dt><span>units :</span></dt><dd>degrees_north</dd><dt><span>long_name :</span></dt><dd>latitude</dd><dt><span>standard_name :</span></dt><dd>latitude</dd></dl></div><div class='xr-var-data'><pre>array([56.860205])</pre></div></li><li class='xr-var-item'><div class='xr-var-name'><span class='xr-has-index'>longitude</span></div><div class='xr-var-dims'>(longitude)</div><div class='xr-var-dtype'>float64</div><div class='xr-var-preview xr-preview'>-164.1</div><input id='attrs-707ae7bb-0431-4def-9503-4914159c251a' class='xr-var-attrs-in' type='checkbox' ><label for='attrs-707ae7bb-0431-4def-9503-4914159c251a' title='Show/Hide attributes'><svg class='icon xr-icon-file-text2'><use xlink:href='#icon-file-text2'></use></svg></label><input id='data-43782622-0014-415b-adfa-87679d3b3935' class='xr-var-data-in' type='checkbox'><label for='data-43782622-0014-415b-adfa-87679d3b3935' title='Show/Hide data repr'><svg class='icon xr-icon-database'><use xlink:href='#icon-database'></use></svg></label><div class='xr-var-attrs'><dl class='xr-attrs'><dt><span>epic_key :</span></dt><dd>LAT_500</dd><dt><span>name :</span></dt><dd>longitude</dd><dt><span>generic_name :</span></dt><dd>longitude</dd><dt><span>units :</span></dt><dd>degrees_east</dd><dt><span>long_name :</span></dt><dd>longitude</dd><dt><span>standard_name :</span></dt><dd>longitude</dd></dl></div><div class='xr-var-data'><pre>array([-164.05529])</pre></div></li><li class='xr-var-item'><div class='xr-var-name'><span class='xr-has-index'>depth</span></div><div class='xr-var-dims'>(depth)</div><div class='xr-var-dtype'>float64</div><div class='xr-var-preview xr-preview'>50.0</div><input id='attrs-a6d7a619-951a-4a16-8428-75ce6b25ccab' class='xr-var-attrs-in' type='checkbox' ><label for='attrs-a6d7a619-951a-4a16-8428-75ce6b25ccab' title='Show/Hide attributes'><svg class='icon xr-icon-file-text2'><use xlink:href='#icon-file-text2'></use></svg></label><input id='data-0f781bc1-eb7f-431b-a148-9e1565476682' class='xr-var-data-in' type='checkbox'><label for='data-0f781bc1-eb7f-431b-a148-9e1565476682' title='Show/Hide data repr'><svg class='icon xr-icon-database'><use xlink:href='#icon-database'></use></svg></label><div class='xr-var-attrs'><dl class='xr-attrs'><dt><span>epic_key :</span></dt><dd>D_3</dd><dt><span>generic_name :</span></dt><dd>depth</dd><dt><span>units :</span></dt><dd>meter</dd><dt><span>long_name :</span></dt><dd>depth below surface (meters)</dd><dt><span>standard_name :</span></dt><dd>depth</dd><dt><span>positive :</span></dt><dd>down</dd></dl></div><div class='xr-var-data'><pre>array([50.])</pre></div></li></ul></div></li><li class='xr-section-item'><input id='section-b86a3a3a-7657-457d-bfd8-0d65dc078017' class='xr-section-summary-in' type='checkbox'  checked><label for='section-b86a3a3a-7657-457d-bfd8-0d65dc078017' class='xr-section-summary' >Data variables: <span>(1)</span></label><div class='xr-section-inline-details'></div><div class='xr-section-details'><ul class='xr-var-list'><li class='xr-var-item'><div class='xr-var-name'><span>temperature</span></div><div class='xr-var-dims'>(time, depth, latitude, longitude)</div><div class='xr-var-dtype'>float64</div><div class='xr-var-preview xr-preview'>3.318 3.318 3.315 ... 2.676 2.682</div><input id='attrs-54bf1b51-282f-45c4-bbbe-057d835c5dca' class='xr-var-attrs-in' type='checkbox' ><label for='attrs-54bf1b51-282f-45c4-bbbe-057d835c5dca' title='Show/Hide attributes'><svg class='icon xr-icon-file-text2'><use xlink:href='#icon-file-text2'></use></svg></label><input id='data-fcbd63f5-5f10-431a-a2a8-dd0f4e44af03' class='xr-var-data-in' type='checkbox'><label for='data-fcbd63f5-5f10-431a-a2a8-dd0f4e44af03' title='Show/Hide data repr'><svg class='icon xr-icon-database'><use xlink:href='#icon-database'></use></svg></label><div class='xr-var-attrs'><dl class='xr-attrs'><dt><span>epic_key :</span></dt><dd>T_20</dd><dt><span>generic_name :</span></dt><dd>temp</dd><dt><span>long_name :</span></dt><dd>Sea temperature in-situ ITS-90 scale</dd><dt><span>standard_name :</span></dt><dd>sea_water_temperature</dd><dt><span>units :</span></dt><dd>degree_C</dd></dl></div><div class='xr-var-data'><pre>array([[[[3.3183]]],\n",
       "\n",
       "\n",
       "       [[[3.3181]]],\n",
       "\n",
       "\n",
       "       [[[3.3153]]],\n",
       "\n",
       "\n",
       "       ...,\n",
       "\n",
       "\n",
       "       [[[2.67  ]]],\n",
       "\n",
       "\n",
       "       [[[2.676 ]]],\n",
       "\n",
       "\n",
       "       [[[2.6821]]]])</pre></div></li></ul></div></li><li class='xr-section-item'><input id='section-077f99a4-e94a-4db7-bd6e-aca6edacc99c' class='xr-section-summary-in' type='checkbox'  ><label for='section-077f99a4-e94a-4db7-bd6e-aca6edacc99c' class='xr-section-summary' >Indexes: <span>(4)</span></label><div class='xr-section-inline-details'></div><div class='xr-section-details'><ul class='xr-var-list'><li class='xr-var-item'><div class='xr-index-name'><div>time</div></div><div class='xr-index-preview'>PandasIndex</div><input type='checkbox' disabled/><label></label><input id='index-be497fbc-2ffe-4da2-9050-a07c111bfb72' class='xr-index-data-in' type='checkbox'/><label for='index-be497fbc-2ffe-4da2-9050-a07c111bfb72' title='Show/Hide index repr'><svg class='icon xr-icon-database'><use xlink:href='#icon-database'></use></svg></label><div class='xr-index-data'><pre>PandasIndex(DatetimeIndex([&#x27;2024-09-08 22:20:00&#x27;, &#x27;2024-09-08 22:30:00&#x27;,\n",
       "               &#x27;2024-09-08 22:40:00&#x27;, &#x27;2024-09-08 22:50:00&#x27;,\n",
       "               &#x27;2024-09-08 23:00:00&#x27;, &#x27;2024-09-08 23:10:00&#x27;,\n",
       "               &#x27;2024-09-08 23:20:00&#x27;, &#x27;2024-09-08 23:30:00&#x27;,\n",
       "               &#x27;2024-09-08 23:40:00&#x27;, &#x27;2024-09-08 23:50:00&#x27;,\n",
       "               ...\n",
       "               &#x27;2025-04-29 14:50:00&#x27;, &#x27;2025-04-29 15:00:00&#x27;,\n",
       "               &#x27;2025-04-29 15:10:00&#x27;, &#x27;2025-04-29 15:20:00&#x27;,\n",
       "               &#x27;2025-04-29 15:30:00&#x27;, &#x27;2025-04-29 15:40:00&#x27;,\n",
       "               &#x27;2025-04-29 15:50:00&#x27;, &#x27;2025-04-29 16:00:00&#x27;,\n",
       "               &#x27;2025-04-29 16:10:00&#x27;, &#x27;2025-04-29 16:20:00&#x27;],\n",
       "              dtype=&#x27;datetime64[ns]&#x27;, name=&#x27;time&#x27;, length=33517, freq=&#x27;10T&#x27;))</pre></div></li><li class='xr-var-item'><div class='xr-index-name'><div>latitude</div></div><div class='xr-index-preview'>PandasIndex</div><input type='checkbox' disabled/><label></label><input id='index-70d0ae26-8f75-449f-a765-ce953d6f1728' class='xr-index-data-in' type='checkbox'/><label for='index-70d0ae26-8f75-449f-a765-ce953d6f1728' title='Show/Hide index repr'><svg class='icon xr-icon-database'><use xlink:href='#icon-database'></use></svg></label><div class='xr-index-data'><pre>PandasIndex(Index([56.860205], dtype=&#x27;float64&#x27;, name=&#x27;latitude&#x27;))</pre></div></li><li class='xr-var-item'><div class='xr-index-name'><div>longitude</div></div><div class='xr-index-preview'>PandasIndex</div><input type='checkbox' disabled/><label></label><input id='index-c7579e48-83aa-4736-bcfd-d80736492298' class='xr-index-data-in' type='checkbox'/><label for='index-c7579e48-83aa-4736-bcfd-d80736492298' title='Show/Hide index repr'><svg class='icon xr-icon-database'><use xlink:href='#icon-database'></use></svg></label><div class='xr-index-data'><pre>PandasIndex(Index([-164.05529], dtype=&#x27;float64&#x27;, name=&#x27;longitude&#x27;))</pre></div></li><li class='xr-var-item'><div class='xr-index-name'><div>depth</div></div><div class='xr-index-preview'>PandasIndex</div><input type='checkbox' disabled/><label></label><input id='index-a4909f2c-45e5-424b-91be-f0227226ea07' class='xr-index-data-in' type='checkbox'/><label for='index-a4909f2c-45e5-424b-91be-f0227226ea07' title='Show/Hide index repr'><svg class='icon xr-icon-database'><use xlink:href='#icon-database'></use></svg></label><div class='xr-index-data'><pre>PandasIndex(Index([50.0], dtype=&#x27;float64&#x27;, name=&#x27;depth&#x27;))</pre></div></li></ul></div></li><li class='xr-section-item'><input id='section-15122ad4-e5ba-4a82-a9ae-dbbce8ad062e' class='xr-section-summary-in' type='checkbox'  ><label for='section-15122ad4-e5ba-4a82-a9ae-dbbce8ad062e' class='xr-section-summary' >Attributes: <span>(33)</span></label><div class='xr-section-inline-details'></div><div class='xr-section-details'><dl class='xr-attrs'><dt><span>Latitude_DegMMddW :</span></dt><dd>56 51.6123 N</dd><dt><span>Longitude_DegMMddN :</span></dt><dd>164 03.3174 W</dd><dt><span>MooringID :</span></dt><dd>24BS-2C</dd><dt><span>platform_deployment_date :</span></dt><dd>2024-09-08T22:17:36Z</dd><dt><span>platform_deployment_cruise_name :</span></dt><dd>DY2410</dd><dt><span>platform_recovery_date :</span></dt><dd>2025-04-29T16:26:00Z</dd><dt><span>platform_recovery_cruise_name :</span></dt><dd>DY2504</dd><dt><span>platform_deployment_recovery_comments :</span></dt><dd>slight discrepancy in location of recovery with location of deployment</dd><dt><span>WaterDepth :</span></dt><dd>72.8</dd><dt><span>source_documents :</span></dt><dd>http://www.oceansites.org/docs/oceansites_data_format_reference_manual.pdf</dd><dt><span>institution :</span></dt><dd>Pacific Marine Environmental Lab (PMEL)</dd><dt><span>project :</span></dt><dd>EcoFOCI</dd><dt><span>project_url :</span></dt><dd>https://www.ecofoci.noaa.gov</dd><dt><span>principal_investigator :</span></dt><dd>Phyllis Stabeno</dd><dt><span>principal_investigator_email :</span></dt><dd>phyllis.stabeno (at) noaa.gov</dd><dt><span>creator_name :</span></dt><dd>Shaun Bell</dd><dt><span>creator_email :</span></dt><dd>shaun.bell (at) noaa.gov</dd><dt><span>creator_institution :</span></dt><dd>PMEL</dd><dt><span>keywords :</span></dt><dd>Mooring, Oceanographic</dd><dt><span>comment :</span></dt><dd>Provisional data</dd><dt><span>sea_area :</span></dt><dd>Bering Sea (BS)</dd><dt><span>featureType :</span></dt><dd>timeSeries</dd><dt><span>conventions :</span></dt><dd>”CF-1.6, ~OceanSITES-1.5, ACDD-1.2”</dd><dt><span>license :</span></dt><dd></dd><dt><span>references :</span></dt><dd></dd><dt><span>citation :</span></dt><dd></dd><dt><span>acknowledgement :</span></dt><dd></dd><dt><span>InstrumentSerialNumber :</span></dt><dd>5286</dd><dt><span>InstrumentType :</span></dt><dd>SBE-39</dd><dt><span>date_created :</span></dt><dd>2025-05-02T13:24:29Z</dd><dt><span>date_modified :</span></dt><dd></dd><dt><span>QC_indicator :</span></dt><dd>unknown</dd><dt><span>history :</span></dt><dd>Trimmed to deployment.\n",
       "Trimmed to deployment.</dd></dl></div></li></ul></div></div>"
      ],
      "text/plain": [
       "<xarray.Dataset> Size: 536kB\n",
       "Dimensions:      (time: 33517, depth: 1, latitude: 1, longitude: 1)\n",
       "Coordinates:\n",
       "  * time         (time) datetime64[ns] 268kB 2024-09-08T22:20:00 ... 2025-04-...\n",
       "  * latitude     (latitude) float64 8B 56.86\n",
       "  * longitude    (longitude) float64 8B -164.1\n",
       "  * depth        (depth) float64 8B 50.0\n",
       "Data variables:\n",
       "    temperature  (time, depth, latitude, longitude) float64 268kB 3.318 ... 2...\n",
       "Attributes: (12/33)\n",
       "    Latitude_DegMMddW:                      56 51.6123 N\n",
       "    Longitude_DegMMddN:                     164 03.3174 W\n",
       "    MooringID:                              24BS-2C\n",
       "    platform_deployment_date:               2024-09-08T22:17:36Z\n",
       "    platform_deployment_cruise_name:        DY2410\n",
       "    platform_recovery_date:                 2025-04-29T16:26:00Z\n",
       "    ...                                     ...\n",
       "    InstrumentSerialNumber:                 5286\n",
       "    InstrumentType:                         SBE-39\n",
       "    date_created:                           2025-05-02T13:24:29Z\n",
       "    date_modified:                          \n",
       "    QC_indicator:                           unknown\n",
       "    history:                                Trimmed to deployment.\\nTrimmed t..."
      ]
     },
     "execution_count": 18,
     "metadata": {},
     "output_type": "execute_result"
    }
   ],
   "source": [
    "sbe39_wop_nc.autotrim_time()"
   ]
  },
  {
   "cell_type": "code",
   "execution_count": 19,
   "id": "609747a9-cd50-4e61-ac80-7bbf8028e30a",
   "metadata": {
    "tags": []
   },
   "outputs": [
    {
     "name": "stdout",
     "output_type": "stream",
     "text": [
      "likely no pressure variable in datafile\n"
     ]
    }
   ],
   "source": [
    "try:\n",
    "    print(sbe39_wop_nc.autotrim_time().pressure.mean())\n",
    "except:\n",
    "    print(f'likely no pressure variable in datafile')"
   ]
  },
  {
   "cell_type": "code",
   "execution_count": 20,
   "id": "7ae033c6-016f-4ec2-bdbb-ed4a1aabdb6f",
   "metadata": {
    "tags": []
   },
   "outputs": [
    {
     "data": {
      "text/plain": [
       "<Figure size 640x480 with 0 Axes>"
      ]
     },
     "metadata": {},
     "output_type": "display_data"
    },
    {
     "data": {
      "image/png": "[encoded data removed]",
      "text/plain": [
       "<Figure size 2400x300 with 2 Axes>"
      ]
     },
     "metadata": {},
     "output_type": "display_data"
    }
   ],
   "source": [
    "#wrap the plot in image settings for visual appeal\n",
    "# may be able to make this cleaner or just a preset\n",
    "%run '../../../settings/mpl_plot_settings.py'\n",
    "\n",
    "%matplotlib inline\n",
    "import matplotlib.dates as mdates\n",
    "from matplotlib.dates import YearLocator, WeekdayLocator, MonthLocator, DayLocator, HourLocator, DateFormatter\n",
    "import matplotlib.ticker as ticker\n",
    "\n",
    "fig, ax = plt.subplots(2,figsize=(24, 3), sharex=True)\n",
    "sbe39_wop_nc.autotrim_time().temperature.plot(ax=ax[1],color='r')\n",
    "try:\n",
    "    sbe39_wop_nc.autotrim_time().pressure.plot(ax=ax[0],color='k')\n",
    "except:\n",
    "    pass\n",
    "\n",
    "\n",
    "# xfmt = mdates.DateFormatter('%d-%b')\n",
    "ax[1].xaxis.set_major_locator(DayLocator(bymonthday=1))\n",
    "ax[1].xaxis.set_minor_locator(DayLocator(bymonthday=15))\n",
    "ax[1].xaxis.set_minor_formatter(DateFormatter('%b %Y'))\n",
    "ax[1].xaxis.set_major_formatter(DateFormatter(''))\n",
    "ax[1].xaxis.set_tick_params(which='major', pad=3)\n",
    "ax[1].xaxis.set_tick_params(which='minor', pad=5)"
   ]
  },
  {
   "cell_type": "code",
   "execution_count": 21,
   "id": "d753bc55-6427-4de6-bd87-6b5395d0519c",
   "metadata": {
    "tags": []
   },
   "outputs": [],
   "source": [
    "#csvoutput if necessary\n",
    "(sbe39_wop_nc.get_xdf().to_dataframe()).to_csv(filename.replace('nc','csv'))"
   ]
  },
  {
   "cell_type": "markdown",
   "id": "individual-nature",
   "metadata": {},
   "source": [
    "## Next Steps\n",
    "\n",
    "QC of data (plot parameters with other instruments)\n",
    "- be sure to updated the qc_status and the history"
   ]
  },
  {
   "cell_type": "markdown",
   "id": "47a99ca6-2bc2-405a-81a4-8539dfd705fb",
   "metadata": {},
   "source": [
    "**no pressure var - so assume pressure correction from other depths**"
   ]
  },
  {
   "cell_type": "markdown",
   "id": "10846453-67e3-48dd-84f7-fa09206211fc",
   "metadata": {},
   "source": [
    "## QC plotting against CTDs (here or in a seperate ipynb)"
   ]
  },
  {
   "cell_type": "code",
   "execution_count": 22,
   "id": "68e2b9ad-71e1-4c51-a00c-87db41d392ef",
   "metadata": {
    "tags": []
   },
   "outputs": [],
   "source": [
    "import matplotlib.pyplot as plt\n",
    "import pandas as pd\n",
    "import EcoFOCIpy.io.erddap as erddap\n",
    "import datetime"
   ]
  },
  {
   "cell_type": "code",
   "execution_count": 23,
   "id": "52e8187d-c401-429f-9103-c6609b32dfbb",
   "metadata": {
    "tags": []
   },
   "outputs": [],
   "source": [
    "dep_details = {'url':\"http://ecofoci-field.pmel.noaa.gov:8082/erddap\",\n",
    "               'cruiseid':'dy2410',\n",
    "               'qclevel':'preliminary',\n",
    "               'concastno':'054'\n",
    "              }\n",
    "\n",
    "rec_details = {'url':\"http://ecofoci-field.pmel.noaa.gov:8082/erddap\",\n",
    "               'cruiseid':'dy2504',\n",
    "               'qclevel':'preliminary',\n",
    "               'concastno':'000'\n",
    "              }\n",
    "               \n",
    "depcast = erddap.erddapCTDretrieve(**dep_details)\n",
    "# reccast = erddap.erddapCTDretrieve(**rec_details)"
   ]
  },
  {
   "cell_type": "markdown",
   "id": "1043b7ef-14a6-49c7-a837-5306df17c737",
   "metadata": {},
   "source": [
    "some variable names switch between preliminary and final... this will eventually be resolved"
   ]
  },
  {
   "cell_type": "code",
   "execution_count": 24,
   "id": "3c4e0537-840b-4f65-b335-9861db061960",
   "metadata": {
    "tags": []
   },
   "outputs": [
    {
     "data": {
      "image/png": "[encoded data removed]",
      "text/plain": [
       "<Figure size 1600x200 with 1 Axes>"
      ]
     },
     "metadata": {},
     "output_type": "display_data"
    }
   ],
   "source": [
    "#plot ctd values with a small circular radius and zoom in on near their equivalent mooring time span, we are looking for visual discrepencies\n",
    "#cycle through each depth and plot respective plot\n",
    "depth = int(mooring_config['Instrumentation'][instrument]['ActualDepth'])\n",
    "\n",
    "fig, ax = plt.subplots(1,figsize=(16, 2))\n",
    "sbe39_wop_nc.autotrim_time().temperature.plot(x=\"time\",hue=\"depth\",ax=ax, add_legend=False);\n",
    "# ax.plot(pd.to_datetime(reccast[reccast['pressure'] == depth]['time (UTC)']),\n",
    "#         reccast[reccast['pressure'] == depth]['T_28 (degree_C)'],\n",
    "#         'o',markersize=20,markerfacecolor='none',markeredgecolor='red')\n",
    "# ax.plot(pd.to_datetime(reccast[reccast['pressure'] == depth]['time (UTC)']),\n",
    "#         reccast[reccast['pressure'] == depth]['T_28 (degree_C)'],\n",
    "#         '+',markersize=10,markerfacecolor='none',markeredgecolor='red')\n",
    "ax.plot(pd.to_datetime(depcast[depcast['pressure'] == depth]['time (UTC)']),\n",
    "        depcast[depcast['pressure'] == depth]['T_28 (degree_C)'],\n",
    "        'o',markersize=20,markerfacecolor='none',markeredgecolor='red')\n",
    "ax.plot(pd.to_datetime(depcast[depcast['pressure'] == depth]['time (UTC)']),\n",
    "        depcast[depcast['pressure'] == depth]['T_28 (degree_C)'],\n",
    "        '+',markersize=10,markerfacecolor='none',markeredgecolor='red')\n",
    "\n",
    "fig.savefig(f\"images/{filename.replace('nc','_tempCal.png')}\")"
   ]
  },
  {
   "cell_type": "code",
   "execution_count": 25,
   "id": "ada14203-adc9-4165-8566-68d9d753bb2b",
   "metadata": {},
   "outputs": [
    {
     "name": "stdout",
     "output_type": "stream",
     "text": [
      "Deployment\n",
      "T0: [3.5499] [3.5955]\n",
      "T1: [3.5499] [3.5963]\n"
     ]
    }
   ],
   "source": [
    "#print collocated cast comparison\n",
    "mooring = sbe39_wop_nc.autotrim_time().sel(time=datetime.datetime.strptime(depcast['time (UTC)'].unique()[0],\n",
    "                                                                 '%Y-%m-%dT%H:%M:%SZ'),\n",
    "                                 method='nearest')\n",
    "print('Deployment')\n",
    "print('T0:',mooring.temperature.values[0][0],depcast[depcast['pressure'] == depth]['T_28 (degree_C)'].values)\n",
    "print('T1:',mooring.temperature.values[0][0],depcast[depcast['pressure'] == depth]['T2_35 (degree_C)'].values)\n",
    "\n",
    "# mooring = sbe39_wop_nc.autotrim_time().sel(time=datetime.datetime.strptime(reccast['time (UTC)'].unique()[0],\n",
    "#                                                                  '%Y-%m-%dT%H:%M:%SZ'),\n",
    "#                                  method='nearest')\n",
    "# # print('Recovery')\n",
    "# # print('T0:',mooring.temperature.values[0][0],reccast[reccast['pressure'] == depth]['T_28 (degree_C)'].values)\n",
    "# # print('T1:',mooring.temperature.values[0][0],reccast[reccast['pressure'] == depth]['T2_35 (degree_C)'].values)\n"
   ]
  },
  {
   "cell_type": "code",
   "execution_count": null,
   "id": "066405b9-b9a9-4112-bd94-2937655a2f00",
   "metadata": {},
   "outputs": [],
   "source": []
  }
 ],
 "metadata": {
  "kernelspec": {
   "display_name": "Python [conda env:p312]",
   "language": "python",
   "name": "conda-env-p312-py"
  },
  "language_info": {
   "codemirror_mode": {
    "name": "ipython",
    "version": 3
   },
   "file_extension": ".py",
   "mimetype": "text/x-python",
   "name": "python",
   "nbconvert_exporter": "python",
   "pygments_lexer": "ipython3",
   "version": "3.12.8"
  }
 },
 "nbformat": 4,
 "nbformat_minor": 5
}
