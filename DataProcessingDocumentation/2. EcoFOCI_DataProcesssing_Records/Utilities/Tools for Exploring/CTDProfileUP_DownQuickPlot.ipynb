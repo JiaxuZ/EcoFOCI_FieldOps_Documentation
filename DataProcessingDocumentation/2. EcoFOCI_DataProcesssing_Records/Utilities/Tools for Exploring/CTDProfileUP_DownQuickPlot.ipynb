{
 "cells": [
  {
   "cell_type": "markdown",
   "id": "ae3fc95d-a9ee-440c-ac2a-147b2074d383",
   "metadata": {},
   "source": [
    "# CTD Profile Quick Plot\n",
    "\n",
    "From an erddap Dataset, specify the CTD number, the cruise id and the qc status (preliminary, final, final_merged)  to get a quick plot of the data"
   ]
  },
  {
   "cell_type": "code",
   "execution_count": 1,
   "id": "55af5d75-6ec3-4acd-a222-dc546974d8cf",
   "metadata": {},
   "outputs": [],
   "source": [
    "import seawater as sw"
   ]
  },
  {
   "cell_type": "code",
   "execution_count": 4,
   "id": "01d4f20f-c8ef-4c8e-8e5f-bef5435b9e56",
   "metadata": {},
   "outputs": [],
   "source": [
    "%matplotlib inline\n",
    "import matplotlib.pyplot as plt\n",
    "import yaml\n",
    "import os\n",
    "\n",
    "import pandas as pd\n",
    "import xarray as xr\n",
    "import datetime\n",
    "import EcoFOCIpy.io.erddap as erddap\n",
    "import EcoFOCIpy.plots.sbe_ctd_plots as sbe_ctd_plots\n",
    "\n",
    "import EcoFOCIpy.metaconfig.load_config as load_config"
   ]
  },
  {
   "cell_type": "code",
   "execution_count": 6,
   "id": "75f12005-b726-4630-b5f0-d25bf838b361",
   "metadata": {},
   "outputs": [],
   "source": [
    "data_path = '/Users/bell/ecoraid/2024/CTDcasts/dy2407/working/'"
   ]
  },
  {
   "cell_type": "code",
   "execution_count": 26,
   "id": "054592bc-4d30-4f72-ac69-0fb195373bbc",
   "metadata": {},
   "outputs": [
    {
     "name": "stdout",
     "output_type": "stream",
     "text": [
      "dctd002.csv\n",
      "dctd001.csv\n",
      "uctd002.csv\n",
      "uctd001.csv\n"
     ]
    }
   ],
   "source": [
    "for files in os.listdir(data_path):\n",
    "    if ('.csv' in files) and (files.startswith('d') or files.startswith('u')):\n",
    "        print(files)\n",
    "\n",
    "        ctd_df = pd.read_csv(f'{data_path}{files}')\n",
    "        \n",
    "        sbe_p = sbe_ctd_plots.CTDProfilePlot(stylesheet='seaborn-v0_8')\n",
    "        plt,fig =sbe_p.plot3var(varname=['t090C','t190C','sal00','sal11','sigmat_ch1','sigmat_ch2'],\n",
    "                          xdata=[ctd_df['t090C'],ctd_df['t190C'],ctd_df['sal00'],ctd_df['sal11'],ctd_df['sigma-t00'],ctd_df['sigma-t11']],\n",
    "                          ydata=ctd_df['Pressure [dbar]'],\n",
    "                          secondary=False,\n",
    "                          xlabel=[f'Temperature {files}','Salinity','SigmaT'])\n",
    "    \n",
    "        DefaultSize = fig.get_size_inches()\n",
    "        fig.set_size_inches( (DefaultSize[0], DefaultSize[1]*3) )\n",
    "        plt.savefig(f'{files}_TempSalSigmaT.png')\n",
    "        plt.close(fig)\n",
    "\n",
    "        sbe_p = sbe_ctd_plots.CTDProfilePlot(stylesheet='seaborn-v0_8-ticks')\n",
    "        plt,fig =sbe_p.plot2var(varname=['t090C','t190C','sbeox0PS','sbeox1PS'],\n",
    "                          xdata=[ctd_df['t090C'],ctd_df['t190C'],ctd_df.sbeox0PS,ctd_df.sbeox1PS],\n",
    "                          ydata=ctd_df['Pressure [dbar]'],\n",
    "                          secondary=True,\n",
    "                          xlabel=['Temperature','Oxygen Saturation'])\n",
    "\n",
    "        DefaultSize = fig.get_size_inches()\n",
    "        fig.set_size_inches( (DefaultSize[0], DefaultSize[1]*3) )\n",
    "        plt.savefig(f'{files}_TempOxy.png')\n",
    "        plt.close(fig)"
   ]
  },
  {
   "cell_type": "code",
   "execution_count": 24,
   "id": "c9034b09-c3bd-4932-873c-0ad6f9520447",
   "metadata": {},
   "outputs": [
    {
     "data": {
      "text/plain": [
       "Index(['Pressure [dbar]', 'c0mS/cm', 'c1mS/cm', 'flECO-AFL', 'sbeox0V',\n",
       "       'sbeox1V', 't090C', 't190C', 'turbWETntu0', 'par', 'sal00', 'sal11',\n",
       "       'sbeox0Mg/L', 'sbeox0PS', 'sbox0Mm/Kg', 'sbeox1Mg/L', 'sbeox1PS',\n",
       "       'sbox1Mm/Kg', 'sigma-t00', 'sigma-t11', 'flag'],\n",
       "      dtype='object')"
      ]
     },
     "execution_count": 24,
     "metadata": {},
     "output_type": "execute_result"
    }
   ],
   "source": [
    "ctd_df.columns"
   ]
  },
  {
   "cell_type": "code",
   "execution_count": null,
   "id": "1804ce5f-3096-4751-8b80-9e5b93bad95b",
   "metadata": {},
   "outputs": [],
   "source": []
  }
 ],
 "metadata": {
  "kernelspec": {
   "display_name": "Python [conda env:py311] *",
   "language": "python",
   "name": "conda-env-py311-py"
  },
  "language_info": {
   "codemirror_mode": {
    "name": "ipython",
    "version": 3
   },
   "file_extension": ".py",
   "mimetype": "text/x-python",
   "name": "python",
   "nbconvert_exporter": "python",
   "pygments_lexer": "ipython3",
   "version": "3.11.10"
  }
 },
 "nbformat": 4,
 "nbformat_minor": 5
}
