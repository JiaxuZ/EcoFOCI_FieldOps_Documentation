{
 "cells": [
  {
   "cell_type": "markdown",
   "id": "2470c421-147d-42d0-bb18-eaa3edad23c6",
   "metadata": {},
   "source": [
    "# Plotly - CTD locations and details"
   ]
  },
  {
   "cell_type": "code",
   "execution_count": 2,
   "id": "2e333e5e-9b53-4ae5-9d02-1beda4f27510",
   "metadata": {},
   "outputs": [],
   "source": [
    "import plotly.express as px\n",
    "import plotly.graph_objects as go"
   ]
  },
  {
   "cell_type": "code",
   "execution_count": 3,
   "id": "0df608d2-9246-4aa7-88dc-e16c49707a17",
   "metadata": {
    "editable": true,
    "slideshow": {
     "slide_type": ""
    },
    "tags": []
   },
   "outputs": [],
   "source": [
    "import pandas as pd\n",
    "import datetime"
   ]
  },
  {
   "cell_type": "code",
   "execution_count": 7,
   "id": "e0927b3c-1a0c-454a-a833-85a0cf3748bc",
   "metadata": {
    "editable": true,
    "slideshow": {
     "slide_type": ""
    },
    "tags": []
   },
   "outputs": [],
   "source": [
    "canonical_files = 'from_historical_lines/bering_canyon.csv'\n",
    "canonical = pd.read_csv(canonical_files)\n",
    "canonical['UniqueCruiseID'] = 'Canonical'\n",
    "canonical['longitude'] = -1 * canonical['LongitudeDecDeg']\n",
    "canonical.rename(columns={'LatitudeDecDeg':'latitude','Station':'StationNameID'},inplace=True)\n",
    "\n",
    "castlogs_fromdatabase = '/Users/bell/Downloads/ecofoci_cruises__07-59-32.csv'\n",
    "castlogs = pd.read_csv(castlogs_fromdatabase)\n",
    "\n",
    "castlogs['latitude'] = castlogs['LatitudeDeg'] + castlogs['LatitudeMin'] / 60\n",
    "castlogs['longitude'] = -1 * (castlogs['LongitudeDeg'] + castlogs['LongitudeMin'] / 60 )"
   ]
  },
  {
   "cell_type": "code",
   "execution_count": 8,
   "id": "af5ccd7c-7a26-4f41-b0ca-6a268f1faf7d",
   "metadata": {},
   "outputs": [],
   "source": [
    "castlogs = pd.concat([canonical,castlogs])"
   ]
  },
  {
   "cell_type": "code",
   "execution_count": 9,
   "id": "9f2df0b7-d882-49b4-a6b7-53af89360afb",
   "metadata": {
    "editable": true,
    "slideshow": {
     "slide_type": ""
    },
    "tags": []
   },
   "outputs": [
    {
     "data": {
      "application/vnd.plotly.v1+json": {
       "config": {
        "plotlyServerURL": "https://plot.ly"
       },
       "data": [
        {
         "customdata": [
          [
           "AW5",
           null
          ],
          [
           "AW4",
           null
          ],
          [
           "AW3",
           null
          ],
          [
           "AW2",
           null
          ],
          [
           "AW1",
           null
          ],
          [
           "AE1",
           null
          ],
          [
           "AE2",
           null
          ],
          [
           "AE3",
           null
          ],
          [
           "AE4",
           null
          ],
          [
           "AE5",
           null
          ],
          [
           "UT1",
           null
          ],
          [
           "UT2",
           null
          ],
          [
           "UT3",
           null
          ],
          [
           "UT5",
           null
          ],
          [
           "UT4",
           null
          ]
         ],
         "geo": "geo",
         "hovertemplate": "UniqueCruiseID=Canonical<br>latitude=%{lat}<br>longitude=%{lon}<br>StationNameID=%{customdata[0]}<br>ConsecutiveCastNo=%{customdata[1]}<extra></extra>",
         "lat": {
          "_inputArray": {
           "0": 54.46183333,
           "1": 54.31783333,
           "10": 54.448,
           "11": 54.3175,
           "12": 54.17366667,
           "13": 53.97766667,
           "14": 54.0865,
           "2": 54.20583333,
           "3": 54.13433333,
           "4": 54.07083333,
           "5": 54.16866667,
           "6": 54.23166667,
           "7": 54.30366667,
           "8": 54.45683333,
           "9": 54.56066667,
           "bdata": "wUbEWh07S0Di9jbDrihLQG1jHr9YGktAb46l1TERS0CM6AkREQlLQKHJk96WFUtAk5zhQKcdS0CCRKiM3iZLQFEJuoN5OktAus3p7MNHS0DTTWIQWDlLQHE9CtejKEtAEgeetToWS0AFBXMuJP1KQFCNl24SC0tA",
           "dtype": "f8",
           "shape": "15"
          },
          "bdata": "wUbEWh07S0Di9jbDrihLQG1jHr9YGktAb46l1TERS0CM6AkREQlLQKHJk96WFUtAk5zhQKcdS0CCRKiM3iZLQFEJuoN5OktAus3p7MNHS0DTTWIQWDlLQHE9CtejKEtAEgeetToWS0AFBXMuJP1KQFCNl24SC0tA",
          "dtype": "f8"
         },
         "legendgroup": "Canonical",
         "lon": {
          "_inputArray": {
           "0": -166.9356667,
           "1": -166.8233333,
           "10": -167.382,
           "11": -167.2821667,
           "12": -167.1558333,
           "13": -166.9758333,
           "14": -167.0648333,
           "2": -166.703,
           "3": -166.6561667,
           "4": -166.6216667,
           "5": -166.2325,
           "6": -166.2673333,
           "7": -166.3528333,
           "8": -166.495,
           "9": -166.5985,
           "bdata": "mo5K+/DdZMCmphO/WNpkwNEi2/l+1mTALadOUf/UZMBkMJCx5NNkwD0K16Nwx2TAN5SQ/o3IZMASjg9pSstkwKRwPQrXz2TA/tR46SbTZMBOYhBYOexkwKaQdYIH6WTAF+QdlvzkZMAhu8EGOt9kwCPmSB0T4mTA",
           "dtype": "f8",
           "shape": "15"
          },
          "bdata": "mo5K+/DdZMCmphO/WNpkwNEi2/l+1mTALadOUf/UZMBkMJCx5NNkwD0K16Nwx2TAN5SQ/o3IZMASjg9pSstkwKRwPQrXz2TA/tR46SbTZMBOYhBYOexkwKaQdYIH6WTAF+QdlvzkZMAhu8EGOt9kwCPmSB0T4mTA",
          "dtype": "f8"
         },
         "marker": {
          "color": "#636efa",
          "symbol": "circle"
         },
         "mode": "markers",
         "name": "Canonical",
         "showlegend": true,
         "type": "scattergeo"
        },
        {
         "customdata": [
          [
           "UBW4",
           "CTD001"
          ],
          [
           "UBW3",
           "CTD002"
          ],
          [
           "UBW2",
           "CTD003"
          ],
          [
           "UBW1",
           "CTD004"
          ],
          [
           "UBW4",
           "CTD095"
          ],
          [
           "UBW3",
           "CTD096"
          ],
          [
           "UBW2",
           "CTD097"
          ],
          [
           "UBW1",
           "CTD098"
          ],
          [
           "UBW0",
           "CTD099"
          ]
         ],
         "geo": "geo",
         "hovertemplate": "UniqueCruiseID=DY1405<br>latitude=%{lat}<br>longitude=%{lon}<br>StationNameID=%{customdata[0]}<br>ConsecutiveCastNo=%{customdata[1]}<extra></extra>",
         "lat": {
          "_inputArray": {
           "0": 54.687333333333335,
           "1": 54.58266666666667,
           "2": 54.472833333333334,
           "3": 54.35633333333333,
           "4": 54.68783333333333,
           "5": 54.583333333333336,
           "6": 54.471333333333334,
           "7": 54.3585,
           "8": 54.30983333333333,
           "bdata": "BQ/mifpXS0C+5kLSlEpLQAuQe82FPEtAF5KmVJwtS0D24TPsClhLQKuqqqqqSktANheSplQ8S0DZzvdT4y1LQEzwYJ6oJ0tA",
           "dtype": "f8",
           "shape": "9"
          },
          "bdata": "BQ/mifpXS0C+5kLSlEpLQAuQe82FPEtAF5KmVJwtS0D24TPsClhLQKuqqqqqSktANheSplQ8S0DZzvdT4y1LQEzwYJ6oJ0tA",
          "dtype": "f8"
         },
         "legendgroup": "DY1405",
         "lon": {
          "_inputArray": {
           "0": -166.23483333333334,
           "1": -166.12633333333332,
           "2": -166.0375,
           "3": -166.92683333333332,
           "4": -166.24133333333333,
           "5": -166.13183333333333,
           "6": -166.04083333333332,
           "7": -165.92933333333335,
           "8": -165.88316666666665,
           "bdata": "rdUxwYPHZMD24TPsCsRkwDMzMzMzwWTATPBgnqjdZMA+w64AucdkwA/mifo3xGTAG+i0gU7BZMD7N0IZvb1kwAXIveZCvGTA",
           "dtype": "f8",
           "shape": "9"
          },
          "bdata": "rdUxwYPHZMD24TPsCsRkwDMzMzMzwWTATPBgnqjdZMA+w64AucdkwA/mifo3xGTAG+i0gU7BZMD7N0IZvb1kwAXIveZCvGTA",
          "dtype": "f8"
         },
         "marker": {
          "color": "#EF553B",
          "symbol": "circle"
         },
         "mode": "markers",
         "name": "DY1405",
         "showlegend": true,
         "type": "scattergeo"
        },
        {
         "customdata": [
          [
           "Clams H439, UBW0",
           "CTD174"
          ],
          [
           "Clams H441, UBW1",
           "CTD175"
          ],
          [
           "Clams H445, UBW3",
           "CTD177"
          ],
          [
           "Clams H446, UBW4",
           "CTD178"
          ]
         ],
         "geo": "geo",
         "hovertemplate": "UniqueCruiseID=DY1408L3<br>latitude=%{lat}<br>longitude=%{lon}<br>StationNameID=%{customdata[0]}<br>ConsecutiveCastNo=%{customdata[1]}<extra></extra>",
         "lat": {
          "_inputArray": {
           "0": 54.31183333333333,
           "1": 54.3645,
           "2": 54.581833333333336,
           "3": 54.69083333333333,
           "bdata": "EzyYJ+onS0Atsp3vpy5LQNYxwYN5SktAoNMGOm1YS0A=",
           "dtype": "f8",
           "shape": "4"
          },
          "bdata": "EzyYJ+onS0Atsp3vpy5LQNYxwYN5SktAoNMGOm1YS0A=",
          "dtype": "f8"
         },
         "legendgroup": "DY1408L3",
         "lon": {
          "_inputArray": {
           "0": -165.87883333333335,
           "1": -165.92933333333335,
           "2": -166.14683333333332,
           "3": -166.244,
           "bdata": "pSkVZx+8ZMD7N0IZvb1kwCOU0duyxGTAK4cW2c7HZMA=",
           "dtype": "f8",
           "shape": "4"
          },
          "bdata": "pSkVZx+8ZMD7N0IZvb1kwCOU0duyxGTAK4cW2c7HZMA=",
          "dtype": "f8"
         },
         "marker": {
          "color": "#00cc96",
          "symbol": "circle"
         },
         "mode": "markers",
         "name": "DY1408L3",
         "showlegend": true,
         "type": "scattergeo"
        },
        {
         "customdata": [
          [
           "UBW4",
           "CTD016"
          ],
          [
           "UBW3",
           "CTD017"
          ],
          [
           "UBW2",
           "CTD018"
          ],
          [
           "UBW1",
           "CTD019"
          ],
          [
           "UBW4",
           "CTD081"
          ],
          [
           "UBW3",
           "CTD082"
          ],
          [
           "UBW2",
           "CTD083"
          ],
          [
           "UBW1",
           "CTD084"
          ],
          [
           "UBW0",
           "CTD085"
          ]
         ],
         "geo": "geo",
         "hovertemplate": "UniqueCruiseID=DY1504<br>latitude=%{lat}<br>longitude=%{lon}<br>StationNameID=%{customdata[0]}<br>ConsecutiveCastNo=%{customdata[1]}<extra></extra>",
         "lat": {
          "_inputArray": {
           "0": 54.68633333333333,
           "1": 54.58133333333333,
           "2": 54.47416666666667,
           "3": 54.3615,
           "4": 54.68783333333333,
           "5": 54.5855,
           "6": 54.47716666666667,
           "7": 54.3605,
           "8": 54.31166666666667,
           "bdata": "IWlKxdlXS0DkXnMhaUpLQOUXS36xPEtAg8DKoUUuS0D24TPsClhLQG3n+6nxSktAjwkezBM9S0CgGi/dJC5LQBhLfrHkJ0tA",
           "dtype": "f8",
           "shape": "9"
          },
          "bdata": "IWlKxdlXS0DkXnMhaUpLQOUXS36xPEtAg8DKoUUuS0D24TPsClhLQG3n+6nxSktAjwkezBM9S0CgGi/dJC5LQBhLfrHkJ0tA",
          "dtype": "f8"
         },
         "legendgroup": "DY1504",
         "lon": {
          "_inputArray": {
           "0": -166.23983333333334,
           "1": -166.12283333333335,
           "2": -166.038,
           "3": -165.9335,
           "4": -166.23716666666667,
           "5": -166.133,
           "6": -166.03483333333332,
           "7": -165.923,
           "8": -165.8775,
           "bdata": "CWX0tqzHZMDQsCtA7sNkwPCnxks3wWTAHVpkO9+9ZMAcoYzelsdkwMdLN4lBxGTARm/LWh3BZMCoxks3ib1kwK5H4XoUvGTA",
           "dtype": "f8",
           "shape": "9"
          },
          "bdata": "CWX0tqzHZMDQsCtA7sNkwPCnxks3wWTAHVpkO9+9ZMAcoYzelsdkwMdLN4lBxGTARm/LWh3BZMCoxks3ib1kwK5H4XoUvGTA",
          "dtype": "f8"
         },
         "marker": {
          "color": "#ab63fa",
          "symbol": "circle"
         },
         "mode": "markers",
         "name": "DY1504",
         "showlegend": true,
         "type": "scattergeo"
        },
        {
         "customdata": [
          [
           "UBW4",
           "CTD065"
          ],
          [
           "UBW3",
           "CTD066"
          ],
          [
           "UBW2",
           "CTD067"
          ],
          [
           "UBW1",
           "CTD068"
          ],
          [
           "UBW0",
           "CTD069"
          ]
         ],
         "geo": "geo",
         "hovertemplate": "UniqueCruiseID=DY1606<br>latitude=%{lat}<br>longitude=%{lon}<br>StationNameID=%{customdata[0]}<br>ConsecutiveCastNo=%{customdata[1]}<extra></extra>",
         "lat": {
          "_inputArray": {
           "0": 54.6875,
           "1": 54.5785,
           "2": 54.4695,
           "3": 54.35666666666667,
           "4": 54.30833333333333,
           "bdata": "AAAAAABYS0A1XrpJDEpLQGq8dJMYPEtADnTaQKctS0B3d3d3dydLQA==",
           "dtype": "f8",
           "shape": "5"
          },
          "bdata": "AAAAAABYS0A1XrpJDEpLQGq8dJMYPEtADnTaQKctS0B3d3d3dydLQA==",
          "dtype": "f8"
         },
         "legendgroup": "DY1606",
         "lon": {
          "_inputArray": {
           "0": -166.2285,
           "1": -166.12616666666668,
           "2": -166.03716666666668,
           "3": -165.92483333333334,
           "4": -165.881,
           "bdata": "WmQ730/HZMC4Za2OCcRkwLY6JngwwWTAWx0TPJi9ZMDVeOkmMbxkwA==",
           "dtype": "f8",
           "shape": "5"
          },
          "bdata": "WmQ730/HZMC4Za2OCcRkwLY6JngwwWTAWx0TPJi9ZMDVeOkmMbxkwA==",
          "dtype": "f8"
         },
         "marker": {
          "color": "#FFA15A",
          "symbol": "circle"
         },
         "mode": "markers",
         "name": "DY1606",
         "showlegend": true,
         "type": "scattergeo"
        },
        {
         "customdata": [
          [
           "UBW4",
           "CTD061"
          ]
         ],
         "geo": "geo",
         "hovertemplate": "UniqueCruiseID=DY1610<br>latitude=%{lat}<br>longitude=%{lon}<br>StationNameID=%{customdata[0]}<br>ConsecutiveCastNo=%{customdata[1]}<extra></extra>",
         "lat": {
          "_inputArray": {
           "0": 54.73466666666667,
           "bdata": "uGWtjgleS0A=",
           "dtype": "f8",
           "shape": "1"
          },
          "bdata": "uGWtjgleS0A=",
          "dtype": "f8"
         },
         "legendgroup": "DY1610",
         "lon": {
          "_inputArray": {
           "0": -166.24666666666667,
           "bdata": "GEt+seTHZMA=",
           "dtype": "f8",
           "shape": "1"
          },
          "bdata": "GEt+seTHZMA=",
          "dtype": "f8"
         },
         "marker": {
          "color": "#19d3f3",
          "symbol": "circle"
         },
         "mode": "markers",
         "name": "DY1610",
         "showlegend": true,
         "type": "scattergeo"
        },
        {
         "customdata": [
          [
           "UBW1",
           "CTD049"
          ],
          [
           "UBW2",
           "CTD050"
          ],
          [
           "UBW3",
           "CTD051"
          ],
          [
           "UBW4",
           "CTD052"
          ]
         ],
         "geo": "geo",
         "hovertemplate": "UniqueCruiseID=DY1704<br>latitude=%{lat}<br>longitude=%{lon}<br>StationNameID=%{customdata[0]}<br>ConsecutiveCastNo=%{customdata[1]}<extra></extra>",
         "lat": {
          "_inputArray": {
           "0": 54.3595,
           "1": 54.472,
           "2": 54.58883333333333,
           "3": 54.69866666666667,
           "bdata": "vHSTGAQuS0Aj2/l+ajxLQA27AuReS0tAwBHK6G1ZS0A=",
           "dtype": "f8",
           "shape": "4"
          },
          "bdata": "vHSTGAQuS0Aj2/l+ajxLQA27AuReS0tAwBHK6G1ZS0A=",
          "dtype": "f8"
         },
         "legendgroup": "DY1704",
         "lon": {
          "_inputArray": {
           "0": -165.93283333333332,
           "1": -166.0425,
           "2": -166.12216666666666,
           "3": -166.22916666666666,
           "bdata": "IWlKxdm9ZMCPwvUoXMFkwNS/Ecrow2TAVVVVVVXHZMA=",
           "dtype": "f8",
           "shape": "4"
          },
          "bdata": "IWlKxdm9ZMCPwvUoXMFkwNS/Ecrow2TAVVVVVVXHZMA=",
          "dtype": "f8"
         },
         "marker": {
          "color": "#FF6692",
          "symbol": "circle"
         },
         "mode": "markers",
         "name": "DY1704",
         "showlegend": true,
         "type": "scattergeo"
        },
        {
         "customdata": [
          [
           "UBW4",
           "CTD056"
          ],
          [
           "UBW3",
           "CTD057"
          ],
          [
           "UBW2",
           "CTD058"
          ],
          [
           "UBW1",
           "CTD059"
          ]
         ],
         "geo": "geo",
         "hovertemplate": "UniqueCruiseID=DY1708<br>latitude=%{lat}<br>longitude=%{lon}<br>StationNameID=%{customdata[0]}<br>ConsecutiveCastNo=%{customdata[1]}<extra></extra>",
         "lat": {
          "_inputArray": {
           "0": 54.6865,
           "1": 54.5795,
           "2": 54.47666666666667,
           "3": 54.3615,
           "bdata": "HVpkO99XS0AZBFYOLUpLQJ020GkDPUtAg8DKoUUuS0A=",
           "dtype": "f8",
           "shape": "4"
          },
          "bdata": "HVpkO99XS0AZBFYOLUpLQJ020GkDPUtAg8DKoUUuS0A=",
          "dtype": "f8"
         },
         "legendgroup": "DY1708",
         "lon": {
          "_inputArray": {
           "0": -166.23816666666667,
           "1": -166.12783333333334,
           "2": -166.04366666666667,
           "3": -165.93683333333334,
           "bdata": "lYqzD5/HZMAsQO41F8RkwEcoo7dlwWTABQ/mifq9ZMA=",
           "dtype": "f8",
           "shape": "4"
          },
          "bdata": "lYqzD5/HZMAsQO41F8RkwEcoo7dlwWTABQ/mifq9ZMA=",
          "dtype": "f8"
         },
         "marker": {
          "color": "#B6E880",
          "symbol": "circle"
         },
         "mode": "markers",
         "name": "DY1708",
         "showlegend": true,
         "type": "scattergeo"
        },
        {
         "customdata": [
          [
           "UBW1",
           "CTD052"
          ]
         ],
         "geo": "geo",
         "hovertemplate": "UniqueCruiseID=DY1805<br>latitude=%{lat}<br>longitude=%{lon}<br>StationNameID=%{customdata[0]}<br>ConsecutiveCastNo=%{customdata[1]}<extra></extra>",
         "lat": {
          "_inputArray": {
           "0": 54.362833333333334,
           "bdata": "XUiaUnEuS0A=",
           "dtype": "f8",
           "shape": "1"
          },
          "bdata": "XUiaUnEuS0A=",
          "dtype": "f8"
         },
         "legendgroup": "DY1805",
         "lon": {
          "_inputArray": {
           "0": -165.92916666666667,
           "bdata": "vLu7u7u9ZMA=",
           "dtype": "f8",
           "shape": "1"
          },
          "bdata": "vLu7u7u9ZMA=",
          "dtype": "f8"
         },
         "marker": {
          "color": "#FF97FF",
          "symbol": "circle"
         },
         "mode": "markers",
         "name": "DY1805",
         "showlegend": true,
         "type": "scattergeo"
        },
        {
         "customdata": [
          [
           "UBW1",
           "CTD072"
          ],
          [
           "UBW2",
           "CTD073"
          ],
          [
           "UBW3",
           "CTD074"
          ],
          [
           "UBW4",
           "CTD075"
          ]
         ],
         "geo": "geo",
         "hovertemplate": "UniqueCruiseID=DY2103<br>latitude=%{lat}<br>longitude=%{lon}<br>StationNameID=%{customdata[0]}<br>ConsecutiveCastNo=%{customdata[1]}<extra></extra>",
         "lat": {
          "_inputArray": {
           "0": 54.35966666666667,
           "1": 54.474666666666664,
           "2": 54.586,
           "3": 54.688833333333335,
           "bdata": "uGWtjgkuS0DW6pjgwTxLQF66SQwCS0tA2ofPsCtYS0A=",
           "dtype": "f8",
           "shape": "4"
          },
          "bdata": "uGWtjgkuS0DW6pjgwTxLQF66SQwCS0tA2ofPsCtYS0A=",
          "dtype": "f8"
         },
         "legendgroup": "DY2103",
         "lon": {
          "_inputArray": {
           "0": -165.9235,
           "1": -166.04616666666666,
           "2": -166.13883333333334,
           "3": -166.23966666666666,
           "bdata": "ZDvfT429ZMD1b4QyesFkwF1ImlJxxGTAyuhtWavHZMA=",
           "dtype": "f8",
           "shape": "4"
          },
          "bdata": "ZDvfT429ZMD1b4QyesFkwF1ImlJxxGTAyuhtWavHZMA=",
          "dtype": "f8"
         },
         "marker": {
          "color": "#FECB52",
          "symbol": "circle"
         },
         "mode": "markers",
         "name": "DY2103",
         "showlegend": true,
         "type": "scattergeo"
        },
        {
         "customdata": [
          [
           "UBW1",
           "CTD007"
          ],
          [
           "UBW2",
           "CTD008"
          ],
          [
           "UBW3",
           "CTD009"
          ],
          [
           "UBW4",
           "CTD010"
          ]
         ],
         "geo": "geo",
         "hovertemplate": "UniqueCruiseID=DY2306<br>latitude=%{lat}<br>longitude=%{lon}<br>StationNameID=%{customdata[0]}<br>ConsecutiveCastNo=%{customdata[1]}<extra></extra>",
         "lat": {
          "_inputArray": {
           "0": 54.360166666666665,
           "1": 54.47516666666667,
           "2": 54.589166666666664,
           "3": 54.68683333333333,
           "bdata": "qTj78BkuS0DIveZC0jxLQAOdNtBpS0tAEzyYJ+pXS0A=",
           "dtype": "f8",
           "shape": "4"
          },
          "bdata": "qTj78BkuS0DIveZC0jxLQAOdNtBpS0tAEzyYJ+pXS0A=",
          "dtype": "f8"
         },
         "legendgroup": "DY2306",
         "lon": {
          "_inputArray": {
           "0": -165.93166666666667,
           "1": -166.03666666666666,
           "2": -166.1195,
           "3": -166.23016666666666,
           "bdata": "agOdNtC9ZMD5xZJfLMFkwOf7qfHSw2TAzj58hl3HZMA=",
           "dtype": "f8",
           "shape": "4"
          },
          "bdata": "agOdNtC9ZMD5xZJfLMFkwOf7qfHSw2TAzj58hl3HZMA=",
          "dtype": "f8"
         },
         "marker": {
          "color": "#636efa",
          "symbol": "circle"
         },
         "mode": "markers",
         "name": "DY2306",
         "showlegend": true,
         "type": "scattergeo"
        },
        {
         "customdata": [
          [
           "UBW1",
           "CTD061"
          ],
          [
           "UBW2",
           "CTD062"
          ],
          [
           "UBW3",
           "CTD063"
          ],
          [
           "UBW4",
           "CTD064"
          ]
         ],
         "geo": "geo",
         "hovertemplate": "UniqueCruiseID=DY2410<br>latitude=%{lat}<br>longitude=%{lon}<br>StationNameID=%{customdata[0]}<br>ConsecutiveCastNo=%{customdata[1]}<extra></extra>",
         "lat": {
          "_inputArray": {
           "0": 54.350833333333334,
           "1": 54.474983333333334,
           "2": 54.58606666666667,
           "3": 54.68651666666667,
           "bdata": "tYFOG+gsS0DnZ/1AzDxLQPZNhzsES0tAA78zx99XS0A=",
           "dtype": "f8",
           "shape": "4"
          },
          "bdata": "tYFOG+gsS0DnZ/1AzDxLQPZNhzsES0tAA78zx99XS0A=",
          "dtype": "f8"
         },
         "legendgroup": "DY2410",
         "lon": {
          "_inputArray": {
           "0": -165.92383333333333,
           "1": -166.04688333333334,
           "2": -166.13046666666668,
           "3": -166.2356,
           "bdata": "4jPsCpC9ZMCd7HkRgMFkwKZRbsgsxGTAAd4CCYrHZMA=",
           "dtype": "f8",
           "shape": "4"
          },
          "bdata": "4jPsCpC9ZMCd7HkRgMFkwKZRbsgsxGTAAd4CCYrHZMA=",
          "dtype": "f8"
         },
         "marker": {
          "color": "#EF553B",
          "symbol": "circle"
         },
         "mode": "markers",
         "name": "DY2410",
         "showlegend": true,
         "type": "scattergeo"
        },
        {
         "customdata": [
          [
           "UBW1",
           "CTD008"
          ],
          [
           "UBW2",
           "CTD009"
          ],
          [
           "UBW3",
           "CTD010"
          ],
          [
           "UBW4",
           "CTD011"
          ]
         ],
         "geo": "geo",
         "hovertemplate": "UniqueCruiseID=DY2504<br>latitude=%{lat}<br>longitude=%{lon}<br>StationNameID=%{customdata[0]}<br>ConsecutiveCastNo=%{customdata[1]}<extra></extra>",
         "lat": {
          "_inputArray": {
           "0": 54.352,
           "1": 54.470666666666666,
           "2": 54.584,
           "3": 54.68716666666667,
           "bdata": "kxgEVg4tS0BJUyrOPjxLQJhuEoPASktACh7ME/VXS0A=",
           "dtype": "f8",
           "shape": "4"
          },
          "bdata": "kxgEVg4tS0BJUyrOPjxLQJhuEoPASktACh7ME/VXS0A=",
          "dtype": "f8"
         },
         "legendgroup": "DY2504",
         "lon": {
          "_inputArray": {
           "0": -165.92733333333334,
           "1": -166.03966666666668,
           "2": -166.129,
           "3": -166.235,
           "bdata": "CWX0tqy9ZMBkggfzRMFkwOOlm8QgxGTA7FG4HoXHZMA=",
           "dtype": "f8",
           "shape": "4"
          },
          "bdata": "CWX0tqy9ZMBkggfzRMFkwOOlm8QgxGTA7FG4HoXHZMA=",
          "dtype": "f8"
         },
         "marker": {
          "color": "#00cc96",
          "symbol": "circle"
         },
         "mode": "markers",
         "name": "DY2504",
         "showlegend": true,
         "type": "scattergeo"
        },
        {
         "customdata": [
          [
           "ubw1",
           "CTD186"
          ],
          [
           "ubw4",
           "CTD200"
          ],
          [
           "ubw3",
           "CTD201"
          ],
          [
           "ubw2",
           "CTD202"
          ],
          [
           "ubw1",
           "CTD203"
          ]
         ],
         "geo": "geo",
         "hovertemplate": "UniqueCruiseID=WE1008<br>latitude=%{lat}<br>longitude=%{lon}<br>StationNameID=%{customdata[0]}<br>ConsecutiveCastNo=%{customdata[1]}<extra></extra>",
         "lat": {
          "_inputArray": {
           "0": 54.687331666666665,
           "1": 54.35800166666667,
           "2": 54.47183166666667,
           "3": 54.582168333333335,
           "4": 54.687668333333335,
           "bdata": "VOvqe/pXS0CYH6X/0i1LQHfG5PpkPEtAfTfwfYRKS0CsFBWEBVhLQA==",
           "dtype": "f8",
           "shape": "5"
          },
          "bdata": "VOvqe/pXS0CYH6X/0i1LQHfG5PpkPEtAfTfwfYRKS0CsFBWEBVhLQA==",
          "dtype": "f8"
         },
         "legendgroup": "WE1008",
         "lon": {
          "_inputArray": {
           "0": -166.23616,
           "1": -165.927505,
           "2": -166.03816216666667,
           "3": -166.12916566666667,
           "4": -166.23649666666665,
           "bdata": "85Nqn47HZMAMPPcerr1kwOQ43Z84wWTALkMJICLEZMBIHnVhkcdkwA==",
           "dtype": "f8",
           "shape": "5"
          },
          "bdata": "85Nqn47HZMAMPPcerr1kwOQ43Z84wWTALkMJICLEZMBIHnVhkcdkwA==",
          "dtype": "f8"
         },
         "marker": {
          "color": "#ab63fa",
          "symbol": "circle"
         },
         "mode": "markers",
         "name": "WE1008",
         "showlegend": true,
         "type": "scattergeo"
        }
       ],
       "layout": {
        "autosize": true,
        "geo": {
         "center": {
          "lat": 54.44320203617953,
          "lon": -165.99699256429494
         },
         "domain": {
          "x": [
           0,
           1
          ],
          "y": [
           0,
           1
          ]
         },
         "fitbounds": false,
         "projection": {
          "rotation": {
           "lon": -165.99699256429494
          },
          "scale": 515.4272035760715
         }
        },
        "legend": {
         "title": {
          "text": "UniqueCruiseID"
         },
         "tracegroupgap": 0
        },
        "margin": {
         "t": 60
        },
        "template": {
         "data": {
          "bar": [
           {
            "error_x": {
             "color": "#2a3f5f"
            },
            "error_y": {
             "color": "#2a3f5f"
            },
            "marker": {
             "line": {
              "color": "#E5ECF6",
              "width": 0.5
             },
             "pattern": {
              "fillmode": "overlay",
              "size": 10,
              "solidity": 0.2
             }
            },
            "type": "bar"
           }
          ],
          "barpolar": [
           {
            "marker": {
             "line": {
              "color": "#E5ECF6",
              "width": 0.5
             },
             "pattern": {
              "fillmode": "overlay",
              "size": 10,
              "solidity": 0.2
             }
            },
            "type": "barpolar"
           }
          ],
          "carpet": [
           {
            "aaxis": {
             "endlinecolor": "#2a3f5f",
             "gridcolor": "white",
             "linecolor": "white",
             "minorgridcolor": "white",
             "startlinecolor": "#2a3f5f"
            },
            "baxis": {
             "endlinecolor": "#2a3f5f",
             "gridcolor": "white",
             "linecolor": "white",
             "minorgridcolor": "white",
             "startlinecolor": "#2a3f5f"
            },
            "type": "carpet"
           }
          ],
          "choropleth": [
           {
            "colorbar": {
             "outlinewidth": 0,
             "ticks": ""
            },
            "type": "choropleth"
           }
          ],
          "contour": [
           {
            "colorbar": {
             "outlinewidth": 0,
             "ticks": ""
            },
            "colorscale": [
             [
              0,
              "#0d0887"
             ],
             [
              0.1111111111111111,
              "#46039f"
             ],
             [
              0.2222222222222222,
              "#7201a8"
             ],
             [
              0.3333333333333333,
              "#9c179e"
             ],
             [
              0.4444444444444444,
              "#bd3786"
             ],
             [
              0.5555555555555556,
              "#d8576b"
             ],
             [
              0.6666666666666666,
              "#ed7953"
             ],
             [
              0.7777777777777778,
              "#fb9f3a"
             ],
             [
              0.8888888888888888,
              "#fdca26"
             ],
             [
              1,
              "#f0f921"
             ]
            ],
            "type": "contour"
           }
          ],
          "contourcarpet": [
           {
            "colorbar": {
             "outlinewidth": 0,
             "ticks": ""
            },
            "type": "contourcarpet"
           }
          ],
          "heatmap": [
           {
            "colorbar": {
             "outlinewidth": 0,
             "ticks": ""
            },
            "colorscale": [
             [
              0,
              "#0d0887"
             ],
             [
              0.1111111111111111,
              "#46039f"
             ],
             [
              0.2222222222222222,
              "#7201a8"
             ],
             [
              0.3333333333333333,
              "#9c179e"
             ],
             [
              0.4444444444444444,
              "#bd3786"
             ],
             [
              0.5555555555555556,
              "#d8576b"
             ],
             [
              0.6666666666666666,
              "#ed7953"
             ],
             [
              0.7777777777777778,
              "#fb9f3a"
             ],
             [
              0.8888888888888888,
              "#fdca26"
             ],
             [
              1,
              "#f0f921"
             ]
            ],
            "type": "heatmap"
           }
          ],
          "histogram": [
           {
            "marker": {
             "pattern": {
              "fillmode": "overlay",
              "size": 10,
              "solidity": 0.2
             }
            },
            "type": "histogram"
           }
          ],
          "histogram2d": [
           {
            "colorbar": {
             "outlinewidth": 0,
             "ticks": ""
            },
            "colorscale": [
             [
              0,
              "#0d0887"
             ],
             [
              0.1111111111111111,
              "#46039f"
             ],
             [
              0.2222222222222222,
              "#7201a8"
             ],
             [
              0.3333333333333333,
              "#9c179e"
             ],
             [
              0.4444444444444444,
              "#bd3786"
             ],
             [
              0.5555555555555556,
              "#d8576b"
             ],
             [
              0.6666666666666666,
              "#ed7953"
             ],
             [
              0.7777777777777778,
              "#fb9f3a"
             ],
             [
              0.8888888888888888,
              "#fdca26"
             ],
             [
              1,
              "#f0f921"
             ]
            ],
            "type": "histogram2d"
           }
          ],
          "histogram2dcontour": [
           {
            "colorbar": {
             "outlinewidth": 0,
             "ticks": ""
            },
            "colorscale": [
             [
              0,
              "#0d0887"
             ],
             [
              0.1111111111111111,
              "#46039f"
             ],
             [
              0.2222222222222222,
              "#7201a8"
             ],
             [
              0.3333333333333333,
              "#9c179e"
             ],
             [
              0.4444444444444444,
              "#bd3786"
             ],
             [
              0.5555555555555556,
              "#d8576b"
             ],
             [
              0.6666666666666666,
              "#ed7953"
             ],
             [
              0.7777777777777778,
              "#fb9f3a"
             ],
             [
              0.8888888888888888,
              "#fdca26"
             ],
             [
              1,
              "#f0f921"
             ]
            ],
            "type": "histogram2dcontour"
           }
          ],
          "mesh3d": [
           {
            "colorbar": {
             "outlinewidth": 0,
             "ticks": ""
            },
            "type": "mesh3d"
           }
          ],
          "parcoords": [
           {
            "line": {
             "colorbar": {
              "outlinewidth": 0,
              "ticks": ""
             }
            },
            "type": "parcoords"
           }
          ],
          "pie": [
           {
            "automargin": true,
            "type": "pie"
           }
          ],
          "scatter": [
           {
            "fillpattern": {
             "fillmode": "overlay",
             "size": 10,
             "solidity": 0.2
            },
            "type": "scatter"
           }
          ],
          "scatter3d": [
           {
            "line": {
             "colorbar": {
              "outlinewidth": 0,
              "ticks": ""
             }
            },
            "marker": {
             "colorbar": {
              "outlinewidth": 0,
              "ticks": ""
             }
            },
            "type": "scatter3d"
           }
          ],
          "scattercarpet": [
           {
            "marker": {
             "colorbar": {
              "outlinewidth": 0,
              "ticks": ""
             }
            },
            "type": "scattercarpet"
           }
          ],
          "scattergeo": [
           {
            "marker": {
             "colorbar": {
              "outlinewidth": 0,
              "ticks": ""
             }
            },
            "type": "scattergeo"
           }
          ],
          "scattergl": [
           {
            "marker": {
             "colorbar": {
              "outlinewidth": 0,
              "ticks": ""
             }
            },
            "type": "scattergl"
           }
          ],
          "scattermap": [
           {
            "marker": {
             "colorbar": {
              "outlinewidth": 0,
              "ticks": ""
             }
            },
            "type": "scattermap"
           }
          ],
          "scattermapbox": [
           {
            "marker": {
             "colorbar": {
              "outlinewidth": 0,
              "ticks": ""
             }
            },
            "type": "scattermapbox"
           }
          ],
          "scatterpolar": [
           {
            "marker": {
             "colorbar": {
              "outlinewidth": 0,
              "ticks": ""
             }
            },
            "type": "scatterpolar"
           }
          ],
          "scatterpolargl": [
           {
            "marker": {
             "colorbar": {
              "outlinewidth": 0,
              "ticks": ""
             }
            },
            "type": "scatterpolargl"
           }
          ],
          "scatterternary": [
           {
            "marker": {
             "colorbar": {
              "outlinewidth": 0,
              "ticks": ""
             }
            },
            "type": "scatterternary"
           }
          ],
          "surface": [
           {
            "colorbar": {
             "outlinewidth": 0,
             "ticks": ""
            },
            "colorscale": [
             [
              0,
              "#0d0887"
             ],
             [
              0.1111111111111111,
              "#46039f"
             ],
             [
              0.2222222222222222,
              "#7201a8"
             ],
             [
              0.3333333333333333,
              "#9c179e"
             ],
             [
              0.4444444444444444,
              "#bd3786"
             ],
             [
              0.5555555555555556,
              "#d8576b"
             ],
             [
              0.6666666666666666,
              "#ed7953"
             ],
             [
              0.7777777777777778,
              "#fb9f3a"
             ],
             [
              0.8888888888888888,
              "#fdca26"
             ],
             [
              1,
              "#f0f921"
             ]
            ],
            "type": "surface"
           }
          ],
          "table": [
           {
            "cells": {
             "fill": {
              "color": "#EBF0F8"
             },
             "line": {
              "color": "white"
             }
            },
            "header": {
             "fill": {
              "color": "#C8D4E3"
             },
             "line": {
              "color": "white"
             }
            },
            "type": "table"
           }
          ]
         },
         "layout": {
          "annotationdefaults": {
           "arrowcolor": "#2a3f5f",
           "arrowhead": 0,
           "arrowwidth": 1
          },
          "autotypenumbers": "strict",
          "coloraxis": {
           "colorbar": {
            "outlinewidth": 0,
            "ticks": ""
           }
          },
          "colorscale": {
           "diverging": [
            [
             0,
             "#8e0152"
            ],
            [
             0.1,
             "#c51b7d"
            ],
            [
             0.2,
             "#de77ae"
            ],
            [
             0.3,
             "#f1b6da"
            ],
            [
             0.4,
             "#fde0ef"
            ],
            [
             0.5,
             "#f7f7f7"
            ],
            [
             0.6,
             "#e6f5d0"
            ],
            [
             0.7,
             "#b8e186"
            ],
            [
             0.8,
             "#7fbc41"
            ],
            [
             0.9,
             "#4d9221"
            ],
            [
             1,
             "#276419"
            ]
           ],
           "sequential": [
            [
             0,
             "#0d0887"
            ],
            [
             0.1111111111111111,
             "#46039f"
            ],
            [
             0.2222222222222222,
             "#7201a8"
            ],
            [
             0.3333333333333333,
             "#9c179e"
            ],
            [
             0.4444444444444444,
             "#bd3786"
            ],
            [
             0.5555555555555556,
             "#d8576b"
            ],
            [
             0.6666666666666666,
             "#ed7953"
            ],
            [
             0.7777777777777778,
             "#fb9f3a"
            ],
            [
             0.8888888888888888,
             "#fdca26"
            ],
            [
             1,
             "#f0f921"
            ]
           ],
           "sequentialminus": [
            [
             0,
             "#0d0887"
            ],
            [
             0.1111111111111111,
             "#46039f"
            ],
            [
             0.2222222222222222,
             "#7201a8"
            ],
            [
             0.3333333333333333,
             "#9c179e"
            ],
            [
             0.4444444444444444,
             "#bd3786"
            ],
            [
             0.5555555555555556,
             "#d8576b"
            ],
            [
             0.6666666666666666,
             "#ed7953"
            ],
            [
             0.7777777777777778,
             "#fb9f3a"
            ],
            [
             0.8888888888888888,
             "#fdca26"
            ],
            [
             1,
             "#f0f921"
            ]
           ]
          },
          "colorway": [
           "#636efa",
           "#EF553B",
           "#00cc96",
           "#ab63fa",
           "#FFA15A",
           "#19d3f3",
           "#FF6692",
           "#B6E880",
           "#FF97FF",
           "#FECB52"
          ],
          "font": {
           "color": "#2a3f5f"
          },
          "geo": {
           "bgcolor": "white",
           "lakecolor": "white",
           "landcolor": "#E5ECF6",
           "showlakes": true,
           "showland": true,
           "subunitcolor": "white"
          },
          "hoverlabel": {
           "align": "left"
          },
          "hovermode": "closest",
          "mapbox": {
           "style": "light"
          },
          "paper_bgcolor": "white",
          "plot_bgcolor": "#E5ECF6",
          "polar": {
           "angularaxis": {
            "gridcolor": "white",
            "linecolor": "white",
            "ticks": ""
           },
           "bgcolor": "#E5ECF6",
           "radialaxis": {
            "gridcolor": "white",
            "linecolor": "white",
            "ticks": ""
           }
          },
          "scene": {
           "xaxis": {
            "backgroundcolor": "#E5ECF6",
            "gridcolor": "white",
            "gridwidth": 2,
            "linecolor": "white",
            "showbackground": true,
            "ticks": "",
            "zerolinecolor": "white"
           },
           "yaxis": {
            "backgroundcolor": "#E5ECF6",
            "gridcolor": "white",
            "gridwidth": 2,
            "linecolor": "white",
            "showbackground": true,
            "ticks": "",
            "zerolinecolor": "white"
           },
           "zaxis": {
            "backgroundcolor": "#E5ECF6",
            "gridcolor": "white",
            "gridwidth": 2,
            "linecolor": "white",
            "showbackground": true,
            "ticks": "",
            "zerolinecolor": "white"
           }
          },
          "shapedefaults": {
           "line": {
            "color": "#2a3f5f"
           }
          },
          "ternary": {
           "aaxis": {
            "gridcolor": "white",
            "linecolor": "white",
            "ticks": ""
           },
           "baxis": {
            "gridcolor": "white",
            "linecolor": "white",
            "ticks": ""
           },
           "bgcolor": "#E5ECF6",
           "caxis": {
            "gridcolor": "white",
            "linecolor": "white",
            "ticks": ""
           }
          },
          "title": {
           "x": 0.05
          },
          "xaxis": {
           "automargin": true,
           "gridcolor": "white",
           "linecolor": "white",
           "ticks": "",
           "title": {
            "standoff": 15
           },
           "zerolinecolor": "white",
           "zerolinewidth": 2
          },
          "yaxis": {
           "automargin": true,
           "gridcolor": "white",
           "linecolor": "white",
           "ticks": "",
           "title": {
            "standoff": 15
           },
           "zerolinecolor": "white",
           "zerolinewidth": 2
          }
         }
        }
       }
      },
      "image/png": "[encoded data removed]"
     },
     "metadata": {},
     "output_type": "display_data"
    }
   ],
   "source": [
    "fig = px.scatter_geo(castlogs,\n",
    "                     lat='latitude',\n",
    "                     lon='longitude',\n",
    "                     color='UniqueCruiseID',\n",
    "                     hover_data=[\"StationNameID\",\"ConsecutiveCastNo\"], \n",
    "                     center={'lat': 56.176, 'lon': -160},\n",
    "                     \n",
    "                    )\n",
    "fig.update_layout(height=700)\n",
    "fig.update_geos(fitbounds=\"locations\")                           # Automatic Zooming !!!!\n"
   ]
  },
  {
   "cell_type": "code",
   "execution_count": null,
   "id": "ad397450-4eaa-4dc1-a433-162b7d4ebf40",
   "metadata": {
    "editable": true,
    "slideshow": {
     "slide_type": ""
    },
    "tags": []
   },
   "outputs": [],
   "source": []
  }
 ],
 "metadata": {
  "kernelspec": {
   "display_name": "Python [conda env:p312]",
   "language": "python",
   "name": "conda-env-p312-py"
  },
  "language_info": {
   "codemirror_mode": {
    "name": "ipython",
    "version": 3
   },
   "file_extension": ".py",
   "mimetype": "text/x-python",
   "name": "python",
   "nbconvert_exporter": "python",
   "pygments_lexer": "ipython3",
   "version": "3.12.10"
  }
 },
 "nbformat": 4,
 "nbformat_minor": 5
}
