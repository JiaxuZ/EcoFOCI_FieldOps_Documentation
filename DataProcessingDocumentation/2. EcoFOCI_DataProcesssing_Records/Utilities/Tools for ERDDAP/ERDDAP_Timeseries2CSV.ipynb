{
 "cells": [
  {
   "cell_type": "markdown",
   "id": "a9efb942-d64d-452d-a16d-83daa5955f18",
   "metadata": {},
   "source": [
    "# TimeSeries Mooring Data - Quick Plot\n",
    "\n",
    "From an erddap Dataset, specify the Mooring ID to get a quick plot of the data"
   ]
  },
  {
   "cell_type": "code",
   "execution_count": 1,
   "id": "92a12314-bdba-42db-b856-6ce23d253898",
   "metadata": {},
   "outputs": [],
   "source": [
    "from erddapy import ERDDAP\n",
    "import pandas as pd\n",
    "import numpy as np"
   ]
  },
  {
   "cell_type": "code",
   "execution_count": 2,
   "id": "bbc99bcf-e35d-4785-bfab-1242d8d2e250",
   "metadata": {},
   "outputs": [],
   "source": [
    "server_url = 'http://ecofoci-field.pmel.noaa.gov:8080/erddap'\n",
    "dataset_name = 'datasets_Mooring_22ckp12a_final'\n",
    "e = ERDDAP(server=server_url,\n",
    "          protocol='tabledap',\n",
    "          response='csv')\n",
    "\n",
    "e.dataset_id=dataset_name\n",
    "# e.variables = [\"time\",\"latitude\",\"longitude\",\"depth\",\"chlorophyll_fluorescence\",\"timeseries_id\"]\n",
    "\n",
    "pdf = e.to_pandas(\n",
    "            index_col='time (UTC)',\n",
    "            parse_dates=True,\n",
    "            skiprows=(1,)  # units information can be dropped.\n",
    "        )\n",
    "# pdf"
   ]
  },
  {
   "cell_type": "code",
   "execution_count": 3,
   "id": "609f449a-ca20-4c8b-8911-7342e3160028",
   "metadata": {},
   "outputs": [
    {
     "name": "stdout",
     "output_type": "stream",
     "text": [
      "22ckp12a_an9_0054m\n",
      "22ckp12a_ecf_0049m\n",
      "22ckp12a_s16_0049m\n"
     ]
    }
   ],
   "source": [
    "for i,groups in pdf.groupby('timeseries_id'):\n",
    "    print(i)"
   ]
  },
  {
   "cell_type": "code",
   "execution_count": 27,
   "id": "913ef2b5-deaa-4355-b094-8cbe1a83fab2",
   "metadata": {},
   "outputs": [],
   "source": [
    "for i,groups in pdf.groupby('timeseries_id'):\n",
    "    groups.dropna(how='all',axis=1).to_csv(f'{i}.csv')"
   ]
  },
  {
   "cell_type": "code",
   "execution_count": 8,
   "id": "192050e4-6036-4b7b-88ae-f603cd6b98b5",
   "metadata": {},
   "outputs": [],
   "source": []
  },
  {
   "cell_type": "code",
   "execution_count": null,
   "id": "bcc3a80c-8d08-4b5a-8bb9-d4035379d15e",
   "metadata": {},
   "outputs": [],
   "source": []
  }
 ],
 "metadata": {
  "kernelspec": {
   "display_name": "Python [conda env:p312]",
   "language": "python",
   "name": "conda-env-p312-py"
  },
  "language_info": {
   "codemirror_mode": {
    "name": "ipython",
    "version": 3
   },
   "file_extension": ".py",
   "mimetype": "text/x-python",
   "name": "python",
   "nbconvert_exporter": "python",
   "pygments_lexer": "ipython3",
   "version": "3.12.8"
  }
 },
 "nbformat": 4,
 "nbformat_minor": 5
}
