{
 "cells": [
  {
   "cell_type": "markdown",
   "id": "642af05d-a4b4-4278-af7e-8c0ffb978c7f",
   "metadata": {},
   "source": [
    "# TimeSeries Mooring Data - Quick Plot - Multideployment\n",
    "\n",
    "From an erddap Dataset, specify the Mooring IDs to get a quick plot of the data"
   ]
  },
  {
   "cell_type": "code",
   "execution_count": 4,
   "id": "da756af5-5088-4e71-9373-3a54cd322fc6",
   "metadata": {
    "tags": []
   },
   "outputs": [],
   "source": [
    "from erddapy import ERDDAP\n",
    "import pandas as pd\n",
    "import numpy as np"
   ]
  },
  {
   "cell_type": "code",
   "execution_count": 8,
   "id": "85f00179-9393-4a8f-b08f-e0d7632e0e5b",
   "metadata": {
    "tags": []
   },
   "outputs": [],
   "source": [
    "server_url = 'http://ecofoci-field.pmel.noaa.gov:8082/erddap'\n",
    "dataset_name = {'23bs2c':'datasets_Mooring_23bs2c',\n",
    "                '24bpr2a':'datasets_Mooring_24bspr2a',\n",
    "               }"
   ]
  },
  {
   "cell_type": "code",
   "execution_count": 9,
   "id": "7e75e364-a398-4e1f-a2f7-7c758594502e",
   "metadata": {
    "tags": []
   },
   "outputs": [],
   "source": [
    "pdf = {}             "
   ]
  },
  {
   "cell_type": "code",
   "execution_count": 10,
   "id": "289e4a53-0784-46d3-8526-c53b645af431",
   "metadata": {
    "scrolled": true,
    "tags": []
   },
   "outputs": [
    {
     "ename": "HTTPError",
     "evalue": "Error {\n    code=404;\n    message=\"Not Found: Currently unknown datasetID=datasets_Mooring_23bs2c\";\n}\n",
     "output_type": "error",
     "traceback": [
      "\u001b[0;31m---------------------------------------------------------------------------\u001b[0m",
      "\u001b[0;31mHTTPStatusError\u001b[0m                           Traceback (most recent call last)",
      "File \u001b[0;32m~/mambaforge/envs/py311/lib/python3.11/site-packages/erddapy/core/url.py:24\u001b[0m, in \u001b[0;36m_urlopen\u001b[0;34m(url, auth, **kwargs)\u001b[0m\n\u001b[1;32m     23\u001b[0m \u001b[38;5;28;01mtry\u001b[39;00m:\n\u001b[0;32m---> 24\u001b[0m     \u001b[43mresponse\u001b[49m\u001b[38;5;241;43m.\u001b[39;49m\u001b[43mraise_for_status\u001b[49m\u001b[43m(\u001b[49m\u001b[43m)\u001b[49m\n\u001b[1;32m     25\u001b[0m \u001b[38;5;28;01mexcept\u001b[39;00m httpx\u001b[38;5;241m.\u001b[39mHTTPError \u001b[38;5;28;01mas\u001b[39;00m err:\n",
      "File \u001b[0;32m~/mambaforge/envs/py311/lib/python3.11/site-packages/httpx/_models.py:763\u001b[0m, in \u001b[0;36mResponse.raise_for_status\u001b[0;34m(self)\u001b[0m\n\u001b[1;32m    762\u001b[0m message \u001b[38;5;241m=\u001b[39m message\u001b[38;5;241m.\u001b[39mformat(\u001b[38;5;28mself\u001b[39m, error_type\u001b[38;5;241m=\u001b[39merror_type)\n\u001b[0;32m--> 763\u001b[0m \u001b[38;5;28;01mraise\u001b[39;00m HTTPStatusError(message, request\u001b[38;5;241m=\u001b[39mrequest, response\u001b[38;5;241m=\u001b[39m\u001b[38;5;28mself\u001b[39m)\n",
      "\u001b[0;31mHTTPStatusError\u001b[0m: Client error '404 ' for url 'http://ecofoci-field.pmel.noaa.gov:8082/erddap/tabledap/datasets_Mooring_23bs2c.csvp?'\nFor more information check: https://developer.mozilla.org/en-US/docs/Web/HTTP/Status/404",
      "\nThe above exception was the direct cause of the following exception:\n",
      "\u001b[0;31mHTTPError\u001b[0m                                 Traceback (most recent call last)",
      "Cell \u001b[0;32mIn[10], line 9\u001b[0m\n\u001b[1;32m      5\u001b[0m \u001b[38;5;28;01mfor\u001b[39;00m ds,dn \u001b[38;5;129;01min\u001b[39;00m \u001b[38;5;28menumerate\u001b[39m(dataset_name):\n\u001b[1;32m      7\u001b[0m     e\u001b[38;5;241m.\u001b[39mdataset_id\u001b[38;5;241m=\u001b[39mdataset_name[dn]\n\u001b[0;32m----> 9\u001b[0m     df \u001b[38;5;241m=\u001b[39m \u001b[43me\u001b[49m\u001b[38;5;241;43m.\u001b[39;49m\u001b[43mto_pandas\u001b[49m\u001b[43m(\u001b[49m\n\u001b[1;32m     10\u001b[0m \u001b[43m                \u001b[49m\u001b[43mindex_col\u001b[49m\u001b[38;5;241;43m=\u001b[39;49m\u001b[38;5;124;43m'\u001b[39;49m\u001b[38;5;124;43mtime (UTC)\u001b[39;49m\u001b[38;5;124;43m'\u001b[39;49m\u001b[43m,\u001b[49m\n\u001b[1;32m     11\u001b[0m \u001b[43m                \u001b[49m\u001b[43mparse_dates\u001b[49m\u001b[38;5;241;43m=\u001b[39;49m\u001b[38;5;28;43;01mTrue\u001b[39;49;00m\u001b[43m,\u001b[49m\n\u001b[1;32m     12\u001b[0m \u001b[43m                \u001b[49m\u001b[43mskiprows\u001b[49m\u001b[38;5;241;43m=\u001b[39;49m\u001b[43m(\u001b[49m\u001b[38;5;241;43m1\u001b[39;49m\u001b[43m,\u001b[49m\u001b[43m)\u001b[49m\u001b[43m  \u001b[49m\u001b[38;5;66;43;03m# units information can be dropped.\u001b[39;49;00m\n\u001b[1;32m     13\u001b[0m \u001b[43m            \u001b[49m\u001b[43m)\u001b[49m\n\u001b[1;32m     14\u001b[0m     pdf\u001b[38;5;241m.\u001b[39mupdate({dn:df})\n",
      "File \u001b[0;32m~/mambaforge/envs/py311/lib/python3.11/site-packages/erddapy/erddapy.py:361\u001b[0m, in \u001b[0;36mERDDAP.to_pandas\u001b[0;34m(self, requests_kwargs, **kw)\u001b[0m\n\u001b[1;32m    359\u001b[0m distinct \u001b[38;5;241m=\u001b[39m kw\u001b[38;5;241m.\u001b[39mpop(\u001b[38;5;124m\"\u001b[39m\u001b[38;5;124mdistinct\u001b[39m\u001b[38;5;124m\"\u001b[39m, \u001b[38;5;28;01mFalse\u001b[39;00m)\n\u001b[1;32m    360\u001b[0m url \u001b[38;5;241m=\u001b[39m \u001b[38;5;28mself\u001b[39m\u001b[38;5;241m.\u001b[39mget_download_url(response\u001b[38;5;241m=\u001b[39mresponse, distinct\u001b[38;5;241m=\u001b[39mdistinct)\n\u001b[0;32m--> 361\u001b[0m \u001b[38;5;28;01mreturn\u001b[39;00m \u001b[43mto_pandas\u001b[49m\u001b[43m(\u001b[49m\u001b[43murl\u001b[49m\u001b[43m,\u001b[49m\u001b[43m \u001b[49m\u001b[43mrequests_kwargs\u001b[49m\u001b[38;5;241;43m=\u001b[39;49m\u001b[43mrequests_kwargs\u001b[49m\u001b[43m,\u001b[49m\u001b[43m \u001b[49m\u001b[43mpandas_kwargs\u001b[49m\u001b[38;5;241;43m=\u001b[39;49m\u001b[38;5;28;43mdict\u001b[39;49m\u001b[43m(\u001b[49m\u001b[38;5;241;43m*\u001b[39;49m\u001b[38;5;241;43m*\u001b[39;49m\u001b[43mkw\u001b[49m\u001b[43m)\u001b[49m\u001b[43m)\u001b[49m\n",
      "File \u001b[0;32m~/mambaforge/envs/py311/lib/python3.11/site-packages/erddapy/core/interfaces.py:31\u001b[0m, in \u001b[0;36mto_pandas\u001b[0;34m(url, requests_kwargs, pandas_kwargs)\u001b[0m\n\u001b[1;32m     19\u001b[0m \u001b[38;5;28;01mdef\u001b[39;00m \u001b[38;5;21mto_pandas\u001b[39m(\n\u001b[1;32m     20\u001b[0m     url: \u001b[38;5;28mstr\u001b[39m,\n\u001b[1;32m     21\u001b[0m     requests_kwargs: Optional[Dict] \u001b[38;5;241m=\u001b[39m \u001b[38;5;28;01mNone\u001b[39;00m,\n\u001b[1;32m     22\u001b[0m     pandas_kwargs: Optional[Dict] \u001b[38;5;241m=\u001b[39m \u001b[38;5;28;01mNone\u001b[39;00m,\n\u001b[1;32m     23\u001b[0m ) \u001b[38;5;241m-\u001b[39m\u001b[38;5;241m>\u001b[39m \u001b[38;5;124m\"\u001b[39m\u001b[38;5;124mpd.DataFrame\u001b[39m\u001b[38;5;124m\"\u001b[39m:\n\u001b[1;32m     24\u001b[0m \u001b[38;5;250m    \u001b[39m\u001b[38;5;124;03m\"\"\"\u001b[39;00m\n\u001b[1;32m     25\u001b[0m \u001b[38;5;124;03m    Convert a URL to Pandas DataFrame.\u001b[39;00m\n\u001b[1;32m     26\u001b[0m \n\u001b[0;32m   (...)\u001b[0m\n\u001b[1;32m     29\u001b[0m \u001b[38;5;124;03m    **pandas_kwargs: kwargs to be passed to third-party library (pandas).\u001b[39;00m\n\u001b[1;32m     30\u001b[0m \u001b[38;5;124;03m    \"\"\"\u001b[39;00m\n\u001b[0;32m---> 31\u001b[0m     data \u001b[38;5;241m=\u001b[39m \u001b[43murlopen\u001b[49m\u001b[43m(\u001b[49m\u001b[43murl\u001b[49m\u001b[43m,\u001b[49m\u001b[43m \u001b[49m\u001b[43mrequests_kwargs\u001b[49m\u001b[43m \u001b[49m\u001b[38;5;129;43;01mor\u001b[39;49;00m\u001b[43m \u001b[49m\u001b[43m{\u001b[49m\u001b[43m}\u001b[49m\u001b[43m)\u001b[49m\n\u001b[1;32m     32\u001b[0m     \u001b[38;5;28;01mtry\u001b[39;00m:\n\u001b[1;32m     33\u001b[0m         \u001b[38;5;28;01mreturn\u001b[39;00m pd\u001b[38;5;241m.\u001b[39mread_csv(data, \u001b[38;5;241m*\u001b[39m\u001b[38;5;241m*\u001b[39m(pandas_kwargs \u001b[38;5;129;01mor\u001b[39;00m {}))\n",
      "File \u001b[0;32m~/mambaforge/envs/py311/lib/python3.11/site-packages/erddapy/core/url.py:42\u001b[0m, in \u001b[0;36murlopen\u001b[0;34m(url, requests_kwargs)\u001b[0m\n\u001b[1;32m     40\u001b[0m \u001b[38;5;28;01mif\u001b[39;00m requests_kwargs \u001b[38;5;129;01mis\u001b[39;00m \u001b[38;5;28;01mNone\u001b[39;00m:\n\u001b[1;32m     41\u001b[0m     requests_kwargs \u001b[38;5;241m=\u001b[39m {}\n\u001b[0;32m---> 42\u001b[0m data \u001b[38;5;241m=\u001b[39m \u001b[43m_urlopen\u001b[49m\u001b[43m(\u001b[49m\u001b[43murl\u001b[49m\u001b[43m,\u001b[49m\u001b[43m \u001b[49m\u001b[38;5;241;43m*\u001b[39;49m\u001b[38;5;241;43m*\u001b[39;49m\u001b[43mrequests_kwargs\u001b[49m\u001b[43m)\u001b[49m  \u001b[38;5;66;03m# type: ignore\u001b[39;00m\n\u001b[1;32m     43\u001b[0m data\u001b[38;5;241m.\u001b[39mseek(\u001b[38;5;241m0\u001b[39m)\n\u001b[1;32m     44\u001b[0m \u001b[38;5;28;01mreturn\u001b[39;00m data\n",
      "File \u001b[0;32m~/mambaforge/envs/py311/lib/python3.11/site-packages/erddapy/core/url.py:26\u001b[0m, in \u001b[0;36m_urlopen\u001b[0;34m(url, auth, **kwargs)\u001b[0m\n\u001b[1;32m     24\u001b[0m     response\u001b[38;5;241m.\u001b[39mraise_for_status()\n\u001b[1;32m     25\u001b[0m \u001b[38;5;28;01mexcept\u001b[39;00m httpx\u001b[38;5;241m.\u001b[39mHTTPError \u001b[38;5;28;01mas\u001b[39;00m err:\n\u001b[0;32m---> 26\u001b[0m     \u001b[38;5;28;01mraise\u001b[39;00m httpx\u001b[38;5;241m.\u001b[39mHTTPError(\u001b[38;5;124mf\u001b[39m\u001b[38;5;124m\"\u001b[39m\u001b[38;5;132;01m{\u001b[39;00mresponse\u001b[38;5;241m.\u001b[39mcontent\u001b[38;5;241m.\u001b[39mdecode()\u001b[38;5;132;01m}\u001b[39;00m\u001b[38;5;124m\"\u001b[39m) \u001b[38;5;28;01mfrom\u001b[39;00m \u001b[38;5;21;01merr\u001b[39;00m\n\u001b[1;32m     27\u001b[0m \u001b[38;5;28;01mreturn\u001b[39;00m io\u001b[38;5;241m.\u001b[39mBytesIO(response\u001b[38;5;241m.\u001b[39mcontent)\n",
      "\u001b[0;31mHTTPError\u001b[0m: Error {\n    code=404;\n    message=\"Not Found: Currently unknown datasetID=datasets_Mooring_23bs2c\";\n}\n"
     ]
    }
   ],
   "source": [
    "e = ERDDAP(server=server_url,\n",
    "          protocol='tabledap',\n",
    "          response='csv')\n",
    "\n",
    "for ds,dn in enumerate(dataset_name):\n",
    "        \n",
    "    e.dataset_id=dataset_name[dn]\n",
    "    \n",
    "    df = e.to_pandas(\n",
    "                index_col='time (UTC)',\n",
    "                parse_dates=True,\n",
    "                skiprows=(1,)  # units information can be dropped.\n",
    "            )\n",
    "    pdf.update({dn:df})"
   ]
  },
  {
   "cell_type": "code",
   "execution_count": null,
   "id": "32a2cbc2-0140-43f8-a1fa-51addc0dac63",
   "metadata": {},
   "outputs": [],
   "source": []
  }
 ],
 "metadata": {
  "kernelspec": {
   "display_name": "Python [conda env:py311] *",
   "language": "python",
   "name": "conda-env-py311-py"
  },
  "language_info": {
   "codemirror_mode": {
    "name": "ipython",
    "version": 3
   },
   "file_extension": ".py",
   "mimetype": "text/x-python",
   "name": "python",
   "nbconvert_exporter": "python",
   "pygments_lexer": "ipython3",
   "version": "3.11.10"
  }
 },
 "nbformat": 4,
 "nbformat_minor": 5
}
