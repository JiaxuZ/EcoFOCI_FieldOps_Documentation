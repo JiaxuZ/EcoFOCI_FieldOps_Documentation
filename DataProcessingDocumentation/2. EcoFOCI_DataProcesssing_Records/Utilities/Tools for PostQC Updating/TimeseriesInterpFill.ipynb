{
 "cells": [
  {
   "cell_type": "markdown",
   "id": "bbaebb04-732e-43f1-a422-0bd7cfb8a6fd",
   "metadata": {},
   "source": [
    "# Timeseries Singleton Fill\n",
    "\n",
    "Open netcdf file and fill in time any single point gaps - linearly\n",
    "\n",
    "__Todo__: Make file selection a widget\n"
   ]
  },
  {
   "cell_type": "code",
   "execution_count": 3,
   "id": "c43b49f1-cc87-4f64-8a78-93a3d5918e23",
   "metadata": {},
   "outputs": [],
   "source": [
    "import xarray as xr\n",
    "import datetime"
   ]
  },
  {
   "cell_type": "code",
   "execution_count": 98,
   "id": "52cf6054-0a68-4329-8500-26ae8edcb396",
   "metadata": {},
   "outputs": [],
   "source": [
    "####### edit these values to point to the file in question\n",
    "user_data_dir = '/Users/bell/ecoraid/2019/Moorings/19bs8a/final_data_cf/'\n",
    "filename = '19bs8a_s37_0054m.nc'\n",
    "interp_gap = sample_t['1H'] #designed sample frequency\n",
    "\n",
    "# 2*interp_gap\n",
    "sample_t = {'1T':'2T',\n",
    "            '30T':'1H',\n",
    "            '1H':'2H',\n",
    "           }"
   ]
  },
  {
   "cell_type": "markdown",
   "id": "d75c17c2-aa07-4863-ae7a-5976abcb532b",
   "metadata": {},
   "source": [
    "### load data and fill singleton gaps in time"
   ]
  },
  {
   "cell_type": "code",
   "execution_count": 99,
   "id": "bc5ad1f7-8149-4794-9a22-1f09c812ba5f",
   "metadata": {},
   "outputs": [],
   "source": [
    "xdf = xr.load_dataset(user_data_dir+filename)"
   ]
  },
  {
   "cell_type": "code",
   "execution_count": 100,
   "id": "ae0911a8-a334-4dba-a2e5-4ef91ba2c573",
   "metadata": {},
   "outputs": [
    {
     "name": "stdout",
     "output_type": "stream",
     "text": [
      "62 single points filled by linear interpolation\n"
     ]
    }
   ],
   "source": [
    "gaps_filled = (\n",
    "    xdf.interpolate_na(dim='time',max_gap=interp_gap)\n",
    "    .dropna(dim='time').sizes['time'] - xdf.dropna(dim='time').sizes['time'] \n",
    ")\n",
    "\n",
    "print(f'{gaps_filled} single points filled by linear interpolation')\n",
    "\n",
    "xdf = xdf.interpolate_na(dim='time',max_gap=interp_gap).dropna(dim='time')"
   ]
  },
  {
   "cell_type": "markdown",
   "id": "142abc48-5296-456d-a4e4-05ca3815d47f",
   "metadata": {},
   "source": [
    "### Update global attributes and Save"
   ]
  },
  {
   "cell_type": "code",
   "execution_count": 101,
   "id": "237609f6-135a-48c5-8d35-6791082943a6",
   "metadata": {
    "tags": []
   },
   "outputs": [],
   "source": [
    "xdf.attrs.update({'QC_indicator': 'ProbablyGood'})\n",
    "try:\n",
    "    xdf.attrs.update({'history':(xdf.history + \"\\n One pt gaps filled linearly: \"+ str(datetime.datetime.today()))})\n",
    "except:\n",
    "    pass\n",
    "\n",
    "xdf.attrs.update({'date_modified':str(datetime.datetime.today())})"
   ]
  },
  {
   "cell_type": "code",
   "execution_count": 103,
   "id": "a85ffe48-8658-433e-9a4c-92e7b7a456c6",
   "metadata": {
    "scrolled": true,
    "tags": []
   },
   "outputs": [
    {
     "name": "stderr",
     "output_type": "stream",
     "text": [
      "/var/folders/6r/n_mpcj7d7pdf9ncqvjy5vb8c0000jm/T/ipykernel_29211/3629195037.py:1: UserWarning: Times can't be serialized faithfully to int64 with requested units 'days since 1900-01-01'. Resolution of 'hours' needed. Serializing times to floating point instead. Set encoding['dtype'] to integer dtype to serialize to int64. Set encoding['dtype'] to floating point dtype to silence this warning.\n",
      "  xdf.to_netcdf(user_data_dir+filename,format=\"NETCDF3_CLASSIC\",encoding={'time':{'units':'days since 1900-01-01'}})\n"
     ]
    }
   ],
   "source": [
    "xdf.to_netcdf(user_data_dir+filename,format=\"NETCDF3_CLASSIC\",encoding={'time':{'units':'days since 1900-01-01'}})"
   ]
  },
  {
   "cell_type": "code",
   "execution_count": null,
   "id": "654acbfe-1d5b-4cc3-8555-4669a63a4020",
   "metadata": {},
   "outputs": [],
   "source": []
  }
 ],
 "metadata": {
  "kernelspec": {
   "display_name": "Python [conda env:p312]",
   "language": "python",
   "name": "conda-env-p312-py"
  },
  "language_info": {
   "codemirror_mode": {
    "name": "ipython",
    "version": 3
   },
   "file_extension": ".py",
   "mimetype": "text/x-python",
   "name": "python",
   "nbconvert_exporter": "python",
   "pygments_lexer": "ipython3",
   "version": "3.12.10"
  }
 },
 "nbformat": 4,
 "nbformat_minor": 5
}
